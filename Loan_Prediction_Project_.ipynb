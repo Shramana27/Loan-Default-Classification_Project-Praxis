{
  "cells": [
    {
      "cell_type": "markdown",
      "metadata": {
        "id": "_KET31JHzLBK"
      },
      "source": [
        "# INTRODUCTION"
      ]
    },
    {
      "cell_type": "markdown",
      "metadata": {
        "id": "Oh6S1gK-y5nb"
      },
      "source": [
        "Loan default prediction is a common problem for various financial companies and a well defined and known problem in data science. This is the type of problem banks (e.g Goldman Sachs), credit card companies (e.g. Visa), micro-credit banks (e.g. Grameen Bank) or FinTech companies (e.g. Lending Club) face whenever customers ask for a loan.\n",
        "\n"
      ]
    },
    {
      "cell_type": "markdown",
      "metadata": {
        "id": "Cku2InW8zPTT"
      },
      "source": [
        "# Problem Statement"
      ]
    },
    {
      "cell_type": "markdown",
      "metadata": {
        "id": "ZWyX1GTzzPOg"
      },
      "source": [
        "If a model is able to identify credit-worthy customers that were not recognized by traditional credit scores while minimizing their risk of default on the loans, this can be a lucrative niche market or micro-market.\n",
        "\n",
        "\n",
        "The loan default prediction is a problem of binary classification (do we lend or not). We will at first need to understand the data and we will achieve our goal of better understanding by analyzing the data with the data dictionary. This will give us a sense of what is relevant or which columns could be reworked to build features if necessary. We also expect to clean the dataset because it is common to find data with a sizeable amount of missing values or  trivial rows and columns. One recurring problem in binary classification is the possibility of class imbalance, or outcome imbalance."
      ]
    },
    {
      "cell_type": "markdown",
      "metadata": {
        "id": "Fp5eIkZTz14N"
      },
      "source": [
        "The dataset is taken from https://data.world/jaypeedevlin/lending-club-loan-data-2007-11\n",
        "\n",
        "There are 42538 rows and 111 columns in the dataset.\n",
        "\n",
        "In this project, we will analyze a dataset containing data on potential borrowers. The goal of this project is to build a model predicting the loan default of potential borrowers."
      ]
    },
    {
      "cell_type": "markdown",
      "metadata": {
        "id": "MmHLWdzu2U1Y"
      },
      "source": [
        "### Connecting to the Google Drive"
      ]
    },
    {
      "cell_type": "code",
      "execution_count": null,
      "metadata": {
        "colab": {
          "base_uri": "https://localhost:8080/"
        },
        "id": "lgC6mO_YzHOj",
        "outputId": "a67234ce-d689-46fa-d403-155a40710a32"
      },
      "outputs": [
        {
          "output_type": "stream",
          "name": "stdout",
          "text": [
            "Drive already mounted at /content/drive; to attempt to forcibly remount, call drive.mount(\"/content/drive\", force_remount=True).\n"
          ]
        }
      ],
      "source": [
        "from google.colab import drive\n",
        "drive.mount('/content/drive')"
      ]
    },
    {
      "cell_type": "markdown",
      "metadata": {
        "id": "xMca-tuP2cDn"
      },
      "source": [
        "### Importing Libraries"
      ]
    },
    {
      "cell_type": "code",
      "execution_count": null,
      "metadata": {
        "id": "HpkDmO-hzX_u"
      },
      "outputs": [],
      "source": [
        "#importing necessary libraries\n",
        "import warnings\n",
        "warnings.filterwarnings(\"ignore\")\n",
        "\n",
        "import numpy as np\n",
        "import pandas as pd\n",
        "import os\n",
        "import matplotlib.pyplot as plt\n",
        "\n",
        "from sklearn.model_selection import KFold, StratifiedKFold, cross_val_score\n",
        "from sklearn.model_selection import train_test_split\n",
        "from sklearn.utils.class_weight import compute_class_weight\n",
        "from sklearn.metrics import classification_report, accuracy_score, roc_curve, roc_auc_score, auc, precision_score, recall_score, f1_score, confusion_matrix,matthews_corrcoef\n",
        "from sklearn.preprocessing import LabelEncoder\n",
        "from sklearn.preprocessing import MinMaxScaler, RobustScaler\n",
        "from sklearn.model_selection import cross_val_predict\n",
        "\n",
        "from sklearn.ensemble import RandomForestClassifier\n",
        "from sklearn.tree import DecisionTreeClassifier\n",
        "from sklearn.neighbors import KNeighborsClassifier\n",
        "from xgboost import XGBClassifier\n",
        "\n",
        "import seaborn as sns\n",
        "\n",
        "%matplotlib inline"
      ]
    },
    {
      "cell_type": "markdown",
      "metadata": {
        "id": "iYCy0vHn8qV6"
      },
      "source": [
        "### Outlier Detection Function"
      ]
    },
    {
      "cell_type": "code",
      "execution_count": null,
      "metadata": {
        "id": "YLvanuRt8p7q"
      },
      "outputs": [],
      "source": [
        "def outlier_removal(dataframe,dataframe1,limit = 1.5):\n",
        "  for col in dataframe1:\n",
        "    rw = limit*(dataframe[col].quantile(0.75) - dataframe[col].quantile(0.25)) + dataframe[col].quantile(0.75)\n",
        "    lw = dataframe[col].quantile(0.25) - limit*(dataframe[col].quantile(0.75) - dataframe[col].quantile(0.25))\n",
        "\n",
        "    dataframe = dataframe[~(dataframe[col]>rw)]\n",
        "    dataframe = dataframe[~(dataframe[col]<lw)]\n",
        "    dataframe = dataframe\n",
        "\n",
        "    return dataframe"
      ]
    },
    {
      "cell_type": "markdown",
      "metadata": {
        "id": "u9u0p0bv2gog"
      },
      "source": [
        "### Calling the Data"
      ]
    },
    {
      "cell_type": "code",
      "execution_count": null,
      "metadata": {
        "colab": {
          "base_uri": "https://localhost:8080/",
          "height": 396
        },
        "id": "uXpBykGZz9Uv",
        "outputId": "a2c14993-3989-4557-ec54-8e6bbc58274b"
      },
      "outputs": [
        {
          "output_type": "stream",
          "name": "stdout",
          "text": [
            "(42538, 111)\n",
            "Index(['id', 'member_id', 'loan_amnt', 'funded_amnt', 'funded_amnt_inv',\n",
            "       'term', 'int_rate', 'installment', 'grade', 'sub_grade',\n",
            "       ...\n",
            "       'num_tl_90g_dpd_24m', 'num_tl_op_past_12m', 'pct_tl_nvr_dlq',\n",
            "       'percent_bc_gt_75', 'pub_rec_bankruptcies', 'tax_liens',\n",
            "       'tot_hi_cred_lim', 'total_bal_ex_mort', 'total_bc_limit',\n",
            "       'total_il_high_credit_limit'],\n",
            "      dtype='object', length=111)\n"
          ]
        },
        {
          "output_type": "execute_result",
          "data": {
            "text/plain": [
              "        id  member_id  loan_amnt  funded_amnt  funded_amnt_inv        term  \\\n",
              "0  1077501  1296599.0     5000.0       5000.0           4975.0   36 months   \n",
              "1  1077430  1314167.0     2500.0       2500.0           2500.0   60 months   \n",
              "\n",
              "  int_rate  installment grade sub_grade  ... num_tl_90g_dpd_24m  \\\n",
              "0   10.65%       162.87     B        B2  ...                NaN   \n",
              "1   15.27%        59.83     C        C4  ...                NaN   \n",
              "\n",
              "  num_tl_op_past_12m pct_tl_nvr_dlq  percent_bc_gt_75 pub_rec_bankruptcies  \\\n",
              "0                NaN            NaN               NaN                  0.0   \n",
              "1                NaN            NaN               NaN                  0.0   \n",
              "\n",
              "  tax_liens tot_hi_cred_lim total_bal_ex_mort total_bc_limit  \\\n",
              "0       0.0             NaN               NaN            NaN   \n",
              "1       0.0             NaN               NaN            NaN   \n",
              "\n",
              "  total_il_high_credit_limit  \n",
              "0                        NaN  \n",
              "1                        NaN  \n",
              "\n",
              "[2 rows x 111 columns]"
            ],
            "text/html": [
              "\n",
              "  <div id=\"df-86f9102e-5528-4312-916e-be05351b2628\">\n",
              "    <div class=\"colab-df-container\">\n",
              "      <div>\n",
              "<style scoped>\n",
              "    .dataframe tbody tr th:only-of-type {\n",
              "        vertical-align: middle;\n",
              "    }\n",
              "\n",
              "    .dataframe tbody tr th {\n",
              "        vertical-align: top;\n",
              "    }\n",
              "\n",
              "    .dataframe thead th {\n",
              "        text-align: right;\n",
              "    }\n",
              "</style>\n",
              "<table border=\"1\" class=\"dataframe\">\n",
              "  <thead>\n",
              "    <tr style=\"text-align: right;\">\n",
              "      <th></th>\n",
              "      <th>id</th>\n",
              "      <th>member_id</th>\n",
              "      <th>loan_amnt</th>\n",
              "      <th>funded_amnt</th>\n",
              "      <th>funded_amnt_inv</th>\n",
              "      <th>term</th>\n",
              "      <th>int_rate</th>\n",
              "      <th>installment</th>\n",
              "      <th>grade</th>\n",
              "      <th>sub_grade</th>\n",
              "      <th>...</th>\n",
              "      <th>num_tl_90g_dpd_24m</th>\n",
              "      <th>num_tl_op_past_12m</th>\n",
              "      <th>pct_tl_nvr_dlq</th>\n",
              "      <th>percent_bc_gt_75</th>\n",
              "      <th>pub_rec_bankruptcies</th>\n",
              "      <th>tax_liens</th>\n",
              "      <th>tot_hi_cred_lim</th>\n",
              "      <th>total_bal_ex_mort</th>\n",
              "      <th>total_bc_limit</th>\n",
              "      <th>total_il_high_credit_limit</th>\n",
              "    </tr>\n",
              "  </thead>\n",
              "  <tbody>\n",
              "    <tr>\n",
              "      <th>0</th>\n",
              "      <td>1077501</td>\n",
              "      <td>1296599.0</td>\n",
              "      <td>5000.0</td>\n",
              "      <td>5000.0</td>\n",
              "      <td>4975.0</td>\n",
              "      <td>36 months</td>\n",
              "      <td>10.65%</td>\n",
              "      <td>162.87</td>\n",
              "      <td>B</td>\n",
              "      <td>B2</td>\n",
              "      <td>...</td>\n",
              "      <td>NaN</td>\n",
              "      <td>NaN</td>\n",
              "      <td>NaN</td>\n",
              "      <td>NaN</td>\n",
              "      <td>0.0</td>\n",
              "      <td>0.0</td>\n",
              "      <td>NaN</td>\n",
              "      <td>NaN</td>\n",
              "      <td>NaN</td>\n",
              "      <td>NaN</td>\n",
              "    </tr>\n",
              "    <tr>\n",
              "      <th>1</th>\n",
              "      <td>1077430</td>\n",
              "      <td>1314167.0</td>\n",
              "      <td>2500.0</td>\n",
              "      <td>2500.0</td>\n",
              "      <td>2500.0</td>\n",
              "      <td>60 months</td>\n",
              "      <td>15.27%</td>\n",
              "      <td>59.83</td>\n",
              "      <td>C</td>\n",
              "      <td>C4</td>\n",
              "      <td>...</td>\n",
              "      <td>NaN</td>\n",
              "      <td>NaN</td>\n",
              "      <td>NaN</td>\n",
              "      <td>NaN</td>\n",
              "      <td>0.0</td>\n",
              "      <td>0.0</td>\n",
              "      <td>NaN</td>\n",
              "      <td>NaN</td>\n",
              "      <td>NaN</td>\n",
              "      <td>NaN</td>\n",
              "    </tr>\n",
              "  </tbody>\n",
              "</table>\n",
              "<p>2 rows × 111 columns</p>\n",
              "</div>\n",
              "      <button class=\"colab-df-convert\" onclick=\"convertToInteractive('df-86f9102e-5528-4312-916e-be05351b2628')\"\n",
              "              title=\"Convert this dataframe to an interactive table.\"\n",
              "              style=\"display:none;\">\n",
              "        \n",
              "  <svg xmlns=\"http://www.w3.org/2000/svg\" height=\"24px\"viewBox=\"0 0 24 24\"\n",
              "       width=\"24px\">\n",
              "    <path d=\"M0 0h24v24H0V0z\" fill=\"none\"/>\n",
              "    <path d=\"M18.56 5.44l.94 2.06.94-2.06 2.06-.94-2.06-.94-.94-2.06-.94 2.06-2.06.94zm-11 1L8.5 8.5l.94-2.06 2.06-.94-2.06-.94L8.5 2.5l-.94 2.06-2.06.94zm10 10l.94 2.06.94-2.06 2.06-.94-2.06-.94-.94-2.06-.94 2.06-2.06.94z\"/><path d=\"M17.41 7.96l-1.37-1.37c-.4-.4-.92-.59-1.43-.59-.52 0-1.04.2-1.43.59L10.3 9.45l-7.72 7.72c-.78.78-.78 2.05 0 2.83L4 21.41c.39.39.9.59 1.41.59.51 0 1.02-.2 1.41-.59l7.78-7.78 2.81-2.81c.8-.78.8-2.07 0-2.86zM5.41 20L4 18.59l7.72-7.72 1.47 1.35L5.41 20z\"/>\n",
              "  </svg>\n",
              "      </button>\n",
              "      \n",
              "  <style>\n",
              "    .colab-df-container {\n",
              "      display:flex;\n",
              "      flex-wrap:wrap;\n",
              "      gap: 12px;\n",
              "    }\n",
              "\n",
              "    .colab-df-convert {\n",
              "      background-color: #E8F0FE;\n",
              "      border: none;\n",
              "      border-radius: 50%;\n",
              "      cursor: pointer;\n",
              "      display: none;\n",
              "      fill: #1967D2;\n",
              "      height: 32px;\n",
              "      padding: 0 0 0 0;\n",
              "      width: 32px;\n",
              "    }\n",
              "\n",
              "    .colab-df-convert:hover {\n",
              "      background-color: #E2EBFA;\n",
              "      box-shadow: 0px 1px 2px rgba(60, 64, 67, 0.3), 0px 1px 3px 1px rgba(60, 64, 67, 0.15);\n",
              "      fill: #174EA6;\n",
              "    }\n",
              "\n",
              "    [theme=dark] .colab-df-convert {\n",
              "      background-color: #3B4455;\n",
              "      fill: #D2E3FC;\n",
              "    }\n",
              "\n",
              "    [theme=dark] .colab-df-convert:hover {\n",
              "      background-color: #434B5C;\n",
              "      box-shadow: 0px 1px 3px 1px rgba(0, 0, 0, 0.15);\n",
              "      filter: drop-shadow(0px 1px 2px rgba(0, 0, 0, 0.3));\n",
              "      fill: #FFFFFF;\n",
              "    }\n",
              "  </style>\n",
              "\n",
              "      <script>\n",
              "        const buttonEl =\n",
              "          document.querySelector('#df-86f9102e-5528-4312-916e-be05351b2628 button.colab-df-convert');\n",
              "        buttonEl.style.display =\n",
              "          google.colab.kernel.accessAllowed ? 'block' : 'none';\n",
              "\n",
              "        async function convertToInteractive(key) {\n",
              "          const element = document.querySelector('#df-86f9102e-5528-4312-916e-be05351b2628');\n",
              "          const dataTable =\n",
              "            await google.colab.kernel.invokeFunction('convertToInteractive',\n",
              "                                                     [key], {});\n",
              "          if (!dataTable) return;\n",
              "\n",
              "          const docLinkHtml = 'Like what you see? Visit the ' +\n",
              "            '<a target=\"_blank\" href=https://colab.research.google.com/notebooks/data_table.ipynb>data table notebook</a>'\n",
              "            + ' to learn more about interactive tables.';\n",
              "          element.innerHTML = '';\n",
              "          dataTable['output_type'] = 'display_data';\n",
              "          await google.colab.output.renderOutput(dataTable, element);\n",
              "          const docLink = document.createElement('div');\n",
              "          docLink.innerHTML = docLinkHtml;\n",
              "          element.appendChild(docLink);\n",
              "        }\n",
              "      </script>\n",
              "    </div>\n",
              "  </div>\n",
              "  "
            ]
          },
          "metadata": {},
          "execution_count": 122
        }
      ],
      "source": [
        "#importing the dataset\n",
        "df = pd.read_csv(\"/content/drive/MyDrive/LoanStats3a_.csv\", low_memory = False, skiprows = 1)\n",
        "\n",
        "print(df.shape)\n",
        "\n",
        "print(df.columns)\n",
        "\n",
        "df.head(2)"
      ]
    },
    {
      "cell_type": "code",
      "execution_count": null,
      "metadata": {
        "colab": {
          "base_uri": "https://localhost:8080/"
        },
        "id": "2Ik3sFzx0j2_",
        "outputId": "ef959795-b62a-44ad-9d4f-942048eea216"
      },
      "outputs": [
        {
          "output_type": "execute_result",
          "data": {
            "text/plain": [
              "id                              1077501\n",
              "member_id                     1296599.0\n",
              "loan_amnt                        5000.0\n",
              "funded_amnt                      5000.0\n",
              "funded_amnt_inv                  4975.0\n",
              "                                ...    \n",
              "tax_liens                           0.0\n",
              "tot_hi_cred_lim                     NaN\n",
              "total_bal_ex_mort                   NaN\n",
              "total_bc_limit                      NaN\n",
              "total_il_high_credit_limit          NaN\n",
              "Name: 0, Length: 111, dtype: object"
            ]
          },
          "metadata": {},
          "execution_count": 123
        }
      ],
      "source": [
        "#Loooking at the first row of the dataframe in order to understand the columns\n",
        "df.iloc[0]"
      ]
    },
    {
      "cell_type": "code",
      "execution_count": null,
      "metadata": {
        "colab": {
          "base_uri": "https://localhost:8080/"
        },
        "id": "ybK_s7BUCRbf",
        "outputId": "ec4cfcb3-be3a-46a9-b67f-9fd55f872675"
      },
      "outputs": [
        {
          "output_type": "execute_result",
          "data": {
            "text/plain": [
              "0      Borrower added on 12/22/11 > I need to upgra...\n",
              "1      Borrower added on 12/22/11 > I plan to use t...\n",
              "Name: desc, dtype: object"
            ]
          },
          "metadata": {},
          "execution_count": 124
        }
      ],
      "source": [
        "df.desc.head(2)"
      ]
    },
    {
      "cell_type": "code",
      "execution_count": null,
      "metadata": {
        "colab": {
          "base_uri": "https://localhost:8080/"
        },
        "id": "Mg4mixniCW_u",
        "outputId": "00da89a9-4e40-4a3f-b82e-abf026198cc5"
      },
      "outputs": [
        {
          "output_type": "execute_result",
          "data": {
            "text/plain": [
              "0    https://lendingclub.com/browse/loanDetail.acti...\n",
              "1    https://lendingclub.com/browse/loanDetail.acti...\n",
              "Name: url, dtype: object"
            ]
          },
          "metadata": {},
          "execution_count": 125
        }
      ],
      "source": [
        "df.url.head(2)"
      ]
    },
    {
      "cell_type": "markdown",
      "metadata": {
        "id": "cmIcf2nF1KMl"
      },
      "source": [
        "As we can see, the number of columns will be something to work on. We will remove the *desc* and *url* columns mostly because it leads to or describes information that is not necessary for our analysis."
      ]
    },
    {
      "cell_type": "code",
      "execution_count": null,
      "metadata": {
        "id": "fHQvr9l00u9L"
      },
      "outputs": [],
      "source": [
        "df1 = df.drop(['desc','url'],axis=1)"
      ]
    },
    {
      "cell_type": "code",
      "execution_count": null,
      "metadata": {
        "colab": {
          "base_uri": "https://localhost:8080/",
          "height": 394
        },
        "id": "pGvoCL4W0veV",
        "outputId": "d157a59a-a16a-4e99-c22f-93c9c01df820"
      },
      "outputs": [
        {
          "output_type": "execute_result",
          "data": {
            "text/plain": [
              "          member_id     loan_amnt   funded_amnt  funded_amnt_inv  \\\n",
              "count  4.253500e+04  42535.000000  42535.000000     42535.000000   \n",
              "mean   8.257026e+05  11089.722581  10821.585753     10139.830603   \n",
              "std    2.795409e+05   7410.938391   7146.914675      7131.686447   \n",
              "min    7.047300e+04    500.000000    500.000000         0.000000   \n",
              "25%    6.384795e+05   5200.000000   5000.000000      4950.000000   \n",
              "50%    8.241780e+05   9700.000000   9600.000000      8500.000000   \n",
              "75%    1.033946e+06  15000.000000  15000.000000     14000.000000   \n",
              "max    1.314167e+06  35000.000000  35000.000000     35000.000000   \n",
              "\n",
              "        installment    annual_inc           dti   delinq_2yrs  inq_last_6mths  \\\n",
              "count  42535.000000  4.253100e+04  42535.000000  42506.000000    42506.000000   \n",
              "mean     322.623063  6.913656e+04     13.373043      0.152449        1.081424   \n",
              "std      208.927216  6.409635e+04      6.726315      0.512406        1.527455   \n",
              "min       15.670000  1.896000e+03      0.000000      0.000000        0.000000   \n",
              "25%      165.520000  4.000000e+04      8.200000      0.000000        0.000000   \n",
              "50%      277.690000  5.900000e+04     13.470000      0.000000        1.000000   \n",
              "75%      428.180000  8.250000e+04     18.680000      0.000000        2.000000   \n",
              "max     1305.190000  6.000000e+06     29.990000     13.000000       33.000000   \n",
              "\n",
              "       mths_since_last_delinq  ...  num_tl_90g_dpd_24m  num_tl_op_past_12m  \\\n",
              "count            15609.000000  ...                 0.0                 0.0   \n",
              "mean                35.017618  ...                 NaN                 NaN   \n",
              "std                 22.418427  ...                 NaN                 NaN   \n",
              "min                  0.000000  ...                 NaN                 NaN   \n",
              "25%                 17.000000  ...                 NaN                 NaN   \n",
              "50%                 33.000000  ...                 NaN                 NaN   \n",
              "75%                 51.000000  ...                 NaN                 NaN   \n",
              "max                120.000000  ...                 NaN                 NaN   \n",
              "\n",
              "       pct_tl_nvr_dlq  percent_bc_gt_75  pub_rec_bankruptcies     tax_liens  \\\n",
              "count             0.0               0.0          41170.000000  42430.000000   \n",
              "mean              NaN               NaN              0.045227      0.000024   \n",
              "std               NaN               NaN              0.208737      0.004855   \n",
              "min               NaN               NaN              0.000000      0.000000   \n",
              "25%               NaN               NaN              0.000000      0.000000   \n",
              "50%               NaN               NaN              0.000000      0.000000   \n",
              "75%               NaN               NaN              0.000000      0.000000   \n",
              "max               NaN               NaN              2.000000      1.000000   \n",
              "\n",
              "       tot_hi_cred_lim  total_bal_ex_mort  total_bc_limit  \\\n",
              "count              0.0                0.0             0.0   \n",
              "mean               NaN                NaN             NaN   \n",
              "std                NaN                NaN             NaN   \n",
              "min                NaN                NaN             NaN   \n",
              "25%                NaN                NaN             NaN   \n",
              "50%                NaN                NaN             NaN   \n",
              "75%                NaN                NaN             NaN   \n",
              "max                NaN                NaN             NaN   \n",
              "\n",
              "       total_il_high_credit_limit  \n",
              "count                         0.0  \n",
              "mean                          NaN  \n",
              "std                           NaN  \n",
              "min                           NaN  \n",
              "25%                           NaN  \n",
              "50%                           NaN  \n",
              "75%                           NaN  \n",
              "max                           NaN  \n",
              "\n",
              "[8 rows x 86 columns]"
            ],
            "text/html": [
              "\n",
              "  <div id=\"df-afbc8c7a-a87b-4c38-84af-6e5315dcc7e7\">\n",
              "    <div class=\"colab-df-container\">\n",
              "      <div>\n",
              "<style scoped>\n",
              "    .dataframe tbody tr th:only-of-type {\n",
              "        vertical-align: middle;\n",
              "    }\n",
              "\n",
              "    .dataframe tbody tr th {\n",
              "        vertical-align: top;\n",
              "    }\n",
              "\n",
              "    .dataframe thead th {\n",
              "        text-align: right;\n",
              "    }\n",
              "</style>\n",
              "<table border=\"1\" class=\"dataframe\">\n",
              "  <thead>\n",
              "    <tr style=\"text-align: right;\">\n",
              "      <th></th>\n",
              "      <th>member_id</th>\n",
              "      <th>loan_amnt</th>\n",
              "      <th>funded_amnt</th>\n",
              "      <th>funded_amnt_inv</th>\n",
              "      <th>installment</th>\n",
              "      <th>annual_inc</th>\n",
              "      <th>dti</th>\n",
              "      <th>delinq_2yrs</th>\n",
              "      <th>inq_last_6mths</th>\n",
              "      <th>mths_since_last_delinq</th>\n",
              "      <th>...</th>\n",
              "      <th>num_tl_90g_dpd_24m</th>\n",
              "      <th>num_tl_op_past_12m</th>\n",
              "      <th>pct_tl_nvr_dlq</th>\n",
              "      <th>percent_bc_gt_75</th>\n",
              "      <th>pub_rec_bankruptcies</th>\n",
              "      <th>tax_liens</th>\n",
              "      <th>tot_hi_cred_lim</th>\n",
              "      <th>total_bal_ex_mort</th>\n",
              "      <th>total_bc_limit</th>\n",
              "      <th>total_il_high_credit_limit</th>\n",
              "    </tr>\n",
              "  </thead>\n",
              "  <tbody>\n",
              "    <tr>\n",
              "      <th>count</th>\n",
              "      <td>4.253500e+04</td>\n",
              "      <td>42535.000000</td>\n",
              "      <td>42535.000000</td>\n",
              "      <td>42535.000000</td>\n",
              "      <td>42535.000000</td>\n",
              "      <td>4.253100e+04</td>\n",
              "      <td>42535.000000</td>\n",
              "      <td>42506.000000</td>\n",
              "      <td>42506.000000</td>\n",
              "      <td>15609.000000</td>\n",
              "      <td>...</td>\n",
              "      <td>0.0</td>\n",
              "      <td>0.0</td>\n",
              "      <td>0.0</td>\n",
              "      <td>0.0</td>\n",
              "      <td>41170.000000</td>\n",
              "      <td>42430.000000</td>\n",
              "      <td>0.0</td>\n",
              "      <td>0.0</td>\n",
              "      <td>0.0</td>\n",
              "      <td>0.0</td>\n",
              "    </tr>\n",
              "    <tr>\n",
              "      <th>mean</th>\n",
              "      <td>8.257026e+05</td>\n",
              "      <td>11089.722581</td>\n",
              "      <td>10821.585753</td>\n",
              "      <td>10139.830603</td>\n",
              "      <td>322.623063</td>\n",
              "      <td>6.913656e+04</td>\n",
              "      <td>13.373043</td>\n",
              "      <td>0.152449</td>\n",
              "      <td>1.081424</td>\n",
              "      <td>35.017618</td>\n",
              "      <td>...</td>\n",
              "      <td>NaN</td>\n",
              "      <td>NaN</td>\n",
              "      <td>NaN</td>\n",
              "      <td>NaN</td>\n",
              "      <td>0.045227</td>\n",
              "      <td>0.000024</td>\n",
              "      <td>NaN</td>\n",
              "      <td>NaN</td>\n",
              "      <td>NaN</td>\n",
              "      <td>NaN</td>\n",
              "    </tr>\n",
              "    <tr>\n",
              "      <th>std</th>\n",
              "      <td>2.795409e+05</td>\n",
              "      <td>7410.938391</td>\n",
              "      <td>7146.914675</td>\n",
              "      <td>7131.686447</td>\n",
              "      <td>208.927216</td>\n",
              "      <td>6.409635e+04</td>\n",
              "      <td>6.726315</td>\n",
              "      <td>0.512406</td>\n",
              "      <td>1.527455</td>\n",
              "      <td>22.418427</td>\n",
              "      <td>...</td>\n",
              "      <td>NaN</td>\n",
              "      <td>NaN</td>\n",
              "      <td>NaN</td>\n",
              "      <td>NaN</td>\n",
              "      <td>0.208737</td>\n",
              "      <td>0.004855</td>\n",
              "      <td>NaN</td>\n",
              "      <td>NaN</td>\n",
              "      <td>NaN</td>\n",
              "      <td>NaN</td>\n",
              "    </tr>\n",
              "    <tr>\n",
              "      <th>min</th>\n",
              "      <td>7.047300e+04</td>\n",
              "      <td>500.000000</td>\n",
              "      <td>500.000000</td>\n",
              "      <td>0.000000</td>\n",
              "      <td>15.670000</td>\n",
              "      <td>1.896000e+03</td>\n",
              "      <td>0.000000</td>\n",
              "      <td>0.000000</td>\n",
              "      <td>0.000000</td>\n",
              "      <td>0.000000</td>\n",
              "      <td>...</td>\n",
              "      <td>NaN</td>\n",
              "      <td>NaN</td>\n",
              "      <td>NaN</td>\n",
              "      <td>NaN</td>\n",
              "      <td>0.000000</td>\n",
              "      <td>0.000000</td>\n",
              "      <td>NaN</td>\n",
              "      <td>NaN</td>\n",
              "      <td>NaN</td>\n",
              "      <td>NaN</td>\n",
              "    </tr>\n",
              "    <tr>\n",
              "      <th>25%</th>\n",
              "      <td>6.384795e+05</td>\n",
              "      <td>5200.000000</td>\n",
              "      <td>5000.000000</td>\n",
              "      <td>4950.000000</td>\n",
              "      <td>165.520000</td>\n",
              "      <td>4.000000e+04</td>\n",
              "      <td>8.200000</td>\n",
              "      <td>0.000000</td>\n",
              "      <td>0.000000</td>\n",
              "      <td>17.000000</td>\n",
              "      <td>...</td>\n",
              "      <td>NaN</td>\n",
              "      <td>NaN</td>\n",
              "      <td>NaN</td>\n",
              "      <td>NaN</td>\n",
              "      <td>0.000000</td>\n",
              "      <td>0.000000</td>\n",
              "      <td>NaN</td>\n",
              "      <td>NaN</td>\n",
              "      <td>NaN</td>\n",
              "      <td>NaN</td>\n",
              "    </tr>\n",
              "    <tr>\n",
              "      <th>50%</th>\n",
              "      <td>8.241780e+05</td>\n",
              "      <td>9700.000000</td>\n",
              "      <td>9600.000000</td>\n",
              "      <td>8500.000000</td>\n",
              "      <td>277.690000</td>\n",
              "      <td>5.900000e+04</td>\n",
              "      <td>13.470000</td>\n",
              "      <td>0.000000</td>\n",
              "      <td>1.000000</td>\n",
              "      <td>33.000000</td>\n",
              "      <td>...</td>\n",
              "      <td>NaN</td>\n",
              "      <td>NaN</td>\n",
              "      <td>NaN</td>\n",
              "      <td>NaN</td>\n",
              "      <td>0.000000</td>\n",
              "      <td>0.000000</td>\n",
              "      <td>NaN</td>\n",
              "      <td>NaN</td>\n",
              "      <td>NaN</td>\n",
              "      <td>NaN</td>\n",
              "    </tr>\n",
              "    <tr>\n",
              "      <th>75%</th>\n",
              "      <td>1.033946e+06</td>\n",
              "      <td>15000.000000</td>\n",
              "      <td>15000.000000</td>\n",
              "      <td>14000.000000</td>\n",
              "      <td>428.180000</td>\n",
              "      <td>8.250000e+04</td>\n",
              "      <td>18.680000</td>\n",
              "      <td>0.000000</td>\n",
              "      <td>2.000000</td>\n",
              "      <td>51.000000</td>\n",
              "      <td>...</td>\n",
              "      <td>NaN</td>\n",
              "      <td>NaN</td>\n",
              "      <td>NaN</td>\n",
              "      <td>NaN</td>\n",
              "      <td>0.000000</td>\n",
              "      <td>0.000000</td>\n",
              "      <td>NaN</td>\n",
              "      <td>NaN</td>\n",
              "      <td>NaN</td>\n",
              "      <td>NaN</td>\n",
              "    </tr>\n",
              "    <tr>\n",
              "      <th>max</th>\n",
              "      <td>1.314167e+06</td>\n",
              "      <td>35000.000000</td>\n",
              "      <td>35000.000000</td>\n",
              "      <td>35000.000000</td>\n",
              "      <td>1305.190000</td>\n",
              "      <td>6.000000e+06</td>\n",
              "      <td>29.990000</td>\n",
              "      <td>13.000000</td>\n",
              "      <td>33.000000</td>\n",
              "      <td>120.000000</td>\n",
              "      <td>...</td>\n",
              "      <td>NaN</td>\n",
              "      <td>NaN</td>\n",
              "      <td>NaN</td>\n",
              "      <td>NaN</td>\n",
              "      <td>2.000000</td>\n",
              "      <td>1.000000</td>\n",
              "      <td>NaN</td>\n",
              "      <td>NaN</td>\n",
              "      <td>NaN</td>\n",
              "      <td>NaN</td>\n",
              "    </tr>\n",
              "  </tbody>\n",
              "</table>\n",
              "<p>8 rows × 86 columns</p>\n",
              "</div>\n",
              "      <button class=\"colab-df-convert\" onclick=\"convertToInteractive('df-afbc8c7a-a87b-4c38-84af-6e5315dcc7e7')\"\n",
              "              title=\"Convert this dataframe to an interactive table.\"\n",
              "              style=\"display:none;\">\n",
              "        \n",
              "  <svg xmlns=\"http://www.w3.org/2000/svg\" height=\"24px\"viewBox=\"0 0 24 24\"\n",
              "       width=\"24px\">\n",
              "    <path d=\"M0 0h24v24H0V0z\" fill=\"none\"/>\n",
              "    <path d=\"M18.56 5.44l.94 2.06.94-2.06 2.06-.94-2.06-.94-.94-2.06-.94 2.06-2.06.94zm-11 1L8.5 8.5l.94-2.06 2.06-.94-2.06-.94L8.5 2.5l-.94 2.06-2.06.94zm10 10l.94 2.06.94-2.06 2.06-.94-2.06-.94-.94-2.06-.94 2.06-2.06.94z\"/><path d=\"M17.41 7.96l-1.37-1.37c-.4-.4-.92-.59-1.43-.59-.52 0-1.04.2-1.43.59L10.3 9.45l-7.72 7.72c-.78.78-.78 2.05 0 2.83L4 21.41c.39.39.9.59 1.41.59.51 0 1.02-.2 1.41-.59l7.78-7.78 2.81-2.81c.8-.78.8-2.07 0-2.86zM5.41 20L4 18.59l7.72-7.72 1.47 1.35L5.41 20z\"/>\n",
              "  </svg>\n",
              "      </button>\n",
              "      \n",
              "  <style>\n",
              "    .colab-df-container {\n",
              "      display:flex;\n",
              "      flex-wrap:wrap;\n",
              "      gap: 12px;\n",
              "    }\n",
              "\n",
              "    .colab-df-convert {\n",
              "      background-color: #E8F0FE;\n",
              "      border: none;\n",
              "      border-radius: 50%;\n",
              "      cursor: pointer;\n",
              "      display: none;\n",
              "      fill: #1967D2;\n",
              "      height: 32px;\n",
              "      padding: 0 0 0 0;\n",
              "      width: 32px;\n",
              "    }\n",
              "\n",
              "    .colab-df-convert:hover {\n",
              "      background-color: #E2EBFA;\n",
              "      box-shadow: 0px 1px 2px rgba(60, 64, 67, 0.3), 0px 1px 3px 1px rgba(60, 64, 67, 0.15);\n",
              "      fill: #174EA6;\n",
              "    }\n",
              "\n",
              "    [theme=dark] .colab-df-convert {\n",
              "      background-color: #3B4455;\n",
              "      fill: #D2E3FC;\n",
              "    }\n",
              "\n",
              "    [theme=dark] .colab-df-convert:hover {\n",
              "      background-color: #434B5C;\n",
              "      box-shadow: 0px 1px 3px 1px rgba(0, 0, 0, 0.15);\n",
              "      filter: drop-shadow(0px 1px 2px rgba(0, 0, 0, 0.3));\n",
              "      fill: #FFFFFF;\n",
              "    }\n",
              "  </style>\n",
              "\n",
              "      <script>\n",
              "        const buttonEl =\n",
              "          document.querySelector('#df-afbc8c7a-a87b-4c38-84af-6e5315dcc7e7 button.colab-df-convert');\n",
              "        buttonEl.style.display =\n",
              "          google.colab.kernel.accessAllowed ? 'block' : 'none';\n",
              "\n",
              "        async function convertToInteractive(key) {\n",
              "          const element = document.querySelector('#df-afbc8c7a-a87b-4c38-84af-6e5315dcc7e7');\n",
              "          const dataTable =\n",
              "            await google.colab.kernel.invokeFunction('convertToInteractive',\n",
              "                                                     [key], {});\n",
              "          if (!dataTable) return;\n",
              "\n",
              "          const docLinkHtml = 'Like what you see? Visit the ' +\n",
              "            '<a target=\"_blank\" href=https://colab.research.google.com/notebooks/data_table.ipynb>data table notebook</a>'\n",
              "            + ' to learn more about interactive tables.';\n",
              "          element.innerHTML = '';\n",
              "          dataTable['output_type'] = 'display_data';\n",
              "          await google.colab.output.renderOutput(dataTable, element);\n",
              "          const docLink = document.createElement('div');\n",
              "          docLink.innerHTML = docLinkHtml;\n",
              "          element.appendChild(docLink);\n",
              "        }\n",
              "      </script>\n",
              "    </div>\n",
              "  </div>\n",
              "  "
            ]
          },
          "metadata": {},
          "execution_count": 127
        }
      ],
      "source": [
        "df1.describe()"
      ]
    },
    {
      "cell_type": "markdown",
      "metadata": {
        "id": "eXZ4QwKd29LM"
      },
      "source": [
        "## Removal of NULL Data"
      ]
    },
    {
      "cell_type": "markdown",
      "metadata": {
        "id": "5_Dgw8gJ2oXM"
      },
      "source": [
        "Another notable thing to remove is to remove columns with more than 50% missing values. It would be time consuming and inefficient to deal with the tremendous amount of missing values from these columns."
      ]
    },
    {
      "cell_type": "code",
      "execution_count": null,
      "metadata": {
        "colab": {
          "base_uri": "https://localhost:8080/"
        },
        "id": "HsV0GRRM0v3F",
        "outputId": "098abaa1-7184-418c-d446-669e7fbdbf79"
      },
      "outputs": [
        {
          "output_type": "execute_result",
          "data": {
            "text/plain": [
              "id                                0\n",
              "member_id                         3\n",
              "loan_amnt                         3\n",
              "funded_amnt                       3\n",
              "funded_amnt_inv                   3\n",
              "                              ...  \n",
              "tax_liens                       108\n",
              "tot_hi_cred_lim               42538\n",
              "total_bal_ex_mort             42538\n",
              "total_bc_limit                42538\n",
              "total_il_high_credit_limit    42538\n",
              "Length: 109, dtype: int64"
            ]
          },
          "metadata": {},
          "execution_count": 128
        }
      ],
      "source": [
        "df1.isnull().sum()"
      ]
    },
    {
      "cell_type": "code",
      "execution_count": null,
      "metadata": {
        "colab": {
          "base_uri": "https://localhost:8080/"
        },
        "id": "M5kK1LOvM_1p",
        "outputId": "d233a2e8-f84b-4a0f-ff7b-09b669688db1"
      },
      "outputs": [
        {
          "output_type": "execute_result",
          "data": {
            "text/plain": [
              "(42538, 109)"
            ]
          },
          "metadata": {},
          "execution_count": 129
        }
      ],
      "source": [
        "df1.shape"
      ]
    },
    {
      "cell_type": "code",
      "execution_count": null,
      "metadata": {
        "colab": {
          "base_uri": "https://localhost:8080/"
        },
        "id": "w3y9pn5j2z6u",
        "outputId": "3e7cb531-77a8-4aea-d83b-a5b57e0e6fab"
      },
      "outputs": [
        {
          "output_type": "execute_result",
          "data": {
            "text/plain": [
              "(42538, 52)"
            ]
          },
          "metadata": {},
          "execution_count": 130
        }
      ],
      "source": [
        "# count half point of the dataset.\n",
        "half_point = len(df1) / 2\n",
        "df2 = df1.dropna(thresh=half_point, axis=1) #dropping those columns with more than 50% null values\n",
        "df2.shape"
      ]
    },
    {
      "cell_type": "markdown",
      "metadata": {
        "id": "SM7u_SDmkHVh"
      },
      "source": [
        "NOTE: Dropped those columns whose number of missing values is more than 50%."
      ]
    },
    {
      "cell_type": "markdown",
      "metadata": {
        "id": "KMi-NcsU4fmP"
      },
      "source": [
        "## Removal of Unuseful Variables"
      ]
    },
    {
      "cell_type": "code",
      "execution_count": null,
      "metadata": {
        "colab": {
          "base_uri": "https://localhost:8080/"
        },
        "id": "3PHOJVB75Bao",
        "outputId": "6bfe51f1-b0a4-440a-dab5-c621e6524ed1"
      },
      "outputs": [
        {
          "output_type": "execute_result",
          "data": {
            "text/plain": [
              "US Army                             139\n",
              "Bank of America                     115\n",
              "IBM                                  72\n",
              "Kaiser Permanente                    61\n",
              "AT&T                                 61\n",
              "                                   ... \n",
              "Regional Elite Airlines Services      1\n",
              "Mass General Medical Group            1\n",
              "Kontera                               1\n",
              "Southeast Georgia Health ystem        1\n",
              "Homemaker                             1\n",
              "Name: emp_title, Length: 30658, dtype: int64"
            ]
          },
          "metadata": {},
          "execution_count": 131
        }
      ],
      "source": [
        "df2['emp_title'].value_counts()"
      ]
    },
    {
      "cell_type": "markdown",
      "metadata": {
        "id": "cLr650hKNmJF"
      },
      "source": [
        "NOTE: There are so many different categories in 'emp_title' with very few count in each of the categories and grouping them is also not possible since they are quite distinct. Also, keeping this variable would unnecessarily increase the number of columns after one-hot encoding and also, keeping this variable does not make much sense on the target variable. \n",
        "\n"
      ]
    },
    {
      "cell_type": "code",
      "execution_count": null,
      "metadata": {
        "colab": {
          "base_uri": "https://localhost:8080/"
        },
        "id": "TTwly0r8RWVV",
        "outputId": "e57bf8ab-42b6-4fdb-8bfa-f8d6740d3238"
      },
      "outputs": [
        {
          "output_type": "execute_result",
          "data": {
            "text/plain": [
              "Mar-2013    1070\n",
              "Dec-2014     949\n",
              "May-2013     943\n",
              "Feb-2013     906\n",
              "Mar-2012     893\n",
              "            ... \n",
              "Jun-2008      20\n",
              "Mar-2008      18\n",
              "Jan-2008      11\n",
              "Feb-2008       8\n",
              "Dec-2007       2\n",
              "Name: last_pymnt_d, Length: 109, dtype: int64"
            ]
          },
          "metadata": {},
          "execution_count": 132
        }
      ],
      "source": [
        "df2.last_pymnt_d.value_counts()"
      ]
    },
    {
      "cell_type": "code",
      "execution_count": null,
      "metadata": {
        "colab": {
          "base_uri": "https://localhost:8080/"
        },
        "id": "yL9-9lx_R-wS",
        "outputId": "68e279ce-8f8c-4395-f29e-c5897eb9d1e4"
      },
      "outputs": [
        {
          "output_type": "execute_result",
          "data": {
            "text/plain": [
              "100xx    649\n",
              "945xx    559\n",
              "606xx    548\n",
              "112xx    538\n",
              "070xx    503\n",
              "        ... \n",
              "823xx      1\n",
              "965xx      1\n",
              "388xx      1\n",
              "386xx      1\n",
              "036xx      1\n",
              "Name: zip_code, Length: 837, dtype: int64"
            ]
          },
          "metadata": {},
          "execution_count": 133
        }
      ],
      "source": [
        "df2.zip_code.value_counts()"
      ]
    },
    {
      "cell_type": "markdown",
      "metadata": {
        "id": "0tn828ZQQKeD"
      },
      "source": [
        "NOTE: \"issue_d\" is the date on which the loan was issued. This variable should not have any impact on whether the borrower would default the loan or not.\n",
        "\n",
        "recoveries:post charge off gross recovery - this variable is talking about after charge-off gross recovery which is not important\n",
        "\n",
        "collection_recovery_fee: post charge off collection fee - this is also referring to after charge off recovery fee\n",
        "\n",
        "last_pymnt_d: Last month payment was received - again, the last payment date is not important\n",
        "\n"
      ]
    },
    {
      "cell_type": "code",
      "execution_count": null,
      "metadata": {
        "colab": {
          "base_uri": "https://localhost:8080/"
        },
        "id": "yIUnZxa23Glc",
        "outputId": "6cd24acc-84a1-4d76-9172-773f5acb22db"
      },
      "outputs": [
        {
          "output_type": "execute_result",
          "data": {
            "text/plain": [
              "(42538, 44)"
            ]
          },
          "metadata": {},
          "execution_count": 134
        }
      ],
      "source": [
        "#removing the id columns and the other non-important columns\n",
        "df3 = df2.drop(['id', 'member_id', 'emp_title',\n",
        "                'issue_d','zip_code', 'recoveries', 'collection_recovery_fee','last_pymnt_d'], axis = 1)\n",
        "\n",
        "df3.shape"
      ]
    },
    {
      "cell_type": "code",
      "execution_count": null,
      "metadata": {
        "colab": {
          "base_uri": "https://localhost:8080/"
        },
        "id": "t6XnNPjKR1TA",
        "outputId": "6b3aa79b-39c3-4b67-a135-5c89c735f7f6"
      },
      "outputs": [
        {
          "output_type": "stream",
          "name": "stdout",
          "text": [
            "<class 'pandas.core.frame.DataFrame'>\n",
            "RangeIndex: 42538 entries, 0 to 42537\n",
            "Data columns (total 44 columns):\n",
            " #   Column                      Non-Null Count  Dtype  \n",
            "---  ------                      --------------  -----  \n",
            " 0   loan_amnt                   42535 non-null  float64\n",
            " 1   funded_amnt                 42535 non-null  float64\n",
            " 2   funded_amnt_inv             42535 non-null  float64\n",
            " 3   term                        42535 non-null  object \n",
            " 4   int_rate                    42535 non-null  object \n",
            " 5   installment                 42535 non-null  float64\n",
            " 6   grade                       42535 non-null  object \n",
            " 7   sub_grade                   42535 non-null  object \n",
            " 8   emp_length                  41423 non-null  object \n",
            " 9   home_ownership              42535 non-null  object \n",
            " 10  annual_inc                  42531 non-null  float64\n",
            " 11  verification_status         42535 non-null  object \n",
            " 12  loan_status                 42535 non-null  object \n",
            " 13  pymnt_plan                  42535 non-null  object \n",
            " 14  purpose                     42535 non-null  object \n",
            " 15  title                       42522 non-null  object \n",
            " 16  addr_state                  42535 non-null  object \n",
            " 17  dti                         42535 non-null  float64\n",
            " 18  delinq_2yrs                 42506 non-null  float64\n",
            " 19  earliest_cr_line            42506 non-null  object \n",
            " 20  inq_last_6mths              42506 non-null  float64\n",
            " 21  open_acc                    42506 non-null  float64\n",
            " 22  pub_rec                     42506 non-null  float64\n",
            " 23  revol_bal                   42535 non-null  float64\n",
            " 24  revol_util                  42445 non-null  object \n",
            " 25  total_acc                   42506 non-null  float64\n",
            " 26  initial_list_status         42535 non-null  object \n",
            " 27  out_prncp                   42535 non-null  float64\n",
            " 28  out_prncp_inv               42535 non-null  float64\n",
            " 29  total_pymnt                 42535 non-null  float64\n",
            " 30  total_pymnt_inv             42535 non-null  float64\n",
            " 31  total_rec_prncp             42535 non-null  float64\n",
            " 32  total_rec_int               42535 non-null  float64\n",
            " 33  total_rec_late_fee          42535 non-null  float64\n",
            " 34  last_pymnt_amnt             42535 non-null  float64\n",
            " 35  last_credit_pull_d          42531 non-null  object \n",
            " 36  collections_12_mths_ex_med  42390 non-null  float64\n",
            " 37  policy_code                 42535 non-null  float64\n",
            " 38  application_type            42535 non-null  object \n",
            " 39  acc_now_delinq              42506 non-null  float64\n",
            " 40  chargeoff_within_12_mths    42390 non-null  float64\n",
            " 41  delinq_amnt                 42506 non-null  float64\n",
            " 42  pub_rec_bankruptcies        41170 non-null  float64\n",
            " 43  tax_liens                   42430 non-null  float64\n",
            "dtypes: float64(27), object(17)\n",
            "memory usage: 14.3+ MB\n"
          ]
        }
      ],
      "source": [
        "df3.info()"
      ]
    },
    {
      "cell_type": "markdown",
      "metadata": {
        "id": "amm6gmGv51SP"
      },
      "source": [
        "### Defining TARGET"
      ]
    },
    {
      "cell_type": "code",
      "execution_count": null,
      "metadata": {
        "colab": {
          "base_uri": "https://localhost:8080/"
        },
        "id": "aYTSyj5J5xEd",
        "outputId": "73e99895-bbe7-40d6-cdf0-bd9527943f11"
      },
      "outputs": [
        {
          "output_type": "execute_result",
          "data": {
            "text/plain": [
              "Fully Paid                                             34085\n",
              "Charged Off                                             5662\n",
              "Does not meet the credit policy. Status:Fully Paid      1988\n",
              "Does not meet the credit policy. Status:Charged Off      761\n",
              "Current                                                   19\n",
              "Late (31-120 days)                                         9\n",
              "In Grace Period                                            8\n",
              "Late (16-30 days)                                          2\n",
              "Default                                                    1\n",
              "Name: loan_status, dtype: int64"
            ]
          },
          "metadata": {},
          "execution_count": 136
        }
      ],
      "source": [
        "df3['loan_status'].value_counts()"
      ]
    },
    {
      "cell_type": "markdown",
      "metadata": {
        "id": "OsDZkyEM3JTe"
      },
      "source": [
        "Although we have multiple categories in loan status, we don't need them all. \n",
        "The only two categories important for our study of interest are **Fully Paid** and **Charged Off**.\n",
        "\n",
        "Here **Fully Paid** means the loan has been fully paid by the lender,\n",
        "\n",
        "and **Charged Off** means the loan that a company believes it will no longer collect as the lender has become delinquent on payments.\n",
        "\n",
        "So, here we take only these two categories, and lay off the rest."
      ]
    },
    {
      "cell_type": "markdown",
      "metadata": {
        "id": "lS1g4aMzSm_n"
      },
      "source": [
        "NOTE: Loans that are in \"Default\" are loans for which borrowers have failed to make payments for an extended period of time. A loan becomes “Charged Off” when there is no longer a reasonable expectation of further payments.\n",
        "\n",
        "Here, we just have one value for Default and hence we would not be able to make any predictions based on just 1 default customer data. So we drop that as well."
      ]
    },
    {
      "cell_type": "code",
      "execution_count": null,
      "metadata": {
        "colab": {
          "base_uri": "https://localhost:8080/"
        },
        "id": "iOloByOg58gC",
        "outputId": "5c231378-76fb-4757-a08e-4ffd39166153"
      },
      "outputs": [
        {
          "output_type": "execute_result",
          "data": {
            "text/plain": [
              "(39747, 44)"
            ]
          },
          "metadata": {},
          "execution_count": 137
        }
      ],
      "source": [
        "df4 = df3[(df3['loan_status'] == \"Fully Paid\") | (df3['loan_status'] == \"Charged Off\")]\n",
        "\n",
        "df4.shape"
      ]
    },
    {
      "cell_type": "code",
      "execution_count": null,
      "metadata": {
        "colab": {
          "base_uri": "https://localhost:8080/"
        },
        "id": "5JDZkQQTWJX_",
        "outputId": "05f1bd32-5f04-4f6a-b277-76b72cc4e317"
      },
      "outputs": [
        {
          "output_type": "execute_result",
          "data": {
            "text/plain": [
              "Fully Paid     34085\n",
              "Charged Off     5662\n",
              "Name: loan_status, dtype: int64"
            ]
          },
          "metadata": {},
          "execution_count": 138
        }
      ],
      "source": [
        "df4.loan_status.value_counts()"
      ]
    },
    {
      "cell_type": "code",
      "execution_count": null,
      "metadata": {
        "colab": {
          "base_uri": "https://localhost:8080/"
        },
        "id": "kkPYwI8Z6Gnz",
        "outputId": "91782b91-5246-46d0-f5cb-eb66b20ddd54"
      },
      "outputs": [
        {
          "output_type": "execute_result",
          "data": {
            "text/plain": [
              "0    34085\n",
              "1     5662\n",
              "Name: loan_status, dtype: int64"
            ]
          },
          "metadata": {},
          "execution_count": 139
        }
      ],
      "source": [
        "# Assigning 0 and 1 to the loan status as per our interest. This variable will serve as our target variable\n",
        "\n",
        "target_replace = {\n",
        "    \"loan_status\" : { \"Fully Paid\": 0,\"Charged Off\": 1}\n",
        "}\n",
        "df4 = df4.replace(target_replace)\n",
        "\n",
        "df4['loan_status'].value_counts()"
      ]
    },
    {
      "cell_type": "markdown",
      "metadata": {
        "id": "c4gYxjp-6bxP"
      },
      "source": [
        "## DATA CLEANING"
      ]
    },
    {
      "cell_type": "markdown",
      "metadata": {
        "id": "AiCgjtFq6vFx"
      },
      "source": [
        "Single value columns are not information that help our model, it does not provide any insight into the likelihood of default or repayment, and will be removed from the dataset."
      ]
    },
    {
      "cell_type": "code",
      "execution_count": null,
      "metadata": {
        "colab": {
          "base_uri": "https://localhost:8080/"
        },
        "id": "1n99RlYE6YZ8",
        "outputId": "712b71ef-4775-45c8-bdb1-781b8bb5bf3d"
      },
      "outputs": [
        {
          "output_type": "execute_result",
          "data": {
            "text/plain": [
              "['pymnt_plan',\n",
              " 'initial_list_status',\n",
              " 'out_prncp',\n",
              " 'out_prncp_inv',\n",
              " 'collections_12_mths_ex_med',\n",
              " 'policy_code',\n",
              " 'application_type',\n",
              " 'acc_now_delinq',\n",
              " 'chargeoff_within_12_mths',\n",
              " 'delinq_amnt',\n",
              " 'tax_liens']"
            ]
          },
          "metadata": {},
          "execution_count": 140
        }
      ],
      "source": [
        "orig_columns = df4.columns\n",
        "drop_columns = []\n",
        "for col in orig_columns:\n",
        "    col_series = df4[col].dropna().unique()\n",
        "    if len(col_series) == 1:\n",
        "        drop_columns.append(col)\n",
        "\n",
        "drop_columns"
      ]
    },
    {
      "cell_type": "code",
      "execution_count": null,
      "metadata": {
        "colab": {
          "base_uri": "https://localhost:8080/"
        },
        "id": "AyGk_iQVWZ5M",
        "outputId": "b58ee07e-bbc6-4803-94bb-60bb900fa13d"
      },
      "outputs": [
        {
          "output_type": "execute_result",
          "data": {
            "text/plain": [
              "n    39747\n",
              "Name: pymnt_plan, dtype: int64"
            ]
          },
          "metadata": {},
          "execution_count": 141
        }
      ],
      "source": [
        "df4.pymnt_plan.value_counts()"
      ]
    },
    {
      "cell_type": "code",
      "execution_count": null,
      "metadata": {
        "colab": {
          "base_uri": "https://localhost:8080/"
        },
        "id": "_5Q2ciUdWaFk",
        "outputId": "d0618a94-e669-47e3-db01-d89c4743c0cd"
      },
      "outputs": [
        {
          "output_type": "execute_result",
          "data": {
            "text/plain": [
              "1.0    39747\n",
              "Name: policy_code, dtype: int64"
            ]
          },
          "metadata": {},
          "execution_count": 142
        }
      ],
      "source": [
        "df4.policy_code.value_counts()"
      ]
    },
    {
      "cell_type": "code",
      "execution_count": null,
      "metadata": {
        "id": "1a8YR9p6WeQM"
      },
      "outputs": [],
      "source": [
        "#dropping the single-valued columns\n",
        "df5 = df4.drop(drop_columns, axis = 1)"
      ]
    },
    {
      "cell_type": "markdown",
      "metadata": {
        "id": "LduJb-rU63nN"
      },
      "source": [
        "#### Missing Value Detection"
      ]
    },
    {
      "cell_type": "code",
      "execution_count": null,
      "metadata": {
        "colab": {
          "base_uri": "https://localhost:8080/"
        },
        "id": "YCFWIlsZ6tbU",
        "outputId": "24f97e5b-8c61-4b3a-9438-19717ebbb24d"
      },
      "outputs": [
        {
          "output_type": "execute_result",
          "data": {
            "text/plain": [
              "loan_amnt               0.000000\n",
              "funded_amnt             0.000000\n",
              "funded_amnt_inv         0.000000\n",
              "term                    0.000000\n",
              "int_rate                0.000000\n",
              "installment             0.000000\n",
              "grade                   0.000000\n",
              "sub_grade               0.000000\n",
              "emp_length              2.707123\n",
              "home_ownership          0.000000\n",
              "annual_inc              0.000000\n",
              "verification_status     0.000000\n",
              "loan_status             0.000000\n",
              "purpose                 0.000000\n",
              "title                   0.027675\n",
              "addr_state              0.000000\n",
              "dti                     0.000000\n",
              "delinq_2yrs             0.000000\n",
              "earliest_cr_line        0.000000\n",
              "inq_last_6mths          0.000000\n",
              "open_acc                0.000000\n",
              "pub_rec                 0.000000\n",
              "revol_bal               0.000000\n",
              "revol_util              0.125796\n",
              "total_acc               0.000000\n",
              "total_pymnt             0.000000\n",
              "total_pymnt_inv         0.000000\n",
              "total_rec_prncp         0.000000\n",
              "total_rec_int           0.000000\n",
              "total_rec_late_fee      0.000000\n",
              "last_pymnt_amnt         0.000000\n",
              "last_credit_pull_d      0.005032\n",
              "pub_rec_bankruptcies    1.753591\n",
              "dtype: float64"
            ]
          },
          "metadata": {},
          "execution_count": 144
        }
      ],
      "source": [
        "null_counts = (df5.isnull().sum()/df5.shape[0])*100\n",
        "null_counts"
      ]
    },
    {
      "cell_type": "markdown",
      "metadata": {
        "id": "30nmhqTN9f1Y"
      },
      "source": [
        "We have 4 columns with missing values: 2 with last_credit_pull_d, 10 with title, 50 with revol_util and 697 with pub_rec_bankruptcies and emp_length. Instead of removing the columns as we did earlier, we will remove the rows.\n",
        "\n",
        "Since here, in these columns, the percentage of missing values is less than 5%, so we can simple drop the rows."
      ]
    },
    {
      "cell_type": "code",
      "execution_count": null,
      "metadata": {
        "colab": {
          "base_uri": "https://localhost:8080/"
        },
        "id": "DvzPt8z6_fFs",
        "outputId": "a51702dd-abf0-4a77-c16c-a89948a3f858"
      },
      "outputs": [
        {
          "output_type": "execute_result",
          "data": {
            "text/plain": [
              "(39747, 33)"
            ]
          },
          "metadata": {},
          "execution_count": 145
        }
      ],
      "source": [
        "df5.shape"
      ]
    },
    {
      "cell_type": "code",
      "execution_count": null,
      "metadata": {
        "colab": {
          "base_uri": "https://localhost:8080/"
        },
        "id": "iyfMTkzZ9fek",
        "outputId": "4bcdcc75-c4f9-4e81-b916-52edfe0f4147"
      },
      "outputs": [
        {
          "output_type": "execute_result",
          "data": {
            "text/plain": [
              "(37916, 33)"
            ]
          },
          "metadata": {},
          "execution_count": 146
        }
      ],
      "source": [
        "df6 = df5.copy()\n",
        "df7 = df6.dropna(axis=0)\n",
        "\n",
        "df7.shape"
      ]
    },
    {
      "cell_type": "markdown",
      "metadata": {
        "id": "yNIMhrY41QlQ"
      },
      "source": [
        "# Exploratory Data Analysis"
      ]
    },
    {
      "cell_type": "code",
      "execution_count": null,
      "metadata": {
        "colab": {
          "base_uri": "https://localhost:8080/"
        },
        "id": "AaKtG8j11U1t",
        "outputId": "4e1c412d-4e43-4d24-ca56-1f0200140b60"
      },
      "outputs": [
        {
          "output_type": "execute_result",
          "data": {
            "text/plain": [
              "Index(['loan_amnt', 'funded_amnt', 'funded_amnt_inv', 'installment',\n",
              "       'annual_inc', 'dti', 'delinq_2yrs', 'inq_last_6mths', 'open_acc',\n",
              "       'pub_rec', 'revol_bal', 'total_acc', 'total_pymnt', 'total_pymnt_inv',\n",
              "       'total_rec_prncp', 'total_rec_int', 'total_rec_late_fee',\n",
              "       'last_pymnt_amnt', 'pub_rec_bankruptcies'],\n",
              "      dtype='object')"
            ]
          },
          "metadata": {},
          "execution_count": 147
        }
      ],
      "source": [
        "numeric_cols=df7.select_dtypes('float64').columns\n",
        "numeric_cols"
      ]
    },
    {
      "cell_type": "code",
      "execution_count": null,
      "metadata": {
        "colab": {
          "base_uri": "https://localhost:8080/"
        },
        "id": "X35vYZju1UuT",
        "outputId": "b204087e-049b-43ae-d473-6f9a03f7142e"
      },
      "outputs": [
        {
          "output_type": "execute_result",
          "data": {
            "text/plain": [
              "Index(['term', 'int_rate', 'grade', 'sub_grade', 'emp_length',\n",
              "       'home_ownership', 'verification_status', 'purpose', 'title',\n",
              "       'addr_state', 'earliest_cr_line', 'revol_util', 'last_credit_pull_d'],\n",
              "      dtype='object')"
            ]
          },
          "metadata": {},
          "execution_count": 148
        }
      ],
      "source": [
        "str_cols=df7.select_dtypes('object').columns\n",
        "str_cols"
      ]
    },
    {
      "cell_type": "code",
      "execution_count": null,
      "metadata": {
        "colab": {
          "base_uri": "https://localhost:8080/",
          "height": 211
        },
        "id": "-MlnFsAn1UpU",
        "outputId": "83d0c125-382d-4195-9c35-d6b476881cad"
      },
      "outputs": [
        {
          "output_type": "execute_result",
          "data": {
            "text/plain": [
              "         term int_rate grade sub_grade emp_length home_ownership  \\\n",
              "0   36 months   10.65%     B        B2  10+ years           RENT   \n",
              "1   60 months   15.27%     C        C4   < 1 year           RENT   \n",
              "\n",
              "  verification_status      purpose     title addr_state earliest_cr_line  \\\n",
              "0            Verified  credit_card  Computer         AZ         Jan-1985   \n",
              "1     Source Verified          car      bike         GA         Apr-1999   \n",
              "\n",
              "  revol_util last_credit_pull_d  \n",
              "0      83.7%           Dec-2016  \n",
              "1       9.4%           Oct-2016  "
            ],
            "text/html": [
              "\n",
              "  <div id=\"df-65ff4305-6fac-4813-96a5-50b268b2d173\">\n",
              "    <div class=\"colab-df-container\">\n",
              "      <div>\n",
              "<style scoped>\n",
              "    .dataframe tbody tr th:only-of-type {\n",
              "        vertical-align: middle;\n",
              "    }\n",
              "\n",
              "    .dataframe tbody tr th {\n",
              "        vertical-align: top;\n",
              "    }\n",
              "\n",
              "    .dataframe thead th {\n",
              "        text-align: right;\n",
              "    }\n",
              "</style>\n",
              "<table border=\"1\" class=\"dataframe\">\n",
              "  <thead>\n",
              "    <tr style=\"text-align: right;\">\n",
              "      <th></th>\n",
              "      <th>term</th>\n",
              "      <th>int_rate</th>\n",
              "      <th>grade</th>\n",
              "      <th>sub_grade</th>\n",
              "      <th>emp_length</th>\n",
              "      <th>home_ownership</th>\n",
              "      <th>verification_status</th>\n",
              "      <th>purpose</th>\n",
              "      <th>title</th>\n",
              "      <th>addr_state</th>\n",
              "      <th>earliest_cr_line</th>\n",
              "      <th>revol_util</th>\n",
              "      <th>last_credit_pull_d</th>\n",
              "    </tr>\n",
              "  </thead>\n",
              "  <tbody>\n",
              "    <tr>\n",
              "      <th>0</th>\n",
              "      <td>36 months</td>\n",
              "      <td>10.65%</td>\n",
              "      <td>B</td>\n",
              "      <td>B2</td>\n",
              "      <td>10+ years</td>\n",
              "      <td>RENT</td>\n",
              "      <td>Verified</td>\n",
              "      <td>credit_card</td>\n",
              "      <td>Computer</td>\n",
              "      <td>AZ</td>\n",
              "      <td>Jan-1985</td>\n",
              "      <td>83.7%</td>\n",
              "      <td>Dec-2016</td>\n",
              "    </tr>\n",
              "    <tr>\n",
              "      <th>1</th>\n",
              "      <td>60 months</td>\n",
              "      <td>15.27%</td>\n",
              "      <td>C</td>\n",
              "      <td>C4</td>\n",
              "      <td>&lt; 1 year</td>\n",
              "      <td>RENT</td>\n",
              "      <td>Source Verified</td>\n",
              "      <td>car</td>\n",
              "      <td>bike</td>\n",
              "      <td>GA</td>\n",
              "      <td>Apr-1999</td>\n",
              "      <td>9.4%</td>\n",
              "      <td>Oct-2016</td>\n",
              "    </tr>\n",
              "  </tbody>\n",
              "</table>\n",
              "</div>\n",
              "      <button class=\"colab-df-convert\" onclick=\"convertToInteractive('df-65ff4305-6fac-4813-96a5-50b268b2d173')\"\n",
              "              title=\"Convert this dataframe to an interactive table.\"\n",
              "              style=\"display:none;\">\n",
              "        \n",
              "  <svg xmlns=\"http://www.w3.org/2000/svg\" height=\"24px\"viewBox=\"0 0 24 24\"\n",
              "       width=\"24px\">\n",
              "    <path d=\"M0 0h24v24H0V0z\" fill=\"none\"/>\n",
              "    <path d=\"M18.56 5.44l.94 2.06.94-2.06 2.06-.94-2.06-.94-.94-2.06-.94 2.06-2.06.94zm-11 1L8.5 8.5l.94-2.06 2.06-.94-2.06-.94L8.5 2.5l-.94 2.06-2.06.94zm10 10l.94 2.06.94-2.06 2.06-.94-2.06-.94-.94-2.06-.94 2.06-2.06.94z\"/><path d=\"M17.41 7.96l-1.37-1.37c-.4-.4-.92-.59-1.43-.59-.52 0-1.04.2-1.43.59L10.3 9.45l-7.72 7.72c-.78.78-.78 2.05 0 2.83L4 21.41c.39.39.9.59 1.41.59.51 0 1.02-.2 1.41-.59l7.78-7.78 2.81-2.81c.8-.78.8-2.07 0-2.86zM5.41 20L4 18.59l7.72-7.72 1.47 1.35L5.41 20z\"/>\n",
              "  </svg>\n",
              "      </button>\n",
              "      \n",
              "  <style>\n",
              "    .colab-df-container {\n",
              "      display:flex;\n",
              "      flex-wrap:wrap;\n",
              "      gap: 12px;\n",
              "    }\n",
              "\n",
              "    .colab-df-convert {\n",
              "      background-color: #E8F0FE;\n",
              "      border: none;\n",
              "      border-radius: 50%;\n",
              "      cursor: pointer;\n",
              "      display: none;\n",
              "      fill: #1967D2;\n",
              "      height: 32px;\n",
              "      padding: 0 0 0 0;\n",
              "      width: 32px;\n",
              "    }\n",
              "\n",
              "    .colab-df-convert:hover {\n",
              "      background-color: #E2EBFA;\n",
              "      box-shadow: 0px 1px 2px rgba(60, 64, 67, 0.3), 0px 1px 3px 1px rgba(60, 64, 67, 0.15);\n",
              "      fill: #174EA6;\n",
              "    }\n",
              "\n",
              "    [theme=dark] .colab-df-convert {\n",
              "      background-color: #3B4455;\n",
              "      fill: #D2E3FC;\n",
              "    }\n",
              "\n",
              "    [theme=dark] .colab-df-convert:hover {\n",
              "      background-color: #434B5C;\n",
              "      box-shadow: 0px 1px 3px 1px rgba(0, 0, 0, 0.15);\n",
              "      filter: drop-shadow(0px 1px 2px rgba(0, 0, 0, 0.3));\n",
              "      fill: #FFFFFF;\n",
              "    }\n",
              "  </style>\n",
              "\n",
              "      <script>\n",
              "        const buttonEl =\n",
              "          document.querySelector('#df-65ff4305-6fac-4813-96a5-50b268b2d173 button.colab-df-convert');\n",
              "        buttonEl.style.display =\n",
              "          google.colab.kernel.accessAllowed ? 'block' : 'none';\n",
              "\n",
              "        async function convertToInteractive(key) {\n",
              "          const element = document.querySelector('#df-65ff4305-6fac-4813-96a5-50b268b2d173');\n",
              "          const dataTable =\n",
              "            await google.colab.kernel.invokeFunction('convertToInteractive',\n",
              "                                                     [key], {});\n",
              "          if (!dataTable) return;\n",
              "\n",
              "          const docLinkHtml = 'Like what you see? Visit the ' +\n",
              "            '<a target=\"_blank\" href=https://colab.research.google.com/notebooks/data_table.ipynb>data table notebook</a>'\n",
              "            + ' to learn more about interactive tables.';\n",
              "          element.innerHTML = '';\n",
              "          dataTable['output_type'] = 'display_data';\n",
              "          await google.colab.output.renderOutput(dataTable, element);\n",
              "          const docLink = document.createElement('div');\n",
              "          docLink.innerHTML = docLinkHtml;\n",
              "          element.appendChild(docLink);\n",
              "        }\n",
              "      </script>\n",
              "    </div>\n",
              "  </div>\n",
              "  "
            ]
          },
          "metadata": {},
          "execution_count": 149
        }
      ],
      "source": [
        "df7[str_cols].head(2)"
      ]
    },
    {
      "cell_type": "code",
      "execution_count": null,
      "metadata": {
        "id": "BSa0-bQW1UjY"
      },
      "outputs": [],
      "source": [
        "df7[\"int_rate\"] = df7[\"int_rate\"].str.rstrip(\"%\").astype(\"float\")\n",
        "df7[\"revol_util\"] = df7[\"revol_util\"].str.rstrip(\"%\").astype(\"float\")"
      ]
    },
    {
      "cell_type": "code",
      "execution_count": null,
      "metadata": {
        "colab": {
          "base_uri": "https://localhost:8080/",
          "height": 285
        },
        "id": "LdoIBpTm1Ubc",
        "outputId": "57f0fd65-fc6d-41ef-9937-613453daa4c4"
      },
      "outputs": [
        {
          "output_type": "display_data",
          "data": {
            "text/plain": [
              "<Figure size 432x288 with 1 Axes>"
            ],
            "image/png": "[encoded data removed]"
          },
          "metadata": {
            "needs_background": "light"
          }
        }
      ],
      "source": [
        "sns.countplot(data = df7, x = 'term', hue = 'loan_status')\n",
        "sns.set(rc={'figure.figsize':(13,10)})\n"
      ]
    },
    {
      "cell_type": "markdown",
      "metadata": {
        "id": "uNILLKjaa6vK"
      },
      "source": [
        "The variable *'term'* stands for The number of payments on the loan.\n"
      ]
    },
    {
      "cell_type": "code",
      "execution_count": null,
      "metadata": {
        "colab": {
          "base_uri": "https://localhost:8080/"
        },
        "id": "dBOR2fZG1UXU",
        "outputId": "f62f3634-6ecd-454f-ffbf-f1d46e5cad0a"
      },
      "outputs": [
        {
          "output_type": "execute_result",
          "data": {
            "text/plain": [
              "10+ years    8767\n",
              "< 1 year     4407\n",
              "2 years      4303\n",
              "3 years      4029\n",
              "4 years      3384\n",
              "5 years      3246\n",
              "1 year       3144\n",
              "6 years      2192\n",
              "7 years      1748\n",
              "8 years      1455\n",
              "9 years      1241\n",
              "Name: emp_length, dtype: int64"
            ]
          },
          "metadata": {},
          "execution_count": 152
        }
      ],
      "source": [
        "df7['emp_length'].value_counts()"
      ]
    },
    {
      "cell_type": "code",
      "execution_count": null,
      "metadata": {
        "colab": {
          "base_uri": "https://localhost:8080/",
          "height": 611
        },
        "id": "qVx0W4kDb-Qu",
        "outputId": "c4c8b907-a9de-4df0-c60e-f3d9fda122c0"
      },
      "outputs": [
        {
          "output_type": "display_data",
          "data": {
            "text/plain": [
              "<Figure size 936x720 with 1 Axes>"
            ],
            "image/png": "[encoded data removed]"
          },
          "metadata": {}
        }
      ],
      "source": [
        "sns.countplot(data = df7, x = 'emp_length', hue = 'loan_status')\n",
        "sns.set(rc={'figure.figsize':(13,10)})"
      ]
    },
    {
      "cell_type": "markdown",
      "metadata": {
        "id": "am6fJqVzePKL"
      },
      "source": [
        "From the above graph, we can clearly see that employees having 10+ years of experience tend to pay off their loan more. "
      ]
    },
    {
      "cell_type": "code",
      "execution_count": null,
      "metadata": {
        "colab": {
          "base_uri": "https://localhost:8080/",
          "height": 611
        },
        "id": "JQogf47D1UPS",
        "outputId": "0e1a60cd-4869-48ab-bc8c-97e1eb231a03"
      },
      "outputs": [
        {
          "output_type": "display_data",
          "data": {
            "text/plain": [
              "<Figure size 936x720 with 1 Axes>"
            ],
            "image/png": "[encoded data removed]"
          },
          "metadata": {}
        }
      ],
      "source": [
        "sns.countplot(data = df7, x = 'home_ownership', hue = 'loan_status')\n",
        "sns.set(rc={'figure.figsize':(13,10)})"
      ]
    },
    {
      "cell_type": "markdown",
      "metadata": {
        "id": "arx2QIifYLiv"
      },
      "source": [
        "NOTE: RENT category has more \"Fully Paid\" borrowers."
      ]
    },
    {
      "cell_type": "code",
      "execution_count": null,
      "metadata": {
        "colab": {
          "base_uri": "https://localhost:8080/"
        },
        "id": "6FTF9FynYfh_",
        "outputId": "f5dc4557-6dc9-49f8-dd5d-a51cd1b38270"
      },
      "outputs": [
        {
          "output_type": "execute_result",
          "data": {
            "text/plain": [
              "array(['credit_card', 'car', 'small_business', 'other', 'wedding',\n",
              "       'debt_consolidation', 'home_improvement', 'major_purchase',\n",
              "       'medical', 'moving', 'vacation', 'house', 'renewable_energy',\n",
              "       'educational'], dtype=object)"
            ]
          },
          "metadata": {},
          "execution_count": 155
        }
      ],
      "source": [
        "df7.purpose.unique()"
      ]
    },
    {
      "cell_type": "code",
      "execution_count": null,
      "metadata": {
        "colab": {
          "base_uri": "https://localhost:8080/",
          "height": 613
        },
        "id": "pLalungO1T_l",
        "outputId": "d8508757-fa5f-477e-89ed-2ba6caab6dda"
      },
      "outputs": [
        {
          "output_type": "display_data",
          "data": {
            "text/plain": [
              "<Figure size 936x720 with 1 Axes>"
            ],
            "image/png": "[encoded data removed]"
          },
          "metadata": {}
        }
      ],
      "source": [
        "sns.countplot(data = df7, x = 'purpose', hue = 'loan_status')\n",
        "sns.set(rc={'figure.figsize':(25,18)})"
      ]
    },
    {
      "cell_type": "markdown",
      "metadata": {
        "id": "q4Lwi25NYt8C"
      },
      "source": [
        "NOTE: When the purpose of loan is debt consolidation, both fully paid and charged off numbers are the highest.\n",
        "\n",
        "This purpose column does not add much significance to the target variable because the purpose for which the person took a loan cannot be a factor determining whether the person would default the loan or not. Also, this variable might create bias in the model.\n",
        "\n",
        "Thereofore, this variable is dropped."
      ]
    },
    {
      "cell_type": "code",
      "execution_count": null,
      "metadata": {
        "id": "wTkWsvQd0e7Q"
      },
      "outputs": [],
      "source": [
        "df7.drop('purpose',axis=1,inplace=True)"
      ]
    },
    {
      "cell_type": "code",
      "execution_count": null,
      "metadata": {
        "colab": {
          "base_uri": "https://localhost:8080/"
        },
        "id": "UHMJHCa05TIp",
        "outputId": "3269ca3b-faea-4ef6-bf53-ecbb102f783a"
      },
      "outputs": [
        {
          "output_type": "execute_result",
          "data": {
            "text/plain": [
              "Index(['loan_amnt', 'funded_amnt', 'funded_amnt_inv', 'int_rate',\n",
              "       'installment', 'annual_inc', 'dti', 'delinq_2yrs', 'inq_last_6mths',\n",
              "       'open_acc', 'pub_rec', 'revol_bal', 'revol_util', 'total_acc',\n",
              "       'total_pymnt', 'total_pymnt_inv', 'total_rec_prncp', 'total_rec_int',\n",
              "       'total_rec_late_fee', 'last_pymnt_amnt', 'pub_rec_bankruptcies'],\n",
              "      dtype='object')"
            ]
          },
          "metadata": {},
          "execution_count": 158
        }
      ],
      "source": [
        "numeric_cols=df7.select_dtypes('float64').columns\n",
        "numeric_cols"
      ]
    },
    {
      "cell_type": "markdown",
      "metadata": {
        "id": "B1kS3zevLqJ2"
      },
      "source": [
        "We will choose 4 variables at a time, and check thier distribution individually, to know more about them on an univariate level."
      ]
    },
    {
      "cell_type": "code",
      "execution_count": null,
      "metadata": {
        "colab": {
          "base_uri": "https://localhost:8080/",
          "height": 302
        },
        "id": "TGEXKWEx61sG",
        "outputId": "7731a636-9edc-4be9-a2a1-aa8843bef9cb"
      },
      "outputs": [
        {
          "output_type": "execute_result",
          "data": {
            "text/plain": [
              "<matplotlib.axes._subplots.AxesSubplot at 0x7f8014c66290>"
            ]
          },
          "metadata": {},
          "execution_count": 159
        },
        {
          "output_type": "display_data",
          "data": {
            "text/plain": [
              "<Figure size 1080x288 with 4 Axes>"
            ],
            "image/png": "[encoded data removed]"
          },
          "metadata": {}
        }
      ],
      "source": [
        "fig, axes = plt.subplots(nrows=1, ncols=4, figsize=(15,4))\n",
        "sns.boxplot(x = 'loan_amnt', data=df7, ax=axes[0])\n",
        "sns.boxplot(x='installment', data=df7, ax=axes[1])\n",
        "sns.boxplot(x = 'annual_inc', data=df7, ax=axes[2])\n",
        "sns.boxplot(x='dti', data=df7, ax=axes[3])"
      ]
    },
    {
      "cell_type": "markdown",
      "metadata": {
        "id": "GV-l769P_aaY"
      },
      "source": [
        "Although we can see several outliers in *annual_inc*, which means the self-reported annual income provided by the borrower during registration, \n",
        "the outliers can be high-end customers, whom we don't want to exclude, hence we are not excluding the outliers here.\n",
        "\n",
        "Similar logic is applied on *loan_amnt*, and *installment* variables"
      ]
    },
    {
      "cell_type": "code",
      "execution_count": null,
      "metadata": {
        "colab": {
          "base_uri": "https://localhost:8080/",
          "height": 302
        },
        "id": "GfWbzYti-DUW",
        "outputId": "94253625-10af-4388-9d0e-656731380a22"
      },
      "outputs": [
        {
          "output_type": "execute_result",
          "data": {
            "text/plain": [
              "<matplotlib.axes._subplots.AxesSubplot at 0x7f8014ae1d50>"
            ]
          },
          "metadata": {},
          "execution_count": 160
        },
        {
          "output_type": "display_data",
          "data": {
            "text/plain": [
              "<Figure size 1080x288 with 4 Axes>"
            ],
            "image/png": "[encoded data removed]"
          },
          "metadata": {}
        }
      ],
      "source": [
        "fig, axes = plt.subplots(nrows=1, ncols=4, figsize=(15,4))\n",
        "sns.boxplot(x = 'delinq_2yrs', data=df7, ax=axes[0])\n",
        "sns.boxplot(x='inq_last_6mths', data=df7, ax=axes[1])\n",
        "sns.boxplot(x = 'open_acc', data=df7, ax=axes[2])\n",
        "sns.boxplot(x='pub_rec', data=df7, ax=axes[3])"
      ]
    },
    {
      "cell_type": "markdown",
      "metadata": {
        "id": "SwoLRchMATn4"
      },
      "source": [
        "*delinq_2yrs* stands for the number of 30+ days past-due incidences of delinquency in the borrower's credit file for the past 2 years. \n",
        "\n",
        "*inq_last_6mnths* stands for the number of inquiries in past 6 months. \n",
        "\n",
        "*open_acc* means the number of open credit lines in the borrower's credit file.\n",
        "\n",
        "*pub_req* means number of derogatory public records.\n",
        "\n",
        "Now, we can remove the outliers for these variables, since they are some extreme cases, in some cases might be misreported."
      ]
    },
    {
      "cell_type": "code",
      "execution_count": null,
      "metadata": {
        "colab": {
          "base_uri": "https://localhost:8080/"
        },
        "id": "Ys3XUv5r_Pmx",
        "outputId": "ff749ad8-8ac0-4359-d938-b5b4d545f849"
      },
      "outputs": [
        {
          "output_type": "execute_result",
          "data": {
            "text/plain": [
              "(33808, 32)"
            ]
          },
          "metadata": {},
          "execution_count": 161
        }
      ],
      "source": [
        "col = ['delinq_2yrs','inq_last_6mths', 'open_acc', 'pub_rec']\n",
        "\n",
        "df7 = outlier_removal(df7,df7[col], limit = 3)\n",
        "\n",
        "df7.shape"
      ]
    },
    {
      "cell_type": "code",
      "execution_count": null,
      "metadata": {
        "colab": {
          "base_uri": "https://localhost:8080/",
          "height": 302
        },
        "id": "s7Besa5D5cQJ",
        "outputId": "ee5e73ec-8125-465d-a8b6-8652155e22aa"
      },
      "outputs": [
        {
          "output_type": "execute_result",
          "data": {
            "text/plain": [
              "<matplotlib.axes._subplots.AxesSubplot at 0x7f801497b910>"
            ]
          },
          "metadata": {},
          "execution_count": 162
        },
        {
          "output_type": "display_data",
          "data": {
            "text/plain": [
              "<Figure size 1080x288 with 4 Axes>"
            ],
            "image/png": "[encoded data removed]"
          },
          "metadata": {}
        }
      ],
      "source": [
        "fig, axes = plt.subplots(nrows=1, ncols=4, figsize=(15,4))\n",
        "sns.boxplot(x = 'revol_bal', data=df7, ax=axes[0])\n",
        "sns.boxplot(x='total_acc', data=df7, ax=axes[1])\n",
        "sns.boxplot(x = 'total_pymnt', data=df7, ax=axes[2])\n",
        "sns.boxplot(x='total_pymnt_inv', data=df7, ax=axes[3])"
      ]
    },
    {
      "cell_type": "markdown",
      "metadata": {
        "id": "gPrHJ9h09zat"
      },
      "source": [
        "*revol_bal* means Total credit revolving balance\n",
        "\n",
        "*total_acc* stands for the total number of credit lines currently in the borrower's credit file.\n",
        "\n",
        "*total_pymnt* means Payments received to date for total amount funded\n",
        "\n",
        "*total_pymnt_inv* stands for Payments received to date for portion of total amount funded by investors.\n",
        "\n",
        "Although there are some outliers, we will not remove any, since they are payment variables, and higher payment can mean high-end customers."
      ]
    },
    {
      "cell_type": "code",
      "execution_count": null,
      "metadata": {
        "colab": {
          "base_uri": "https://localhost:8080/",
          "height": 302
        },
        "id": "zEkexgCTDGpO",
        "outputId": "a09a2578-d4f0-44e2-9ba6-0faa1389d482"
      },
      "outputs": [
        {
          "output_type": "execute_result",
          "data": {
            "text/plain": [
              "<matplotlib.axes._subplots.AxesSubplot at 0x7f80147b6b10>"
            ]
          },
          "metadata": {},
          "execution_count": 163
        },
        {
          "output_type": "display_data",
          "data": {
            "text/plain": [
              "<Figure size 1080x288 with 5 Axes>"
            ],
            "image/png": "[encoded data removed]"
          },
          "metadata": {}
        }
      ],
      "source": [
        "fig, axes = plt.subplots(nrows=1, ncols=5, figsize=(15,4))\n",
        "sns.boxplot(x = 'total_rec_int', data=df7, ax=axes[0])\n",
        "sns.boxplot(x='total_rec_late_fee', data=df7, ax=axes[1])\n",
        "sns.boxplot(x='total_rec_prncp', data=df7, ax=axes[2])\n",
        "sns.boxplot(x='last_pymnt_amnt', data=df7, ax=axes[3])\n",
        "sns.boxplot(x='pub_rec_bankruptcies', data=df7, ax=axes[4])"
      ]
    },
    {
      "cell_type": "markdown",
      "metadata": {
        "id": "-WZo8dejDdGk"
      },
      "source": [
        "*total_rec_late_fee* stands for Late fees received to date. \n",
        "\n",
        "*total_rec_int* means Interest received to date. \n",
        "\n",
        "*total_rec_prncp* : Principal received to date\n",
        "\n",
        "*last_pymnt_amnt*: Last total payment amount received\n",
        "\n",
        "*pub_rec_bankruptcies*: Number of public record bankruptcies\n",
        "\n",
        "We will again not remove the outliers from *total_rec_late_fee*, since it can help us identify the Charged off cases.\n",
        "\n"
      ]
    },
    {
      "cell_type": "code",
      "execution_count": null,
      "metadata": {
        "colab": {
          "base_uri": "https://localhost:8080/"
        },
        "id": "E26tpuJiqEEA",
        "outputId": "10a949c4-396e-460c-99ce-10cb2d770c92"
      },
      "outputs": [
        {
          "output_type": "execute_result",
          "data": {
            "text/plain": [
              "(32408, 32)"
            ]
          },
          "metadata": {},
          "execution_count": 164
        }
      ],
      "source": [
        "col = ['pub_rec_bankruptcies']\n",
        "\n",
        "df7 = outlier_removal(df7,df7[col], limit = 3)\n",
        "\n",
        "df7.shape"
      ]
    },
    {
      "cell_type": "markdown",
      "metadata": {
        "id": "LBWWzp3lBGGs"
      },
      "source": [
        "#### Handling Categorical Variables"
      ]
    },
    {
      "cell_type": "code",
      "execution_count": null,
      "metadata": {
        "colab": {
          "base_uri": "https://localhost:8080/"
        },
        "id": "TnAkGEbX85No",
        "outputId": "f86e9ea1-0176-4ee0-87c4-ef4e7adb3f16"
      },
      "outputs": [
        {
          "output_type": "stream",
          "name": "stdout",
          "text": [
            "float64    21\n",
            "object     10\n",
            "int64       1\n",
            "dtype: int64\n"
          ]
        }
      ],
      "source": [
        "print(df7.dtypes.value_counts())"
      ]
    },
    {
      "cell_type": "code",
      "execution_count": null,
      "metadata": {
        "colab": {
          "base_uri": "https://localhost:8080/"
        },
        "id": "V_vNOh6s9OKt",
        "outputId": "16659547-c9f4-41fe-8807-22f8a1f23c29"
      },
      "outputs": [
        {
          "output_type": "execute_result",
          "data": {
            "text/plain": [
              "Index(['term', 'grade', 'sub_grade', 'emp_length', 'home_ownership',\n",
              "       'verification_status', 'title', 'addr_state', 'earliest_cr_line',\n",
              "       'last_credit_pull_d'],\n",
              "      dtype='object')"
            ]
          },
          "metadata": {},
          "execution_count": 166
        }
      ],
      "source": [
        "obj_cols = df7.select_dtypes(include=[\"object\"]).columns\n",
        "obj_cols"
      ]
    },
    {
      "cell_type": "code",
      "execution_count": null,
      "metadata": {
        "colab": {
          "base_uri": "https://localhost:8080/"
        },
        "id": "M_SgXtrND9dz",
        "outputId": "fe73a6f0-cc2d-4cf8-f193-993c37bfb2ff"
      },
      "outputs": [
        {
          "output_type": "stream",
          "name": "stdout",
          "text": [
            " 36 months    23616\n",
            " 60 months     8792\n",
            "Name: term, dtype: int64\n",
            "B    9981\n",
            "A    9074\n",
            "C    6308\n",
            "D    3954\n",
            "E    2142\n",
            "F     734\n",
            "G     215\n",
            "Name: grade, dtype: int64\n",
            "A4    2604\n",
            "A5    2443\n",
            "B3    2443\n",
            "B5    2195\n",
            "B4    2071\n",
            "B2    1728\n",
            "C1    1688\n",
            "A3    1636\n",
            "C2    1615\n",
            "B1    1544\n",
            "A2    1366\n",
            "C3    1191\n",
            "A1    1025\n",
            "D2    1006\n",
            "C4     942\n",
            "C5     872\n",
            "D3     870\n",
            "D4     741\n",
            "D5     672\n",
            "D1     665\n",
            "E1     603\n",
            "E2     485\n",
            "E3     407\n",
            "E4     335\n",
            "E5     312\n",
            "F1     231\n",
            "F2     186\n",
            "F3     129\n",
            "F4     110\n",
            "F5      78\n",
            "G1      69\n",
            "G2      51\n",
            "G4      41\n",
            "G3      29\n",
            "G5      25\n",
            "Name: sub_grade, dtype: int64\n",
            "10+ years    7240\n",
            "< 1 year     3859\n",
            "2 years      3727\n",
            "3 years      3491\n",
            "4 years      2952\n",
            "5 years      2843\n",
            "1 year       2679\n",
            "6 years      1885\n",
            "7 years      1475\n",
            "8 years      1203\n",
            "9 years      1054\n",
            "Name: emp_length, dtype: int64\n",
            "RENT        15665\n",
            "MORTGAGE    14299\n",
            "OWN          2371\n",
            "OTHER          73\n",
            "Name: home_ownership, dtype: int64\n",
            "Not Verified       13494\n",
            "Verified           10579\n",
            "Source Verified     8335\n",
            "Name: verification_status, dtype: int64\n",
            "Debt Consolidation             1825\n",
            "Debt Consolidation Loan        1436\n",
            "Personal Loan                   537\n",
            "Consolidation                   422\n",
            "debt consolidation              412\n",
            "                               ... \n",
            "Market Bamboo Furniture           1\n",
            "Clare's Motorcycle!!!             1\n",
            "CREDIT CARD                       1\n",
            "Big Dog Motorcycle                1\n",
            "Operation Freedom From Debt       1\n",
            "Name: title, Length: 16233, dtype: int64\n",
            "CA    5833\n",
            "NY    3124\n",
            "FL    2357\n",
            "TX    2285\n",
            "NJ    1570\n",
            "PA    1275\n",
            "IL    1259\n",
            "VA    1148\n",
            "GA    1132\n",
            "MA    1091\n",
            "OH     970\n",
            "MD     836\n",
            "AZ     667\n",
            "WA     666\n",
            "CO     642\n",
            "CT     614\n",
            "NC     605\n",
            "MI     590\n",
            "MO     547\n",
            "MN     495\n",
            "NV     402\n",
            "SC     387\n",
            "WI     371\n",
            "OR     364\n",
            "LA     354\n",
            "AL     346\n",
            "KY     272\n",
            "OK     252\n",
            "KS     223\n",
            "UT     210\n",
            "AR     195\n",
            "DC     193\n",
            "RI     162\n",
            "NM     152\n",
            "WV     143\n",
            "HI     141\n",
            "NH     133\n",
            "DE      89\n",
            "MT      66\n",
            "AK      64\n",
            "WY      62\n",
            "SD      52\n",
            "VT      43\n",
            "MS      14\n",
            "TN       8\n",
            "ID       3\n",
            "IA       1\n",
            "Name: addr_state, dtype: int64\n",
            "Oct-1999    313\n",
            "Nov-1998    301\n",
            "Oct-2000    285\n",
            "Nov-2000    278\n",
            "Dec-1998    276\n",
            "           ... \n",
            "Dec-1950      1\n",
            "Jan-1946      1\n",
            "Feb-1970      1\n",
            "Sep-1963      1\n",
            "May-1972      1\n",
            "Name: earliest_cr_line, Length: 507, dtype: int64\n",
            "Dec-2016    8641\n",
            "Oct-2016    3656\n",
            "Nov-2016     696\n",
            "Mar-2016     623\n",
            "Feb-2013     549\n",
            "            ... \n",
            "Sep-2008       3\n",
            "Mar-2008       3\n",
            "Dec-2008       2\n",
            "Aug-2008       2\n",
            "May-2008       1\n",
            "Name: last_credit_pull_d, Length: 103, dtype: int64\n"
          ]
        }
      ],
      "source": [
        "for col in obj_cols:\n",
        "  print(df7[col].value_counts())"
      ]
    },
    {
      "cell_type": "markdown",
      "metadata": {
        "id": "LzipGHTUHVLw"
      },
      "source": [
        "**NOTE -** \n",
        "1. We will remove the addr_state because if we were to encode all these variables, we would make our dataframe quite large and would slow the computation done by our machine learning algorithm.\n",
        "\n",
        "2. We will keep Purpose Column and remove Title, since, both of the columns have same information, where title containing a lot of the same just under a different form\n",
        "\n",
        "3. *earliest_cr_line*: The month the borrower's earliest reported credit line was opened\n",
        "\n",
        "and *last_credit_pull_d*: The most recent month LC pulled credit for this loan;\n",
        "\n",
        "can be dropped since they will not help us much.\n",
        "\n",
        "4. We will encode the variable emp_length"
      ]
    },
    {
      "cell_type": "code",
      "execution_count": null,
      "metadata": {
        "colab": {
          "base_uri": "https://localhost:8080/"
        },
        "id": "SgJhzFwVagbD",
        "outputId": "0827bd3c-bce4-4721-9a33-928777f598c1"
      },
      "outputs": [
        {
          "output_type": "execute_result",
          "data": {
            "text/plain": [
              "10+ years    7240\n",
              "< 1 year     3859\n",
              "2 years      3727\n",
              "3 years      3491\n",
              "4 years      2952\n",
              "5 years      2843\n",
              "1 year       2679\n",
              "6 years      1885\n",
              "7 years      1475\n",
              "8 years      1203\n",
              "9 years      1054\n",
              "Name: emp_length, dtype: int64"
            ]
          },
          "metadata": {},
          "execution_count": 168
        }
      ],
      "source": [
        "df7['emp_length'].value_counts()"
      ]
    },
    {
      "cell_type": "code",
      "execution_count": null,
      "metadata": {
        "id": "h_EnEn1FEBUN"
      },
      "outputs": [],
      "source": [
        "map_emp_lngth = {\n",
        "    \"emp_length\": {\n",
        "        \"10+ years\": 10,\n",
        "        \"9 years\": 9,\n",
        "        \"8 years\": 8,\n",
        "        \"7 years\": 7,\n",
        "        \"6 years\": 6,\n",
        "        \"5 years\": 5,\n",
        "        \"4 years\": 4,\n",
        "        \"3 years\": 3,\n",
        "        \"2 years\": 2,\n",
        "        \"1 year\": 1,\n",
        "        \"< 1 year\": 0}\n",
        "}\n",
        "df8 = df7.drop([\"last_credit_pull_d\", \"earliest_cr_line\", \"addr_state\", \"title\"], axis=1)\n",
        "df8 = df8.replace(map_emp_lngth)\n",
        "df8=df8.drop('emp_length',axis=1)"
      ]
    },
    {
      "cell_type": "code",
      "execution_count": null,
      "metadata": {
        "colab": {
          "base_uri": "https://localhost:8080/"
        },
        "id": "2Y9j0A2GrTqH",
        "outputId": "b98c2b2c-f63c-402b-abc8-01d4813afc12"
      },
      "outputs": [
        {
          "output_type": "execute_result",
          "data": {
            "text/plain": [
              "Index(['term', 'grade', 'sub_grade', 'home_ownership', 'verification_status'], dtype='object')"
            ]
          },
          "metadata": {},
          "execution_count": 170
        }
      ],
      "source": [
        "obj_cols = df8.select_dtypes(include=[\"object\"]).columns\n",
        "obj_cols"
      ]
    },
    {
      "cell_type": "code",
      "execution_count": null,
      "metadata": {
        "colab": {
          "base_uri": "https://localhost:8080/",
          "height": 299
        },
        "id": "ntaQaWeualuw",
        "outputId": "94267f72-9fc7-453f-ecb7-b424fd97a0d8"
      },
      "outputs": [
        {
          "output_type": "execute_result",
          "data": {
            "text/plain": [
              "   loan_amnt  funded_amnt  funded_amnt_inv  int_rate  installment  annual_inc  \\\n",
              "0     5000.0       5000.0           4975.0     10.65       162.87     24000.0   \n",
              "1     2500.0       2500.0           2500.0     15.27        59.83     30000.0   \n",
              "2     2400.0       2400.0           2400.0     15.96        84.33     12252.0   \n",
              "3    10000.0      10000.0          10000.0     13.49       339.31     49200.0   \n",
              "5     5000.0       5000.0           5000.0      7.90       156.46     36000.0   \n",
              "\n",
              "   loan_status    dti  delinq_2yrs  inq_last_6mths  ...  sub_grade_F1  \\\n",
              "0            0  27.65          0.0             1.0  ...             0   \n",
              "1            1   1.00          0.0             5.0  ...             0   \n",
              "2            0   8.72          0.0             2.0  ...             0   \n",
              "3            0  20.00          0.0             1.0  ...             0   \n",
              "5            0  11.20          0.0             3.0  ...             0   \n",
              "\n",
              "   sub_grade_F2  sub_grade_F3  sub_grade_F4  sub_grade_F5  sub_grade_G1  \\\n",
              "0             0             0             0             0             0   \n",
              "1             0             0             0             0             0   \n",
              "2             0             0             0             0             0   \n",
              "3             0             0             0             0             0   \n",
              "5             0             0             0             0             0   \n",
              "\n",
              "   sub_grade_G2  sub_grade_G3  sub_grade_G4  sub_grade_G5  \n",
              "0             0             0             0             0  \n",
              "1             0             0             0             0  \n",
              "2             0             0             0             0  \n",
              "3             0             0             0             0  \n",
              "5             0             0             0             0  \n",
              "\n",
              "[5 rows x 73 columns]"
            ],
            "text/html": [
              "\n",
              "  <div id=\"df-a82ece45-f51a-4789-a103-bacba5611935\">\n",
              "    <div class=\"colab-df-container\">\n",
              "      <div>\n",
              "<style scoped>\n",
              "    .dataframe tbody tr th:only-of-type {\n",
              "        vertical-align: middle;\n",
              "    }\n",
              "\n",
              "    .dataframe tbody tr th {\n",
              "        vertical-align: top;\n",
              "    }\n",
              "\n",
              "    .dataframe thead th {\n",
              "        text-align: right;\n",
              "    }\n",
              "</style>\n",
              "<table border=\"1\" class=\"dataframe\">\n",
              "  <thead>\n",
              "    <tr style=\"text-align: right;\">\n",
              "      <th></th>\n",
              "      <th>loan_amnt</th>\n",
              "      <th>funded_amnt</th>\n",
              "      <th>funded_amnt_inv</th>\n",
              "      <th>int_rate</th>\n",
              "      <th>installment</th>\n",
              "      <th>annual_inc</th>\n",
              "      <th>loan_status</th>\n",
              "      <th>dti</th>\n",
              "      <th>delinq_2yrs</th>\n",
              "      <th>inq_last_6mths</th>\n",
              "      <th>...</th>\n",
              "      <th>sub_grade_F1</th>\n",
              "      <th>sub_grade_F2</th>\n",
              "      <th>sub_grade_F3</th>\n",
              "      <th>sub_grade_F4</th>\n",
              "      <th>sub_grade_F5</th>\n",
              "      <th>sub_grade_G1</th>\n",
              "      <th>sub_grade_G2</th>\n",
              "      <th>sub_grade_G3</th>\n",
              "      <th>sub_grade_G4</th>\n",
              "      <th>sub_grade_G5</th>\n",
              "    </tr>\n",
              "  </thead>\n",
              "  <tbody>\n",
              "    <tr>\n",
              "      <th>0</th>\n",
              "      <td>5000.0</td>\n",
              "      <td>5000.0</td>\n",
              "      <td>4975.0</td>\n",
              "      <td>10.65</td>\n",
              "      <td>162.87</td>\n",
              "      <td>24000.0</td>\n",
              "      <td>0</td>\n",
              "      <td>27.65</td>\n",
              "      <td>0.0</td>\n",
              "      <td>1.0</td>\n",
              "      <td>...</td>\n",
              "      <td>0</td>\n",
              "      <td>0</td>\n",
              "      <td>0</td>\n",
              "      <td>0</td>\n",
              "      <td>0</td>\n",
              "      <td>0</td>\n",
              "      <td>0</td>\n",
              "      <td>0</td>\n",
              "      <td>0</td>\n",
              "      <td>0</td>\n",
              "    </tr>\n",
              "    <tr>\n",
              "      <th>1</th>\n",
              "      <td>2500.0</td>\n",
              "      <td>2500.0</td>\n",
              "      <td>2500.0</td>\n",
              "      <td>15.27</td>\n",
              "      <td>59.83</td>\n",
              "      <td>30000.0</td>\n",
              "      <td>1</td>\n",
              "      <td>1.00</td>\n",
              "      <td>0.0</td>\n",
              "      <td>5.0</td>\n",
              "      <td>...</td>\n",
              "      <td>0</td>\n",
              "      <td>0</td>\n",
              "      <td>0</td>\n",
              "      <td>0</td>\n",
              "      <td>0</td>\n",
              "      <td>0</td>\n",
              "      <td>0</td>\n",
              "      <td>0</td>\n",
              "      <td>0</td>\n",
              "      <td>0</td>\n",
              "    </tr>\n",
              "    <tr>\n",
              "      <th>2</th>\n",
              "      <td>2400.0</td>\n",
              "      <td>2400.0</td>\n",
              "      <td>2400.0</td>\n",
              "      <td>15.96</td>\n",
              "      <td>84.33</td>\n",
              "      <td>12252.0</td>\n",
              "      <td>0</td>\n",
              "      <td>8.72</td>\n",
              "      <td>0.0</td>\n",
              "      <td>2.0</td>\n",
              "      <td>...</td>\n",
              "      <td>0</td>\n",
              "      <td>0</td>\n",
              "      <td>0</td>\n",
              "      <td>0</td>\n",
              "      <td>0</td>\n",
              "      <td>0</td>\n",
              "      <td>0</td>\n",
              "      <td>0</td>\n",
              "      <td>0</td>\n",
              "      <td>0</td>\n",
              "    </tr>\n",
              "    <tr>\n",
              "      <th>3</th>\n",
              "      <td>10000.0</td>\n",
              "      <td>10000.0</td>\n",
              "      <td>10000.0</td>\n",
              "      <td>13.49</td>\n",
              "      <td>339.31</td>\n",
              "      <td>49200.0</td>\n",
              "      <td>0</td>\n",
              "      <td>20.00</td>\n",
              "      <td>0.0</td>\n",
              "      <td>1.0</td>\n",
              "      <td>...</td>\n",
              "      <td>0</td>\n",
              "      <td>0</td>\n",
              "      <td>0</td>\n",
              "      <td>0</td>\n",
              "      <td>0</td>\n",
              "      <td>0</td>\n",
              "      <td>0</td>\n",
              "      <td>0</td>\n",
              "      <td>0</td>\n",
              "      <td>0</td>\n",
              "    </tr>\n",
              "    <tr>\n",
              "      <th>5</th>\n",
              "      <td>5000.0</td>\n",
              "      <td>5000.0</td>\n",
              "      <td>5000.0</td>\n",
              "      <td>7.90</td>\n",
              "      <td>156.46</td>\n",
              "      <td>36000.0</td>\n",
              "      <td>0</td>\n",
              "      <td>11.20</td>\n",
              "      <td>0.0</td>\n",
              "      <td>3.0</td>\n",
              "      <td>...</td>\n",
              "      <td>0</td>\n",
              "      <td>0</td>\n",
              "      <td>0</td>\n",
              "      <td>0</td>\n",
              "      <td>0</td>\n",
              "      <td>0</td>\n",
              "      <td>0</td>\n",
              "      <td>0</td>\n",
              "      <td>0</td>\n",
              "      <td>0</td>\n",
              "    </tr>\n",
              "  </tbody>\n",
              "</table>\n",
              "<p>5 rows × 73 columns</p>\n",
              "</div>\n",
              "      <button class=\"colab-df-convert\" onclick=\"convertToInteractive('df-a82ece45-f51a-4789-a103-bacba5611935')\"\n",
              "              title=\"Convert this dataframe to an interactive table.\"\n",
              "              style=\"display:none;\">\n",
              "        \n",
              "  <svg xmlns=\"http://www.w3.org/2000/svg\" height=\"24px\"viewBox=\"0 0 24 24\"\n",
              "       width=\"24px\">\n",
              "    <path d=\"M0 0h24v24H0V0z\" fill=\"none\"/>\n",
              "    <path d=\"M18.56 5.44l.94 2.06.94-2.06 2.06-.94-2.06-.94-.94-2.06-.94 2.06-2.06.94zm-11 1L8.5 8.5l.94-2.06 2.06-.94-2.06-.94L8.5 2.5l-.94 2.06-2.06.94zm10 10l.94 2.06.94-2.06 2.06-.94-2.06-.94-.94-2.06-.94 2.06-2.06.94z\"/><path d=\"M17.41 7.96l-1.37-1.37c-.4-.4-.92-.59-1.43-.59-.52 0-1.04.2-1.43.59L10.3 9.45l-7.72 7.72c-.78.78-.78 2.05 0 2.83L4 21.41c.39.39.9.59 1.41.59.51 0 1.02-.2 1.41-.59l7.78-7.78 2.81-2.81c.8-.78.8-2.07 0-2.86zM5.41 20L4 18.59l7.72-7.72 1.47 1.35L5.41 20z\"/>\n",
              "  </svg>\n",
              "      </button>\n",
              "      \n",
              "  <style>\n",
              "    .colab-df-container {\n",
              "      display:flex;\n",
              "      flex-wrap:wrap;\n",
              "      gap: 12px;\n",
              "    }\n",
              "\n",
              "    .colab-df-convert {\n",
              "      background-color: #E8F0FE;\n",
              "      border: none;\n",
              "      border-radius: 50%;\n",
              "      cursor: pointer;\n",
              "      display: none;\n",
              "      fill: #1967D2;\n",
              "      height: 32px;\n",
              "      padding: 0 0 0 0;\n",
              "      width: 32px;\n",
              "    }\n",
              "\n",
              "    .colab-df-convert:hover {\n",
              "      background-color: #E2EBFA;\n",
              "      box-shadow: 0px 1px 2px rgba(60, 64, 67, 0.3), 0px 1px 3px 1px rgba(60, 64, 67, 0.15);\n",
              "      fill: #174EA6;\n",
              "    }\n",
              "\n",
              "    [theme=dark] .colab-df-convert {\n",
              "      background-color: #3B4455;\n",
              "      fill: #D2E3FC;\n",
              "    }\n",
              "\n",
              "    [theme=dark] .colab-df-convert:hover {\n",
              "      background-color: #434B5C;\n",
              "      box-shadow: 0px 1px 3px 1px rgba(0, 0, 0, 0.15);\n",
              "      filter: drop-shadow(0px 1px 2px rgba(0, 0, 0, 0.3));\n",
              "      fill: #FFFFFF;\n",
              "    }\n",
              "  </style>\n",
              "\n",
              "      <script>\n",
              "        const buttonEl =\n",
              "          document.querySelector('#df-a82ece45-f51a-4789-a103-bacba5611935 button.colab-df-convert');\n",
              "        buttonEl.style.display =\n",
              "          google.colab.kernel.accessAllowed ? 'block' : 'none';\n",
              "\n",
              "        async function convertToInteractive(key) {\n",
              "          const element = document.querySelector('#df-a82ece45-f51a-4789-a103-bacba5611935');\n",
              "          const dataTable =\n",
              "            await google.colab.kernel.invokeFunction('convertToInteractive',\n",
              "                                                     [key], {});\n",
              "          if (!dataTable) return;\n",
              "\n",
              "          const docLinkHtml = 'Like what you see? Visit the ' +\n",
              "            '<a target=\"_blank\" href=https://colab.research.google.com/notebooks/data_table.ipynb>data table notebook</a>'\n",
              "            + ' to learn more about interactive tables.';\n",
              "          element.innerHTML = '';\n",
              "          dataTable['output_type'] = 'display_data';\n",
              "          await google.colab.output.renderOutput(dataTable, element);\n",
              "          const docLink = document.createElement('div');\n",
              "          docLink.innerHTML = docLinkHtml;\n",
              "          element.appendChild(docLink);\n",
              "        }\n",
              "      </script>\n",
              "    </div>\n",
              "  </div>\n",
              "  "
            ]
          },
          "metadata": {},
          "execution_count": 171
        }
      ],
      "source": [
        "categorical_columns = [\"home_ownership\", \"verification_status\", \"term\",'grade','sub_grade']\n",
        "dummy_df = pd.get_dummies(df8[categorical_columns])\n",
        "df9 = pd.concat([df8, dummy_df], axis=1)\n",
        "df10 = df9.drop(categorical_columns, axis=1)\n",
        "\n",
        "df10.shape\n",
        "\n",
        "df10.head()"
      ]
    },
    {
      "cell_type": "markdown",
      "metadata": {
        "id": "_j4gnPrJeD4E"
      },
      "source": [
        "# Model Fitting"
      ]
    },
    {
      "cell_type": "code",
      "execution_count": null,
      "metadata": {
        "colab": {
          "base_uri": "https://localhost:8080/"
        },
        "id": "Bosh9F8wbnrW",
        "outputId": "042294ff-ab5a-4390-a064-e9b97fc0d791"
      },
      "outputs": [
        {
          "output_type": "stream",
          "name": "stdout",
          "text": [
            "0    28055\n",
            "1     4353\n",
            "Name: loan_status, dtype: int64\n"
          ]
        },
        {
          "output_type": "execute_result",
          "data": {
            "text/plain": [
              "0    86.57\n",
              "1    13.43\n",
              "Name: loan_status, dtype: float64"
            ]
          },
          "metadata": {},
          "execution_count": 172
        }
      ],
      "source": [
        "print(df10['loan_status'].value_counts())\n",
        "np.round(df10['loan_status'].value_counts()*100/df10.shape[0],2)"
      ]
    },
    {
      "cell_type": "markdown",
      "metadata": {
        "id": "Flva4VWkPQdj"
      },
      "source": [
        "Metric for comparison"
      ]
    },
    {
      "cell_type": "markdown",
      "metadata": {
        "id": "NwfYz8cgPrFw"
      },
      "source": [
        "**F1 score** will be used as the performance metric for comparison.\n",
        "\n",
        "Since the data is largely imbalanced, accuracy cannot be taken into consideration as a metric for comparison between models.\n",
        "\n",
        "Both precision and recall can be used for comparison, however, since F1 score is the harmonic mean of precision and recall, so it contains the essence of both precision and recall.\n",
        "\n",
        "Formula for F1 score: (2 * precision * recall)/(precision+recall)\n",
        "\n",
        "\n",
        "Therefore, in this project, F1 score has been considered as the metric for comparison across different models."
      ]
    },
    {
      "cell_type": "code",
      "execution_count": null,
      "metadata": {
        "colab": {
          "base_uri": "https://localhost:8080/"
        },
        "id": "9A5pi39phNCe",
        "outputId": "3ff1e1af-ea2b-4453-fa24-b6296a8e0f17"
      },
      "outputs": [
        {
          "output_type": "stream",
          "name": "stdout",
          "text": [
            "Index(['loan_amnt', 'funded_amnt', 'funded_amnt_inv', 'int_rate',\n",
            "       'installment', 'annual_inc', 'dti', 'delinq_2yrs', 'inq_last_6mths',\n",
            "       'open_acc', 'pub_rec', 'revol_bal', 'revol_util', 'total_acc',\n",
            "       'total_pymnt', 'total_pymnt_inv', 'total_rec_prncp', 'total_rec_int',\n",
            "       'total_rec_late_fee', 'last_pymnt_amnt', 'pub_rec_bankruptcies',\n",
            "       'home_ownership_MORTGAGE', 'home_ownership_OTHER', 'home_ownership_OWN',\n",
            "       'home_ownership_RENT', 'verification_status_Not Verified',\n",
            "       'verification_status_Source Verified', 'verification_status_Verified',\n",
            "       'term_ 36 months', 'term_ 60 months', 'grade_A', 'grade_B', 'grade_C',\n",
            "       'grade_D', 'grade_E', 'grade_F', 'grade_G', 'sub_grade_A1',\n",
            "       'sub_grade_A2', 'sub_grade_A3', 'sub_grade_A4', 'sub_grade_A5',\n",
            "       'sub_grade_B1', 'sub_grade_B2', 'sub_grade_B3', 'sub_grade_B4',\n",
            "       'sub_grade_B5', 'sub_grade_C1', 'sub_grade_C2', 'sub_grade_C3',\n",
            "       'sub_grade_C4', 'sub_grade_C5', 'sub_grade_D1', 'sub_grade_D2',\n",
            "       'sub_grade_D3', 'sub_grade_D4', 'sub_grade_D5', 'sub_grade_E1',\n",
            "       'sub_grade_E2', 'sub_grade_E3', 'sub_grade_E4', 'sub_grade_E5',\n",
            "       'sub_grade_F1', 'sub_grade_F2', 'sub_grade_F3', 'sub_grade_F4',\n",
            "       'sub_grade_F5', 'sub_grade_G1', 'sub_grade_G2', 'sub_grade_G3',\n",
            "       'sub_grade_G4', 'sub_grade_G5'],\n",
            "      dtype='object')\n",
            "X train shape (24306, 72)\n",
            "X test shape (8102, 72)\n",
            "y train shape (24306,)\n",
            "y test shape (8102,)\n"
          ]
        }
      ],
      "source": [
        "from sklearn.model_selection import train_test_split\n",
        "\n",
        "X = df10.drop(['loan_status'],axis=1)\n",
        "y = df10.loan_status\n",
        "\n",
        "print(X.columns)\n",
        "\n",
        "X_train,X_test,y_train,y_test=train_test_split(X, y, test_size= 0.25, random_state=42)\n",
        "\n",
        "print(\"X train shape\",X_train.shape)\n",
        "print(\"X test shape\",X_test.shape)\n",
        "print(\"y train shape\",y_train.shape)\n",
        "print(\"y test shape\",y_test.shape)"
      ]
    },
    {
      "cell_type": "code",
      "execution_count": null,
      "metadata": {
        "colab": {
          "base_uri": "https://localhost:8080/"
        },
        "id": "l0E1grJGn_vX",
        "outputId": "cb94667b-7990-4f55-dc68-e1843824b5f7"
      },
      "outputs": [
        {
          "output_type": "stream",
          "name": "stdout",
          "text": [
            "<class 'pandas.core.frame.DataFrame'>\n",
            "Int64Index: 32408 entries, 0 to 39071\n",
            "Data columns (total 72 columns):\n",
            " #   Column                               Non-Null Count  Dtype  \n",
            "---  ------                               --------------  -----  \n",
            " 0   loan_amnt                            32408 non-null  float64\n",
            " 1   funded_amnt                          32408 non-null  float64\n",
            " 2   funded_amnt_inv                      32408 non-null  float64\n",
            " 3   int_rate                             32408 non-null  float64\n",
            " 4   installment                          32408 non-null  float64\n",
            " 5   annual_inc                           32408 non-null  float64\n",
            " 6   dti                                  32408 non-null  float64\n",
            " 7   delinq_2yrs                          32408 non-null  float64\n",
            " 8   inq_last_6mths                       32408 non-null  float64\n",
            " 9   open_acc                             32408 non-null  float64\n",
            " 10  pub_rec                              32408 non-null  float64\n",
            " 11  revol_bal                            32408 non-null  float64\n",
            " 12  revol_util                           32408 non-null  float64\n",
            " 13  total_acc                            32408 non-null  float64\n",
            " 14  total_pymnt                          32408 non-null  float64\n",
            " 15  total_pymnt_inv                      32408 non-null  float64\n",
            " 16  total_rec_prncp                      32408 non-null  float64\n",
            " 17  total_rec_int                        32408 non-null  float64\n",
            " 18  total_rec_late_fee                   32408 non-null  float64\n",
            " 19  last_pymnt_amnt                      32408 non-null  float64\n",
            " 20  pub_rec_bankruptcies                 32408 non-null  float64\n",
            " 21  home_ownership_MORTGAGE              32408 non-null  uint8  \n",
            " 22  home_ownership_OTHER                 32408 non-null  uint8  \n",
            " 23  home_ownership_OWN                   32408 non-null  uint8  \n",
            " 24  home_ownership_RENT                  32408 non-null  uint8  \n",
            " 25  verification_status_Not Verified     32408 non-null  uint8  \n",
            " 26  verification_status_Source Verified  32408 non-null  uint8  \n",
            " 27  verification_status_Verified         32408 non-null  uint8  \n",
            " 28  term_ 36 months                      32408 non-null  uint8  \n",
            " 29  term_ 60 months                      32408 non-null  uint8  \n",
            " 30  grade_A                              32408 non-null  uint8  \n",
            " 31  grade_B                              32408 non-null  uint8  \n",
            " 32  grade_C                              32408 non-null  uint8  \n",
            " 33  grade_D                              32408 non-null  uint8  \n",
            " 34  grade_E                              32408 non-null  uint8  \n",
            " 35  grade_F                              32408 non-null  uint8  \n",
            " 36  grade_G                              32408 non-null  uint8  \n",
            " 37  sub_grade_A1                         32408 non-null  uint8  \n",
            " 38  sub_grade_A2                         32408 non-null  uint8  \n",
            " 39  sub_grade_A3                         32408 non-null  uint8  \n",
            " 40  sub_grade_A4                         32408 non-null  uint8  \n",
            " 41  sub_grade_A5                         32408 non-null  uint8  \n",
            " 42  sub_grade_B1                         32408 non-null  uint8  \n",
            " 43  sub_grade_B2                         32408 non-null  uint8  \n",
            " 44  sub_grade_B3                         32408 non-null  uint8  \n",
            " 45  sub_grade_B4                         32408 non-null  uint8  \n",
            " 46  sub_grade_B5                         32408 non-null  uint8  \n",
            " 47  sub_grade_C1                         32408 non-null  uint8  \n",
            " 48  sub_grade_C2                         32408 non-null  uint8  \n",
            " 49  sub_grade_C3                         32408 non-null  uint8  \n",
            " 50  sub_grade_C4                         32408 non-null  uint8  \n",
            " 51  sub_grade_C5                         32408 non-null  uint8  \n",
            " 52  sub_grade_D1                         32408 non-null  uint8  \n",
            " 53  sub_grade_D2                         32408 non-null  uint8  \n",
            " 54  sub_grade_D3                         32408 non-null  uint8  \n",
            " 55  sub_grade_D4                         32408 non-null  uint8  \n",
            " 56  sub_grade_D5                         32408 non-null  uint8  \n",
            " 57  sub_grade_E1                         32408 non-null  uint8  \n",
            " 58  sub_grade_E2                         32408 non-null  uint8  \n",
            " 59  sub_grade_E3                         32408 non-null  uint8  \n",
            " 60  sub_grade_E4                         32408 non-null  uint8  \n",
            " 61  sub_grade_E5                         32408 non-null  uint8  \n",
            " 62  sub_grade_F1                         32408 non-null  uint8  \n",
            " 63  sub_grade_F2                         32408 non-null  uint8  \n",
            " 64  sub_grade_F3                         32408 non-null  uint8  \n",
            " 65  sub_grade_F4                         32408 non-null  uint8  \n",
            " 66  sub_grade_F5                         32408 non-null  uint8  \n",
            " 67  sub_grade_G1                         32408 non-null  uint8  \n",
            " 68  sub_grade_G2                         32408 non-null  uint8  \n",
            " 69  sub_grade_G3                         32408 non-null  uint8  \n",
            " 70  sub_grade_G4                         32408 non-null  uint8  \n",
            " 71  sub_grade_G5                         32408 non-null  uint8  \n",
            "dtypes: float64(21), uint8(51)\n",
            "memory usage: 7.0 MB\n"
          ]
        }
      ],
      "source": [
        "X.info()"
      ]
    },
    {
      "cell_type": "code",
      "execution_count": null,
      "metadata": {
        "colab": {
          "base_uri": "https://localhost:8080/",
          "height": 253
        },
        "id": "ZkvpDxesgKsA",
        "outputId": "bf582018-be55-4c49-cf28-a6a09af235e6"
      },
      "outputs": [
        {
          "output_type": "stream",
          "name": "stdout",
          "text": [
            "(24306, 72)\n"
          ]
        },
        {
          "output_type": "execute_result",
          "data": {
            "text/plain": [
              "         0         1         2         3         4         5         6    7   \\\n",
              "0  0.095551  0.095551  0.114286  0.328117  0.088729  0.006079  0.301169  0.0   \n",
              "1  0.057622  0.057622  0.077143  0.792906  0.064103  0.001935  0.511185  0.0   \n",
              "2  0.328957  0.328957  0.342857  0.709963  0.230566  0.005003  0.447746  0.0   \n",
              "3  1.000000  1.000000  1.000000  0.551382  0.957911  0.107405  0.155259  0.0   \n",
              "4  0.219548  0.219548  0.235714  0.107981  0.187108  0.003536  0.807679  0.0   \n",
              "\n",
              "      8         9   ...   62   63   64   65   66   67   68   69   70   71  \n",
              "0  0.000  0.047619  ...  0.0  0.0  0.0  0.0  0.0  0.0  0.0  0.0  0.0  0.0  \n",
              "1  0.000  0.023810  ...  0.0  1.0  0.0  0.0  0.0  0.0  0.0  0.0  0.0  0.0  \n",
              "2  0.250  0.095238  ...  0.0  0.0  0.0  0.0  0.0  0.0  0.0  0.0  0.0  0.0  \n",
              "3  0.375  0.404762  ...  0.0  0.0  0.0  0.0  0.0  0.0  0.0  0.0  0.0  0.0  \n",
              "4  0.000  0.119048  ...  0.0  0.0  0.0  0.0  0.0  0.0  0.0  0.0  0.0  0.0  \n",
              "\n",
              "[5 rows x 72 columns]"
            ],
            "text/html": [
              "\n",
              "  <div id=\"df-a296d574-d780-42a8-91b6-ed54df82962f\">\n",
              "    <div class=\"colab-df-container\">\n",
              "      <div>\n",
              "<style scoped>\n",
              "    .dataframe tbody tr th:only-of-type {\n",
              "        vertical-align: middle;\n",
              "    }\n",
              "\n",
              "    .dataframe tbody tr th {\n",
              "        vertical-align: top;\n",
              "    }\n",
              "\n",
              "    .dataframe thead th {\n",
              "        text-align: right;\n",
              "    }\n",
              "</style>\n",
              "<table border=\"1\" class=\"dataframe\">\n",
              "  <thead>\n",
              "    <tr style=\"text-align: right;\">\n",
              "      <th></th>\n",
              "      <th>0</th>\n",
              "      <th>1</th>\n",
              "      <th>2</th>\n",
              "      <th>3</th>\n",
              "      <th>4</th>\n",
              "      <th>5</th>\n",
              "      <th>6</th>\n",
              "      <th>7</th>\n",
              "      <th>8</th>\n",
              "      <th>9</th>\n",
              "      <th>...</th>\n",
              "      <th>62</th>\n",
              "      <th>63</th>\n",
              "      <th>64</th>\n",
              "      <th>65</th>\n",
              "      <th>66</th>\n",
              "      <th>67</th>\n",
              "      <th>68</th>\n",
              "      <th>69</th>\n",
              "      <th>70</th>\n",
              "      <th>71</th>\n",
              "    </tr>\n",
              "  </thead>\n",
              "  <tbody>\n",
              "    <tr>\n",
              "      <th>0</th>\n",
              "      <td>0.095551</td>\n",
              "      <td>0.095551</td>\n",
              "      <td>0.114286</td>\n",
              "      <td>0.328117</td>\n",
              "      <td>0.088729</td>\n",
              "      <td>0.006079</td>\n",
              "      <td>0.301169</td>\n",
              "      <td>0.0</td>\n",
              "      <td>0.000</td>\n",
              "      <td>0.047619</td>\n",
              "      <td>...</td>\n",
              "      <td>0.0</td>\n",
              "      <td>0.0</td>\n",
              "      <td>0.0</td>\n",
              "      <td>0.0</td>\n",
              "      <td>0.0</td>\n",
              "      <td>0.0</td>\n",
              "      <td>0.0</td>\n",
              "      <td>0.0</td>\n",
              "      <td>0.0</td>\n",
              "      <td>0.0</td>\n",
              "    </tr>\n",
              "    <tr>\n",
              "      <th>1</th>\n",
              "      <td>0.057622</td>\n",
              "      <td>0.057622</td>\n",
              "      <td>0.077143</td>\n",
              "      <td>0.792906</td>\n",
              "      <td>0.064103</td>\n",
              "      <td>0.001935</td>\n",
              "      <td>0.511185</td>\n",
              "      <td>0.0</td>\n",
              "      <td>0.000</td>\n",
              "      <td>0.023810</td>\n",
              "      <td>...</td>\n",
              "      <td>0.0</td>\n",
              "      <td>1.0</td>\n",
              "      <td>0.0</td>\n",
              "      <td>0.0</td>\n",
              "      <td>0.0</td>\n",
              "      <td>0.0</td>\n",
              "      <td>0.0</td>\n",
              "      <td>0.0</td>\n",
              "      <td>0.0</td>\n",
              "      <td>0.0</td>\n",
              "    </tr>\n",
              "    <tr>\n",
              "      <th>2</th>\n",
              "      <td>0.328957</td>\n",
              "      <td>0.328957</td>\n",
              "      <td>0.342857</td>\n",
              "      <td>0.709963</td>\n",
              "      <td>0.230566</td>\n",
              "      <td>0.005003</td>\n",
              "      <td>0.447746</td>\n",
              "      <td>0.0</td>\n",
              "      <td>0.250</td>\n",
              "      <td>0.095238</td>\n",
              "      <td>...</td>\n",
              "      <td>0.0</td>\n",
              "      <td>0.0</td>\n",
              "      <td>0.0</td>\n",
              "      <td>0.0</td>\n",
              "      <td>0.0</td>\n",
              "      <td>0.0</td>\n",
              "      <td>0.0</td>\n",
              "      <td>0.0</td>\n",
              "      <td>0.0</td>\n",
              "      <td>0.0</td>\n",
              "    </tr>\n",
              "    <tr>\n",
              "      <th>3</th>\n",
              "      <td>1.000000</td>\n",
              "      <td>1.000000</td>\n",
              "      <td>1.000000</td>\n",
              "      <td>0.551382</td>\n",
              "      <td>0.957911</td>\n",
              "      <td>0.107405</td>\n",
              "      <td>0.155259</td>\n",
              "      <td>0.0</td>\n",
              "      <td>0.375</td>\n",
              "      <td>0.404762</td>\n",
              "      <td>...</td>\n",
              "      <td>0.0</td>\n",
              "      <td>0.0</td>\n",
              "      <td>0.0</td>\n",
              "      <td>0.0</td>\n",
              "      <td>0.0</td>\n",
              "      <td>0.0</td>\n",
              "      <td>0.0</td>\n",
              "      <td>0.0</td>\n",
              "      <td>0.0</td>\n",
              "      <td>0.0</td>\n",
              "    </tr>\n",
              "    <tr>\n",
              "      <th>4</th>\n",
              "      <td>0.219548</td>\n",
              "      <td>0.219548</td>\n",
              "      <td>0.235714</td>\n",
              "      <td>0.107981</td>\n",
              "      <td>0.187108</td>\n",
              "      <td>0.003536</td>\n",
              "      <td>0.807679</td>\n",
              "      <td>0.0</td>\n",
              "      <td>0.000</td>\n",
              "      <td>0.119048</td>\n",
              "      <td>...</td>\n",
              "      <td>0.0</td>\n",
              "      <td>0.0</td>\n",
              "      <td>0.0</td>\n",
              "      <td>0.0</td>\n",
              "      <td>0.0</td>\n",
              "      <td>0.0</td>\n",
              "      <td>0.0</td>\n",
              "      <td>0.0</td>\n",
              "      <td>0.0</td>\n",
              "      <td>0.0</td>\n",
              "    </tr>\n",
              "  </tbody>\n",
              "</table>\n",
              "<p>5 rows × 72 columns</p>\n",
              "</div>\n",
              "      <button class=\"colab-df-convert\" onclick=\"convertToInteractive('df-a296d574-d780-42a8-91b6-ed54df82962f')\"\n",
              "              title=\"Convert this dataframe to an interactive table.\"\n",
              "              style=\"display:none;\">\n",
              "        \n",
              "  <svg xmlns=\"http://www.w3.org/2000/svg\" height=\"24px\"viewBox=\"0 0 24 24\"\n",
              "       width=\"24px\">\n",
              "    <path d=\"M0 0h24v24H0V0z\" fill=\"none\"/>\n",
              "    <path d=\"M18.56 5.44l.94 2.06.94-2.06 2.06-.94-2.06-.94-.94-2.06-.94 2.06-2.06.94zm-11 1L8.5 8.5l.94-2.06 2.06-.94-2.06-.94L8.5 2.5l-.94 2.06-2.06.94zm10 10l.94 2.06.94-2.06 2.06-.94-2.06-.94-.94-2.06-.94 2.06-2.06.94z\"/><path d=\"M17.41 7.96l-1.37-1.37c-.4-.4-.92-.59-1.43-.59-.52 0-1.04.2-1.43.59L10.3 9.45l-7.72 7.72c-.78.78-.78 2.05 0 2.83L4 21.41c.39.39.9.59 1.41.59.51 0 1.02-.2 1.41-.59l7.78-7.78 2.81-2.81c.8-.78.8-2.07 0-2.86zM5.41 20L4 18.59l7.72-7.72 1.47 1.35L5.41 20z\"/>\n",
              "  </svg>\n",
              "      </button>\n",
              "      \n",
              "  <style>\n",
              "    .colab-df-container {\n",
              "      display:flex;\n",
              "      flex-wrap:wrap;\n",
              "      gap: 12px;\n",
              "    }\n",
              "\n",
              "    .colab-df-convert {\n",
              "      background-color: #E8F0FE;\n",
              "      border: none;\n",
              "      border-radius: 50%;\n",
              "      cursor: pointer;\n",
              "      display: none;\n",
              "      fill: #1967D2;\n",
              "      height: 32px;\n",
              "      padding: 0 0 0 0;\n",
              "      width: 32px;\n",
              "    }\n",
              "\n",
              "    .colab-df-convert:hover {\n",
              "      background-color: #E2EBFA;\n",
              "      box-shadow: 0px 1px 2px rgba(60, 64, 67, 0.3), 0px 1px 3px 1px rgba(60, 64, 67, 0.15);\n",
              "      fill: #174EA6;\n",
              "    }\n",
              "\n",
              "    [theme=dark] .colab-df-convert {\n",
              "      background-color: #3B4455;\n",
              "      fill: #D2E3FC;\n",
              "    }\n",
              "\n",
              "    [theme=dark] .colab-df-convert:hover {\n",
              "      background-color: #434B5C;\n",
              "      box-shadow: 0px 1px 3px 1px rgba(0, 0, 0, 0.15);\n",
              "      filter: drop-shadow(0px 1px 2px rgba(0, 0, 0, 0.3));\n",
              "      fill: #FFFFFF;\n",
              "    }\n",
              "  </style>\n",
              "\n",
              "      <script>\n",
              "        const buttonEl =\n",
              "          document.querySelector('#df-a296d574-d780-42a8-91b6-ed54df82962f button.colab-df-convert');\n",
              "        buttonEl.style.display =\n",
              "          google.colab.kernel.accessAllowed ? 'block' : 'none';\n",
              "\n",
              "        async function convertToInteractive(key) {\n",
              "          const element = document.querySelector('#df-a296d574-d780-42a8-91b6-ed54df82962f');\n",
              "          const dataTable =\n",
              "            await google.colab.kernel.invokeFunction('convertToInteractive',\n",
              "                                                     [key], {});\n",
              "          if (!dataTable) return;\n",
              "\n",
              "          const docLinkHtml = 'Like what you see? Visit the ' +\n",
              "            '<a target=\"_blank\" href=https://colab.research.google.com/notebooks/data_table.ipynb>data table notebook</a>'\n",
              "            + ' to learn more about interactive tables.';\n",
              "          element.innerHTML = '';\n",
              "          dataTable['output_type'] = 'display_data';\n",
              "          await google.colab.output.renderOutput(dataTable, element);\n",
              "          const docLink = document.createElement('div');\n",
              "          docLink.innerHTML = docLinkHtml;\n",
              "          element.appendChild(docLink);\n",
              "        }\n",
              "      </script>\n",
              "    </div>\n",
              "  </div>\n",
              "  "
            ]
          },
          "metadata": {},
          "execution_count": 175
        }
      ],
      "source": [
        "from sklearn.preprocessing import MinMaxScaler\n",
        "rs = MinMaxScaler()\n",
        "\n",
        "X_scaled = pd.DataFrame(rs.fit_transform(X_train))\n",
        "\n",
        "print(X_scaled.shape)\n",
        "\n",
        "X_scaled.head()"
      ]
    },
    {
      "cell_type": "markdown",
      "metadata": {
        "id": "--VV3kdukbqx"
      },
      "source": [
        "# K-Nearest Neighbourhood Classification Model"
      ]
    },
    {
      "cell_type": "code",
      "execution_count": null,
      "metadata": {
        "id": "dnb8rH6Mqsd4"
      },
      "outputs": [],
      "source": [
        "from sklearn.model_selection import KFold \n",
        "k = 5\n",
        "kf = StratifiedKFold(n_splits = 10, shuffle=True, random_state=0)\n"
      ]
    },
    {
      "cell_type": "code",
      "execution_count": null,
      "metadata": {
        "colab": {
          "base_uri": "https://localhost:8080/"
        },
        "id": "_vmYqgB9kbKG",
        "outputId": "c937a260-0ffb-4d28-b3b2-f4698d319565"
      },
      "outputs": [
        {
          "output_type": "stream",
          "name": "stdout",
          "text": [
            "Result for K value 1\n",
            "train accuracy Mean: 1.0\n",
            "Accuracy Mean: 0.7605953281770275\n",
            "Precision Mean: 0.1469824788214161\n",
            "Recall Mean: 0.14468714740220753\n",
            "F1 Mean: 0.14556667582981514\n",
            "\n",
            "\n",
            "Result for K value 2\n",
            "train accuracy Mean: 0.8813598955149805\n",
            "Accuracy Mean: 0.8468700919027716\n",
            "Precision Mean: 0.01812582655780334\n",
            "Recall Mean: 0.13402665483849557\n",
            "F1 Mean: 0.031886289925119625\n",
            "\n",
            "\n",
            "Result for K value 3\n",
            "train accuracy Mean: 0.8818718850664785\n",
            "Accuracy Mean: 0.8215264933565587\n",
            "Precision Mean: 0.051575680196138264\n",
            "Recall Mean: 0.13355698137308494\n",
            "F1 Mean: 0.07415141292315455\n",
            "\n",
            "\n",
            "Result for K value 4\n",
            "train accuracy Mean: 0.865725895671708\n",
            "Accuracy Mean: 0.8543167894801883\n",
            "Precision Mean: 0.010746916287051536\n",
            "Recall Mean: 0.1501144117320588\n",
            "F1 Mean: 0.019983733914721358\n",
            "\n",
            "\n",
            "Result for K value 5\n",
            "train accuracy Mean: 0.8657076091215421\n",
            "Accuracy Mean: 0.8456356424983875\n",
            "Precision Mean: 0.022599213529839013\n",
            "Recall Mean: 0.14525668343412051\n",
            "F1 Mean: 0.039001172029116876\n",
            "\n",
            "\n"
          ]
        }
      ],
      "source": [
        "\n",
        "k_value_range = 5\n",
        "validation_score = []\n",
        "train_score = []\n",
        "\n",
        "for k in range(1, k_value_range+1):\n",
        "    print(\"Result for K value\", k)\n",
        "    acc_score = []\n",
        "    pre_score = []\n",
        "    rec_score = []\n",
        "    f_score = []\n",
        "    trn_score = []\n",
        "    knn = KNeighborsClassifier(n_neighbors = k, n_jobs = -1)\n",
        "    for train_index , test_index in kf.split(X_scaled,y_train):\n",
        "        X_train1, X_test1 = X_scaled.iloc[train_index,:],X_scaled.iloc[test_index,:]\n",
        "        y_train1, y_test1 = y.iloc[train_index] , y.iloc[test_index]\n",
        "     \n",
        "        knn.fit(X_train1,y_train1)\n",
        "        trn_score.append(knn.score(X_train1,y_train1))\n",
        "        pred_values = knn.predict(X_test1)\n",
        "     \n",
        "        acc = accuracy_score(pred_values , y_test1)\n",
        "        acc_score.append(acc)\n",
        "\n",
        "        pre = precision_score(pred_values , y_test1)\n",
        "        pre_score.append(pre)\n",
        "\n",
        "        rec = recall_score(pred_values , y_test1)\n",
        "        rec_score.append(rec)\n",
        "\n",
        "        f_sc = f1_score(pred_values , y_test1)\n",
        "        f_score.append(f_sc)\n",
        "\n",
        "        \n",
        "     \n",
        "    avg_acc_score = sum(acc_score)/len(acc_score)\n",
        "    avg_train_score = sum(trn_score)/len(trn_score)\n",
        "    validation_score.append(avg_acc_score)\n",
        "    train_score.append(avg_train_score)\n",
        "    print(f\"train accuracy Mean: {np.mean(trn_score)}\")\n",
        "    print(f\"Accuracy Mean: {np.mean(acc_score)}\")\n",
        "    print(f\"Precision Mean: {np.mean(pre_score)}\")\n",
        "    print(f\"Recall Mean: {np.mean(rec_score)}\")\n",
        "    print(f\"F1 Mean: {np.mean(f_score)}\")\n",
        "    print(\"\\n\")\n",
        "\n"
      ]
    },
    {
      "cell_type": "code",
      "execution_count": null,
      "metadata": {
        "colab": {
          "base_uri": "https://localhost:8080/",
          "height": 503
        },
        "id": "n5iPjijrkan_",
        "outputId": "65d87aa0-b8d0-4dec-a2d6-b513d3339327"
      },
      "outputs": [
        {
          "output_type": "execute_result",
          "data": {
            "text/plain": [
              "<matplotlib.legend.Legend at 0x7f8016905c50>"
            ]
          },
          "metadata": {},
          "execution_count": 178
        },
        {
          "output_type": "display_data",
          "data": {
            "text/plain": [
              "<Figure size 2160x864 with 1 Axes>"
            ],
            "image/png": "[encoded data removed]"
          },
          "metadata": {}
        }
      ],
      "source": [
        "plt.figure(figsize=(30,12))\n",
        "plt.plot(np.arange(1,6), validation_score, color=\"blue\", label=\"Validation Score\")\n",
        "plt.plot(np.arange(1,6), train_score, color=\"purple\", label=\"Training Score\")\n",
        "plt.xlabel(\"Value of K\")\n",
        "plt.ylabel(\"F1 Score\")\n",
        "plt.legend()"
      ]
    },
    {
      "cell_type": "markdown",
      "metadata": {
        "id": "twzRqB59N2YC"
      },
      "source": [
        "NOTE: Difference between train and test scores are minimum at k=4, hence we will consider k=4 in our KNN classifier model."
      ]
    },
    {
      "cell_type": "code",
      "execution_count": null,
      "metadata": {
        "colab": {
          "base_uri": "https://localhost:8080/"
        },
        "id": "cmo_5mV2yGQx",
        "outputId": "861335a8-1f7e-47aa-9432-f9c0c6fbdc9b"
      },
      "outputs": [
        {
          "output_type": "stream",
          "name": "stdout",
          "text": [
            "(24306, 72)\n",
            "(24306,)\n"
          ]
        }
      ],
      "source": [
        "print(X_scaled.shape)\n",
        "print(y_train.shape)"
      ]
    },
    {
      "cell_type": "code",
      "execution_count": null,
      "metadata": {
        "colab": {
          "base_uri": "https://localhost:8080/"
        },
        "id": "chk3BMVnkakZ",
        "outputId": "b7b7c55d-9e2b-4d4b-f2ed-86fd888fa775"
      },
      "outputs": [
        {
          "output_type": "stream",
          "name": "stdout",
          "text": [
            "Accuracy Score -> 1\n",
            "Precision Score -> 0.90884\n",
            "Recall Score -> 0.38977\n",
            "F1 score -> 0.54557\n"
          ]
        }
      ],
      "source": [
        "X_train_k = X_scaled.copy()\n",
        "\n",
        "k_value = 4\n",
        "knn = KNeighborsClassifier(n_neighbors=k_value)\n",
        "knn.fit(X_scaled, y_train)\n",
        "\n",
        "X_pred = knn.predict(X_train_k)\n",
        "X_train_k['pred'] = X_pred\n",
        "\n",
        "print('Accuracy Score ->',round(accuracy_score(y_train, X_train_k['pred'])))\n",
        "print('Precision Score ->',round(precision_score(y_train, X_train_k['pred']),5))\n",
        "print('Recall Score ->',round(recall_score(y_train, X_train_k['pred']),5))\n",
        "print('F1 score ->',round(f1_score(y_train, X_train_k['pred']),5))"
      ]
    },
    {
      "cell_type": "code",
      "execution_count": null,
      "metadata": {
        "colab": {
          "base_uri": "https://localhost:8080/"
        },
        "id": "aV0CPl6qkaf9",
        "outputId": "1c553c98-bc25-4934-fc0c-3d46ffe37109"
      },
      "outputs": [
        {
          "output_type": "stream",
          "name": "stdout",
          "text": [
            "___________________VALIDATION RESULTS__________________________\n",
            "\n",
            "\n",
            "Accuracy Score -> 1\n",
            "Precision Score -> 0.7095\n",
            "Recall Score -> 0.24708\n",
            "F1 score -> 0.36652\n",
            "\n",
            "\n",
            "***Confusion Matrix***\n"
          ]
        },
        {
          "output_type": "execute_result",
          "data": {
            "text/plain": [
              "array([[6970,  104],\n",
              "       [ 774,  254]])"
            ]
          },
          "metadata": {},
          "execution_count": 181
        }
      ],
      "source": [
        "X_test1 = X_test.copy()\n",
        "\n",
        "X_test_scaled = rs.transform(X_test1)\n",
        "\n",
        "X_test_scaled.shape\n",
        "\n",
        "y_pred = knn.predict(X_test_scaled)\n",
        "\n",
        "y_prob = knn.predict_proba(X_test_scaled)[:,1]\n",
        "\n",
        "X_test1['pred'] = y_pred\n",
        "\n",
        "X_test1['prob'] = y_prob\n",
        "\n",
        "print('___________________VALIDATION RESULTS__________________________')\n",
        "print('\\n')\n",
        "print('Accuracy Score ->',round(accuracy_score(y_test, X_test1['pred'])))\n",
        "print('Precision Score ->',round(precision_score(y_test, X_test1['pred']),5))\n",
        "print('Recall Score ->',round(recall_score(y_test, X_test1['pred']),5))\n",
        "print('F1 score ->',round(f1_score(y_test, X_test1['pred']),5))\n",
        "print('\\n')\n",
        "print('***Confusion Matrix***')\n",
        "confusion_matrix(y_test, X_test1['pred'])"
      ]
    },
    {
      "cell_type": "markdown",
      "metadata": {
        "id": "xDUeiEhJ1fnW"
      },
      "source": [
        "NOTE: The KNN classifier is giving an F1 score of 26% which can be tried to improve further using other models."
      ]
    },
    {
      "cell_type": "markdown",
      "metadata": {
        "id": "ulrB55Enzp-D"
      },
      "source": [
        "### NAIVE BAYES CLASSIFICATION MODEL"
      ]
    },
    {
      "cell_type": "code",
      "execution_count": null,
      "metadata": {
        "colab": {
          "base_uri": "https://localhost:8080/"
        },
        "id": "-fmKJsGnzph_",
        "outputId": "f803b16a-f0c7-4950-b044-791200a96a02"
      },
      "outputs": [
        {
          "output_type": "stream",
          "name": "stdout",
          "text": [
            "------------------------------------------------------------------------\n",
            "Training for fold 1 ...\n",
            "------------------------------------------------------------------------\n",
            "Training for fold 2 ...\n",
            "------------------------------------------------------------------------\n",
            "Training for fold 3 ...\n",
            "------------------------------------------------------------------------\n",
            "Training for fold 4 ...\n",
            "------------------------------------------------------------------------\n",
            "Training for fold 5 ...\n",
            "------------------------------------------------------------------------\n",
            "Training for fold 6 ...\n",
            "------------------------------------------------------------------------\n",
            "Training for fold 7 ...\n",
            "------------------------------------------------------------------------\n",
            "Training for fold 8 ...\n",
            "------------------------------------------------------------------------\n",
            "Training for fold 9 ...\n",
            "------------------------------------------------------------------------\n",
            "Training for fold 10 ...\n",
            "Accuracy Mean: 0.8339503802902495\n",
            "Accuracy Standard Deviation: 0.007020567136987866\n",
            "\n",
            "\n",
            "ROC-AUC Mean: 0.6827457722947278\n",
            "ROC-AUC Standard Deviation: 0.014734736330797027\n",
            "\n",
            "\n",
            "Precision Mean: 0.4085572748591028\n",
            "Precision Standard Deviation: 0.018717514231716834\n",
            "\n",
            "\n",
            "Recall Mean: 0.47459025290350587\n",
            "Recall Standard Deviation: 0.03385106332661882\n",
            "\n",
            "\n",
            "F1 Mean: 0.43851482475851367\n",
            "F1 Standard Deviation: 0.020363974285575015\n",
            "train accuracy Mean: 0.8351664258286968\n"
          ]
        }
      ],
      "source": [
        "from sklearn.naive_bayes import GaussianNB\n",
        "\n",
        "acc_scores_rf = []\n",
        "roc_auc_scores_rf = []\n",
        "precision_scores_rf = []\n",
        "recall_scores_rf = []\n",
        "f1_scores_rf = []\n",
        "train_acc = []\n",
        "\n",
        "#Define the K-fold Cross Validator\n",
        "kfold = StratifiedKFold(n_splits = 10, shuffle=True, random_state=0)\n",
        "\n",
        "#K-fold Cross Validation model evaluation\n",
        "fold_no = 1\n",
        "for train, test in kfold.split(X_scaled, y_train):\n",
        "  print('------------------------------------------------------------------------')\n",
        "  print(f'Training for fold {fold_no} ...')\n",
        "  \n",
        "  gnb = GaussianNB()\n",
        "\n",
        "  gnb.fit(X_scaled.iloc[train], y_train.iloc[train])\n",
        "  y_pred = gnb.predict(X_scaled.iloc[test])\n",
        "\n",
        "  acc_scores_rf.append(accuracy_score(y_train.iloc[test], y_pred))\n",
        "\n",
        "  train_acc.append(accuracy_score(y_train.iloc[train], gnb.predict(X_scaled.iloc[train])))\n",
        "  roc_auc_scores_rf.append(roc_auc_score(y_train.iloc[test], y_pred))\n",
        "  precision_scores_rf.append(precision_score(y_train.iloc[test], y_pred))\n",
        "  recall_scores_rf.append(recall_score(y_train.iloc[test], y_pred))\n",
        "  f1_scores_rf.append(f1_score(y_train.iloc[test], y_pred))\n",
        "\n",
        "  fold_no = fold_no + 1\n",
        "  \n",
        "print(f\"Accuracy Mean: {np.mean(acc_scores_rf)}\")\n",
        "print(f\"Accuracy Standard Deviation: {np.std(acc_scores_rf)}\")\n",
        "print(\"\\n\")\n",
        "print(f\"ROC-AUC Mean: {np.mean(roc_auc_scores_rf)}\")\n",
        "print(f\"ROC-AUC Standard Deviation: {np.std(roc_auc_scores_rf)}\")\n",
        "print(\"\\n\")\n",
        "print(f\"Precision Mean: {np.mean(precision_scores_rf)}\")\n",
        "print(f\"Precision Standard Deviation: {np.std(precision_scores_rf)}\")\n",
        "print(\"\\n\")\n",
        "print(f\"Recall Mean: {np.mean(recall_scores_rf)}\")\n",
        "print(f\"Recall Standard Deviation: {np.std(recall_scores_rf)}\")\n",
        "print(\"\\n\")\n",
        "print(f\"F1 Mean: {np.mean(f1_scores_rf)}\")\n",
        "print(f\"F1 Standard Deviation: {np.std(f1_scores_rf)}\")\n",
        "\n",
        "print(f\"train accuracy Mean: {np.mean(train_acc)}\")"
      ]
    },
    {
      "cell_type": "code",
      "execution_count": null,
      "metadata": {
        "colab": {
          "base_uri": "https://localhost:8080/"
        },
        "id": "WYjLTPuszpd6",
        "outputId": "304e9c09-8c23-4bad-c36d-39295c0a38d9"
      },
      "outputs": [
        {
          "output_type": "stream",
          "name": "stdout",
          "text": [
            "___________________VALIDATION RESULTS__________________________\n",
            "\n",
            "\n",
            "Accuracy Score -> 1\n",
            "Precision Score -> 0.40569\n",
            "Recall Score -> 0.48541\n",
            "F1 score -> 0.44198\n",
            "\n",
            "\n",
            "***Confusion Matrix***\n"
          ]
        },
        {
          "output_type": "execute_result",
          "data": {
            "text/plain": [
              "array([[6343,  731],\n",
              "       [ 529,  499]])"
            ]
          },
          "metadata": {},
          "execution_count": 183
        }
      ],
      "source": [
        "X_test1 = X_test.copy()\n",
        "\n",
        "X_test_scaled = rs.transform(X_test1)\n",
        "\n",
        "X_test_scaled.shape\n",
        "\n",
        "y_pred = gnb.predict(X_test_scaled)\n",
        "\n",
        "y_prob = gnb.predict_proba(X_test_scaled)[:,1]\n",
        "\n",
        "X_test1['pred'] = y_pred\n",
        "\n",
        "X_test1['prob'] = y_prob\n",
        "\n",
        "print('___________________VALIDATION RESULTS__________________________')\n",
        "print('\\n')\n",
        "print('Accuracy Score ->',round(accuracy_score(y_test, X_test1['pred']),))\n",
        "print('Precision Score ->',round(precision_score(y_test, X_test1['pred']),5))\n",
        "print('Recall Score ->',round(recall_score(y_test, X_test1['pred']),5))\n",
        "print('F1 score ->',round(f1_score(y_test, X_test1['pred']),5))\n",
        "print('\\n')\n",
        "print('***Confusion Matrix***')\n",
        "confusion_matrix(y_test, X_test1['pred'])\n",
        "\n"
      ]
    },
    {
      "cell_type": "markdown",
      "metadata": {
        "id": "Un1kP2S91-tv"
      },
      "source": [
        "NOTE: F1 score has increased in Naive Bayes to 44% which is more than what we got in KNN model.\n",
        "\n"
      ]
    },
    {
      "cell_type": "code",
      "execution_count": null,
      "metadata": {
        "colab": {
          "base_uri": "https://localhost:8080/",
          "height": 872
        },
        "id": "Wfpv9CRMzpaK",
        "outputId": "bd2a0d36-1be6-42f7-c87b-d21502da5caa"
      },
      "outputs": [
        {
          "output_type": "stream",
          "name": "stdout",
          "text": [
            "No Skill: ROC AUC=0.500\n",
            "Naive Bayes: ROC AUC=0.840\n"
          ]
        },
        {
          "output_type": "display_data",
          "data": {
            "text/plain": [
              "<Figure size 1800x1296 with 1 Axes>"
            ],
            "image/png": "[encoded data removed]"
          },
          "metadata": {}
        }
      ],
      "source": [
        "# generate a no skill prediction (majority class)\n",
        "ns_probs = [0 for _ in range(len(y_test))]\n",
        "\n",
        "# calculate scores\n",
        "ns_auc = roc_auc_score(y_test, ns_probs)\n",
        "rf_auc = roc_auc_score(y_test, y_prob)\n",
        "# summarize scores\n",
        "print('No Skill: ROC AUC=%.3f' % (ns_auc))\n",
        "print('Naive Bayes: ROC AUC=%.3f' % (rf_auc))\n",
        "# calculate roc curves\n",
        "ns_fpr, ns_tpr, _ = roc_curve(y_test, ns_probs)\n",
        "rf_fpr, rf_tpr, _ = roc_curve(y_test, y_prob)\n",
        "# plot the roc curve for the model\n",
        "plt.plot(ns_fpr, ns_tpr, linestyle='--', label='No Skill')\n",
        "plt.plot(rf_fpr, rf_tpr, marker='.', label='Naive Bayes')\n",
        "# axis labels\n",
        "plt.xlabel('False Positive Rate')\n",
        "plt.ylabel('True Positive Rate')\n",
        "# show the legend\n",
        "plt.legend()\n",
        "# show the plot\n",
        "plt.show()"
      ]
    },
    {
      "cell_type": "markdown",
      "metadata": {
        "id": "jmMcblLrvH6y"
      },
      "source": [
        "## Decision Tree Classification Model"
      ]
    },
    {
      "cell_type": "code",
      "execution_count": null,
      "metadata": {
        "colab": {
          "base_uri": "https://localhost:8080/"
        },
        "id": "CmRt-Lw2tnvQ",
        "outputId": "7d3bb534-a2ab-4d22-e047-a57b68e072bd"
      },
      "outputs": [
        {
          "output_type": "stream",
          "name": "stdout",
          "text": [
            "------------------------------------------------------------------------\n",
            "Training for fold 1 ...\n",
            "------------------------------------------------------------------------\n",
            "Training for fold 2 ...\n",
            "------------------------------------------------------------------------\n",
            "Training for fold 3 ...\n",
            "------------------------------------------------------------------------\n",
            "Training for fold 4 ...\n",
            "------------------------------------------------------------------------\n",
            "Training for fold 5 ...\n",
            "------------------------------------------------------------------------\n",
            "Training for fold 6 ...\n",
            "------------------------------------------------------------------------\n",
            "Training for fold 7 ...\n",
            "------------------------------------------------------------------------\n",
            "Training for fold 8 ...\n",
            "------------------------------------------------------------------------\n",
            "Training for fold 9 ...\n",
            "------------------------------------------------------------------------\n",
            "Training for fold 10 ...\n",
            "Accuracy Mean: 0.9914011236887053\n",
            "Accuracy Standard Deviation: 0.0021657575984646337\n",
            "\n",
            "\n",
            "ROC-AUC Mean: 0.9795762247872402\n",
            "ROC-AUC Standard Deviation: 0.006628682418220136\n",
            "\n",
            "\n",
            "Precision Mean: 0.9735953518448681\n",
            "Precision Standard Deviation: 0.0074516353958792095\n",
            "\n",
            "\n",
            "Recall Mean: 0.96329914251601\n",
            "Recall Standard Deviation: 0.013055563993999169\n",
            "\n",
            "\n",
            "F1 Mean: 0.9683696826072217\n",
            "F1 Standard Deviation: 0.008079047740835663\n",
            "train accuracy Mean: 1.0\n"
          ]
        }
      ],
      "source": [
        "acc_scores_rf = []\n",
        "roc_auc_scores_rf = []\n",
        "precision_scores_rf = []\n",
        "recall_scores_rf = []\n",
        "f1_scores_rf = []\n",
        "train_acc = []\n",
        "\n",
        "#Define the K-fold Cross Validator\n",
        "kfold = StratifiedKFold(n_splits = 10, shuffle=True, random_state=0)\n",
        "\n",
        "#K-fold Cross Validation model evaluation\n",
        "fold_no = 1\n",
        "for train, test in kfold.split(X_scaled, y_train):\n",
        "  print('------------------------------------------------------------------------')\n",
        "  print(f'Training for fold {fold_no} ...')\n",
        "  \n",
        "  decisiontreeClassifier = DecisionTreeClassifier(class_weight = 'balanced',random_state=42)\n",
        "\n",
        "  decisiontreeClassifier.fit(X_scaled.iloc[train], y_train.iloc[train])\n",
        "  y_pred = decisiontreeClassifier.predict(X_scaled.iloc[test])\n",
        "\n",
        "  acc_scores_rf.append(accuracy_score(y_train.iloc[test], y_pred))\n",
        "\n",
        "  train_acc.append(accuracy_score(y_train.iloc[train], decisiontreeClassifier.predict(X_scaled.iloc[train])))\n",
        "  roc_auc_scores_rf.append(roc_auc_score(y_train.iloc[test], y_pred))\n",
        "  precision_scores_rf.append(precision_score(y_train.iloc[test], y_pred))\n",
        "  recall_scores_rf.append(recall_score(y_train.iloc[test], y_pred))\n",
        "  f1_scores_rf.append(f1_score(y_train.iloc[test], y_pred))\n",
        "\n",
        "  fold_no = fold_no + 1\n",
        "  \n",
        "print(f\"Accuracy Mean: {np.mean(acc_scores_rf)}\")\n",
        "print(f\"Accuracy Standard Deviation: {np.std(acc_scores_rf)}\")\n",
        "print(\"\\n\")\n",
        "print(f\"ROC-AUC Mean: {np.mean(roc_auc_scores_rf)}\")\n",
        "print(f\"ROC-AUC Standard Deviation: {np.std(roc_auc_scores_rf)}\")\n",
        "print(\"\\n\")\n",
        "print(f\"Precision Mean: {np.mean(precision_scores_rf)}\")\n",
        "print(f\"Precision Standard Deviation: {np.std(precision_scores_rf)}\")\n",
        "print(\"\\n\")\n",
        "print(f\"Recall Mean: {np.mean(recall_scores_rf)}\")\n",
        "print(f\"Recall Standard Deviation: {np.std(recall_scores_rf)}\")\n",
        "print(\"\\n\")\n",
        "print(f\"F1 Mean: {np.mean(f1_scores_rf)}\")\n",
        "print(f\"F1 Standard Deviation: {np.std(f1_scores_rf)}\")\n",
        "\n",
        "print(f\"train accuracy Mean: {np.mean(train_acc)}\")"
      ]
    },
    {
      "cell_type": "code",
      "execution_count": null,
      "metadata": {
        "colab": {
          "base_uri": "https://localhost:8080/"
        },
        "id": "dN8VJpSrtnhp",
        "outputId": "62d005b5-caf1-4abd-9e42-34471793c33d"
      },
      "outputs": [
        {
          "output_type": "stream",
          "name": "stdout",
          "text": [
            "___________________VALIDATION RESULTS__________________________\n",
            "\n",
            "\n",
            "Accuracy Score -> 1\n",
            "Precision Score -> 0.97335\n",
            "Recall Score -> 0.95914\n",
            "F1 score -> 0.96619\n",
            "\n",
            "\n",
            "***Confusion Matrix***\n"
          ]
        },
        {
          "output_type": "execute_result",
          "data": {
            "text/plain": [
              "array([[7047,   27],\n",
              "       [  42,  986]])"
            ]
          },
          "metadata": {},
          "execution_count": 186
        }
      ],
      "source": [
        "X_test1 = X_test.copy()\n",
        "\n",
        "X_test_scaled = rs.transform(X_test1)\n",
        "\n",
        "X_test_scaled.shape\n",
        "\n",
        "y_pred = decisiontreeClassifier.predict(X_test_scaled)\n",
        "\n",
        "y_prob = decisiontreeClassifier.predict_proba(X_test_scaled)[:,1]\n",
        "\n",
        "X_test1['pred'] = y_pred\n",
        "\n",
        "X_test1['prob'] = y_prob\n",
        "\n",
        "print('___________________VALIDATION RESULTS__________________________')\n",
        "print('\\n')\n",
        "print('Accuracy Score ->',round(accuracy_score(y_test, X_test1['pred']),))\n",
        "print('Precision Score ->',round(precision_score(y_test, X_test1['pred']),5))\n",
        "print('Recall Score ->',round(recall_score(y_test, X_test1['pred']),5))\n",
        "print('F1 score ->',round(f1_score(y_test, X_test1['pred']),5))\n",
        "print('\\n')\n",
        "print('***Confusion Matrix***')\n",
        "confusion_matrix(y_test, X_test1['pred'])\n",
        "\n"
      ]
    },
    {
      "cell_type": "markdown",
      "metadata": {
        "id": "YVkBEKWW2V8v"
      },
      "source": [
        "NOTE: F1 score for Decision Tree has largely improved to 0.96.\n",
        "\n"
      ]
    },
    {
      "cell_type": "code",
      "execution_count": null,
      "metadata": {
        "colab": {
          "base_uri": "https://localhost:8080/",
          "height": 872
        },
        "id": "OOvDjCv2tnT6",
        "outputId": "8eaa4750-82ed-44e9-d3ae-aa0933422c3c"
      },
      "outputs": [
        {
          "output_type": "stream",
          "name": "stdout",
          "text": [
            "No Skill: ROC AUC=0.500\n",
            "Decision Tree: ROC AUC=0.978\n"
          ]
        },
        {
          "output_type": "display_data",
          "data": {
            "text/plain": [
              "<Figure size 1800x1296 with 1 Axes>"
            ],
            "image/png": "[encoded data removed]"
          },
          "metadata": {}
        }
      ],
      "source": [
        "# generate a no skill prediction (majority class)\n",
        "ns_probs = [0 for _ in range(len(y_test))]\n",
        "\n",
        "# calculate scores\n",
        "ns_auc = roc_auc_score(y_test, ns_probs)\n",
        "rf_auc = roc_auc_score(y_test, y_prob)\n",
        "# summarize scores\n",
        "print('No Skill: ROC AUC=%.3f' % (ns_auc))\n",
        "print('Decision Tree: ROC AUC=%.3f' % (rf_auc))\n",
        "# calculate roc curves\n",
        "ns_fpr, ns_tpr, _ = roc_curve(y_test, ns_probs)\n",
        "rf_fpr, rf_tpr, _ = roc_curve(y_test, y_prob)\n",
        "# plot the roc curve for the model\n",
        "plt.plot(ns_fpr, ns_tpr, linestyle='--', label='No Skill')\n",
        "plt.plot(rf_fpr, rf_tpr, marker='.', label='Decision Tree')\n",
        "# axis labels\n",
        "plt.xlabel('False Positive Rate')\n",
        "plt.ylabel('True Positive Rate')\n",
        "# show the legend\n",
        "plt.legend()\n",
        "# show the plot\n",
        "plt.show()"
      ]
    },
    {
      "cell_type": "markdown",
      "metadata": {
        "id": "gKefX8qDxDS-"
      },
      "source": [
        "**INFERENCE**\n",
        "\n",
        "The Decision Tree Classifier is fitted on the scaled data where;\n",
        "the Precision and Recall scores on training after stratified K fold CV are 0.97 and 0.96, whereas the F1 score came out to be 0.97.\n",
        "When fitted on the validation data, the Precision and Recall scored are 0.97 and 0.96, the F1 score is 0.96.\n",
        "We can say that the model has a very good fit, since the results from training and validation are very much close, we can discard the possibility of overfitting or underfitting."
      ]
    },
    {
      "cell_type": "markdown",
      "metadata": {
        "id": "mvIiSiqaGYj1"
      },
      "source": [
        "# Feature Importance Plot for Decision Tree model"
      ]
    },
    {
      "cell_type": "code",
      "execution_count": null,
      "metadata": {
        "colab": {
          "base_uri": "https://localhost:8080/",
          "height": 410
        },
        "id": "RBiFtix3GMR0",
        "outputId": "867b767d-80a0-4fa1-a72c-9a35a175f954"
      },
      "outputs": [
        {
          "output_type": "execute_result",
          "data": {
            "text/plain": [
              "Text(0.5, 1.0, 'Feature Importance')"
            ]
          },
          "metadata": {},
          "execution_count": 188
        },
        {
          "output_type": "display_data",
          "data": {
            "text/plain": [
              "<Figure size 864x432 with 1 Axes>"
            ],
            "image/png": "[encoded data removed]"
          },
          "metadata": {}
        }
      ],
      "source": [
        "model=DecisionTreeClassifier(class_weight = 'balanced',random_state=42)\n",
        "model.fit(X_train,y_train)\n",
        "feature_importance = model.feature_importances_\n",
        "sorted_idx = np.argsort(feature_importance)\n",
        "sorted_idx=sorted_idx[-10:len(sorted_idx)]\n",
        "fig = plt.figure(figsize=(12, 6))\n",
        "plt.barh(range(len(sorted_idx)), feature_importance[sorted_idx], align='center')\n",
        "plt.yticks(range(len(sorted_idx)), np.array(X_test1.columns)[sorted_idx])\n",
        "plt.title('Feature Importance')"
      ]
    },
    {
      "cell_type": "markdown",
      "metadata": {
        "id": "0Nxh9ueqycH2"
      },
      "source": [
        "Now let's move on to the next model: Random Forest Classification Model; and check whether it out-performs the previous models"
      ]
    },
    {
      "cell_type": "markdown",
      "metadata": {
        "id": "UOcAHkg3thyg"
      },
      "source": [
        "## Random Forest Classification Model"
      ]
    },
    {
      "cell_type": "code",
      "execution_count": null,
      "metadata": {
        "colab": {
          "base_uri": "https://localhost:8080/"
        },
        "id": "71QE65Bhc8zV",
        "outputId": "11f7fe04-103b-4851-b07e-44accc389093"
      },
      "outputs": [
        {
          "output_type": "stream",
          "name": "stdout",
          "text": [
            "------------------------------------------------------------------------\n",
            "Training for fold 1 ...\n",
            "------------------------------------------------------------------------\n",
            "Training for fold 2 ...\n",
            "------------------------------------------------------------------------\n",
            "Training for fold 3 ...\n",
            "------------------------------------------------------------------------\n",
            "Training for fold 4 ...\n",
            "------------------------------------------------------------------------\n",
            "Training for fold 5 ...\n",
            "------------------------------------------------------------------------\n",
            "Training for fold 6 ...\n",
            "------------------------------------------------------------------------\n",
            "Training for fold 7 ...\n",
            "------------------------------------------------------------------------\n",
            "Training for fold 8 ...\n",
            "------------------------------------------------------------------------\n",
            "Training for fold 9 ...\n",
            "------------------------------------------------------------------------\n",
            "Training for fold 10 ...\n",
            "Accuracy Mean: 0.9845716592775418\n",
            "Accuracy Standard Deviation: 0.002415314373068156\n",
            "\n",
            "\n",
            "ROC-AUC Mean: 0.9436073121314085\n",
            "ROC-AUC Standard Deviation: 0.008839113475295273\n",
            "\n",
            "\n",
            "Precision Mean: 1.0\n",
            "Precision Standard Deviation: 0.0\n",
            "\n",
            "\n",
            "Recall Mean: 0.8872146242628169\n",
            "Recall Standard Deviation: 0.017678226950590546\n",
            "\n",
            "\n",
            "F1 Mean: 0.940143909776538\n",
            "F1 Standard Deviation: 0.009951211607061472\n",
            "train accuracy Mean: 1.0\n"
          ]
        }
      ],
      "source": [
        "acc_scores_rf = []\n",
        "roc_auc_scores_rf = []\n",
        "precision_scores_rf = []\n",
        "recall_scores_rf = []\n",
        "f1_scores_rf = []\n",
        "train_acc = []\n",
        "\n",
        "#Define the K-fold Cross Validator\n",
        "kfold = StratifiedKFold(n_splits = 10, shuffle=True, random_state=0)\n",
        "\n",
        "#K-fold Cross Validation model evaluation\n",
        "fold_no = 1\n",
        "for train, test in kfold.split(X_scaled, y_train):\n",
        "  print('------------------------------------------------------------------------')\n",
        "  print(f'Training for fold {fold_no} ...')\n",
        "  \n",
        "  randomForestClassifier = RandomForestClassifier(class_weight = 'balanced', random_state = 42)\n",
        "\n",
        "  randomForestClassifier.fit(X_scaled.iloc[train], y_train.iloc[train])\n",
        "  y_pred = randomForestClassifier.predict(X_scaled.iloc[test])\n",
        "\n",
        "  acc_scores_rf.append(accuracy_score(y_train.iloc[test], y_pred))\n",
        "\n",
        "  train_acc.append(accuracy_score(y_train.iloc[train], randomForestClassifier.predict(X_scaled.iloc[train])))\n",
        "  roc_auc_scores_rf.append(roc_auc_score(y_train.iloc[test], y_pred))\n",
        "  precision_scores_rf.append(precision_score(y_train.iloc[test], y_pred))\n",
        "  recall_scores_rf.append(recall_score(y_train.iloc[test], y_pred))\n",
        "  f1_scores_rf.append(f1_score(y_train.iloc[test], y_pred))\n",
        "\n",
        "  fold_no = fold_no + 1\n",
        "  \n",
        "print(f\"Accuracy Mean: {np.mean(acc_scores_rf)}\")\n",
        "print(f\"Accuracy Standard Deviation: {np.std(acc_scores_rf)}\")\n",
        "print(\"\\n\")\n",
        "print(f\"ROC-AUC Mean: {np.mean(roc_auc_scores_rf)}\")\n",
        "print(f\"ROC-AUC Standard Deviation: {np.std(roc_auc_scores_rf)}\")\n",
        "print(\"\\n\")\n",
        "print(f\"Precision Mean: {np.mean(precision_scores_rf)}\")\n",
        "print(f\"Precision Standard Deviation: {np.std(precision_scores_rf)}\")\n",
        "print(\"\\n\")\n",
        "print(f\"Recall Mean: {np.mean(recall_scores_rf)}\")\n",
        "print(f\"Recall Standard Deviation: {np.std(recall_scores_rf)}\")\n",
        "print(\"\\n\")\n",
        "print(f\"F1 Mean: {np.mean(f1_scores_rf)}\")\n",
        "print(f\"F1 Standard Deviation: {np.std(f1_scores_rf)}\")\n",
        "\n",
        "print(f\"train accuracy Mean: {np.mean(train_acc)}\")"
      ]
    },
    {
      "cell_type": "code",
      "execution_count": null,
      "metadata": {
        "colab": {
          "base_uri": "https://localhost:8080/"
        },
        "id": "63yJl_AIjz2O",
        "outputId": "29f92b3c-d862-411c-e6e2-eb9786350630"
      },
      "outputs": [
        {
          "output_type": "stream",
          "name": "stdout",
          "text": [
            "___________________VALIDATION RESULTS__________________________\n",
            "\n",
            "\n",
            "Accuracy Score -> 1\n",
            "Precision Score -> 0.99889\n",
            "Recall Score -> 0.87646\n",
            "F1 Score -> 0.93368\n",
            "\n",
            "\n",
            "***Confusion Matrix***\n"
          ]
        },
        {
          "output_type": "execute_result",
          "data": {
            "text/plain": [
              "array([[7073,    1],\n",
              "       [ 127,  901]])"
            ]
          },
          "metadata": {},
          "execution_count": 190
        }
      ],
      "source": [
        "X_test1 = X_test.copy()\n",
        "\n",
        "X_test_scaled = rs.transform(X_test1)\n",
        "\n",
        "X_test_scaled.shape\n",
        "\n",
        "y_pred = randomForestClassifier.predict(X_test_scaled)\n",
        "\n",
        "y_prob = randomForestClassifier.predict_proba(X_test_scaled)[:,1]\n",
        "\n",
        "X_test1['pred'] = y_pred\n",
        "\n",
        "X_test1['prob'] = y_prob\n",
        "\n",
        "print('___________________VALIDATION RESULTS__________________________')\n",
        "print('\\n')\n",
        "print('Accuracy Score ->',round(accuracy_score(y_test, X_test1['pred']),))\n",
        "print('Precision Score ->',round(precision_score(y_test, X_test1['pred']),5))\n",
        "print('Recall Score ->',round(recall_score(y_test, X_test1['pred']),5))\n",
        "print('F1 Score ->',round(f1_score(y_test, X_test1['pred']),5))\n",
        "print('\\n')\n",
        "print('***Confusion Matrix***')\n",
        "confusion_matrix(y_test, X_test1['pred'])\n",
        "\n"
      ]
    },
    {
      "cell_type": "code",
      "execution_count": null,
      "metadata": {
        "colab": {
          "base_uri": "https://localhost:8080/",
          "height": 872
        },
        "id": "rLT9qrhLk5dn",
        "outputId": "9c2e7cc2-fc60-48a4-e5f8-a5540a73d7d8"
      },
      "outputs": [
        {
          "output_type": "stream",
          "name": "stdout",
          "text": [
            "No Skill: ROC AUC=0.500\n",
            "RandomForest: ROC AUC=0.999\n"
          ]
        },
        {
          "output_type": "display_data",
          "data": {
            "text/plain": [
              "<Figure size 1800x1296 with 1 Axes>"
            ],
            "image/png": "[encoded data removed]"
          },
          "metadata": {}
        }
      ],
      "source": [
        "# generate a no skill prediction (majority class)\n",
        "ns_probs = [0 for _ in range(len(y_test))]\n",
        "\n",
        "# calculate scores\n",
        "ns_auc = roc_auc_score(y_test, ns_probs)\n",
        "rf_auc = roc_auc_score(y_test, y_prob)\n",
        "# summarize scores\n",
        "print('No Skill: ROC AUC=%.3f' % (ns_auc))\n",
        "print('RandomForest: ROC AUC=%.3f' % (rf_auc))\n",
        "# calculate roc curves\n",
        "ns_fpr, ns_tpr, _ = roc_curve(y_test, ns_probs)\n",
        "rf_fpr, rf_tpr, _ = roc_curve(y_test, y_prob)\n",
        "# plot the roc curve for the model\n",
        "plt.plot(ns_fpr, ns_tpr, linestyle='--', label='No Skill')\n",
        "plt.plot(rf_fpr, rf_tpr, marker='.', label='RandomForest')\n",
        "# axis labels\n",
        "plt.xlabel('False Positive Rate')\n",
        "plt.ylabel('True Positive Rate')\n",
        "# show the legend\n",
        "plt.legend()\n",
        "# show the plot\n",
        "plt.show()"
      ]
    },
    {
      "cell_type": "markdown",
      "metadata": {
        "id": "qzDcXe4c5M-k"
      },
      "source": [
        "NOTE: For Train data:\n",
        "\n",
        "Precision: 1.0\n",
        "Recall: 0.88\n",
        "F1 score: 0.94\n",
        "\n",
        "Validation data:\n",
        "\n",
        "Precision: 0.99\n",
        "Recall: 0.88\n",
        "F1 score: 0.94\n",
        "\n",
        "There is no overfitting in the model, however, Decision Tree Classifier has given the better F1 score than RF.\n",
        "\n",
        "\n",
        "Although, ROC-AUC for RF is much higher as compared to DT.\n",
        "\n",
        "Still, let's check whether RF performs better after hyper-parameter tuning."
      ]
    },
    {
      "cell_type": "markdown",
      "metadata": {
        "id": "RwG01eTwbo_K"
      },
      "source": [
        "# Random Forest Classifier using Hyper-parameter tuning"
      ]
    },
    {
      "cell_type": "code",
      "execution_count": null,
      "metadata": {
        "colab": {
          "base_uri": "https://localhost:8080/"
        },
        "id": "AkJ6p6OORvrR",
        "outputId": "312e53e4-d49c-4015-83b8-f4c26a5ad9c1"
      },
      "outputs": [
        {
          "output_type": "stream",
          "name": "stdout",
          "text": [
            "Fitting 5 folds for each of 10 candidates, totalling 50 fits\n",
            "{'n_estimators': 600, 'max_features': 8, 'max_depth': 16}\n",
            "RandomForestClassifier(class_weight='balanced', max_depth=16, max_features=8,\n",
            "                       n_estimators=600)\n"
          ]
        }
      ],
      "source": [
        "from sklearn.model_selection import RandomizedSearchCV\n",
        "# Random SearchCV for Hyper Parameter Tuning\n",
        "\n",
        "# Maximum number of levels in tree\n",
        "# Number of trees in random forest\n",
        "n_estimators = [int(x) for x in np.linspace(start = 100, stop = 800, num = 8)]\n",
        "max_depth = [int(x) for x in np.linspace(5, 25, num = 10)]\n",
        "max_features = ['auto', 'sqrt', 5, 6, 8, 10]\n",
        "\n",
        "random_grid = {'n_estimators': n_estimators,\n",
        "               'max_features': max_features,\n",
        "               'max_depth': max_depth}\n",
        "\n",
        "train_model = RandomForestClassifier(class_weight = 'balanced')\n",
        "\n",
        "# Random search of parameters, using 3 fold cross validation,\n",
        "# search across 100 different combinations, and use all available cores\n",
        "\n",
        "train_model_random = RandomizedSearchCV(estimator = train_model, param_distributions = random_grid, n_iter = 10, cv = 5, \n",
        "                                        verbose=2, random_state=42, n_jobs = -1)\n",
        "\n",
        "# Fit the random search model\n",
        "train_model_random.fit(X_train,y_train)\n",
        "\n",
        "print(train_model_random.best_params_)\n",
        "print(train_model_random.best_estimator_)"
      ]
    },
    {
      "cell_type": "code",
      "execution_count": null,
      "metadata": {
        "colab": {
          "base_uri": "https://localhost:8080/"
        },
        "id": "jvPoc-fcbLWK",
        "outputId": "160d14f8-3e92-44ef-8423-d03f05e9f48e"
      },
      "outputs": [
        {
          "output_type": "stream",
          "name": "stdout",
          "text": [
            "------------------------------------------------------------------------\n",
            "Training for fold 1 ...\n",
            "------------------------------------------------------------------------\n",
            "Training for fold 2 ...\n",
            "------------------------------------------------------------------------\n",
            "Training for fold 3 ...\n",
            "------------------------------------------------------------------------\n",
            "Training for fold 4 ...\n",
            "------------------------------------------------------------------------\n",
            "Training for fold 5 ...\n",
            "------------------------------------------------------------------------\n",
            "Training for fold 6 ...\n",
            "------------------------------------------------------------------------\n",
            "Training for fold 7 ...\n",
            "------------------------------------------------------------------------\n",
            "Training for fold 8 ...\n",
            "------------------------------------------------------------------------\n",
            "Training for fold 9 ...\n",
            "------------------------------------------------------------------------\n",
            "Training for fold 10 ...\n",
            "Accuracy Mean: 0.9857236856583261\n",
            "Accuracy Standard Deviation: 0.0020328053315052854\n",
            "\n",
            "\n",
            "ROC-AUC Mean: 0.9478187524874272\n",
            "ROC-AUC Standard Deviation: 0.007435150239610488\n",
            "\n",
            "\n",
            "Precision Mean: 1.0\n",
            "Precision Standard Deviation: 0.0\n",
            "\n",
            "\n",
            "Recall Mean: 0.8956375049748544\n",
            "Recall Standard Deviation: 0.014870300479220968\n",
            "\n",
            "\n",
            "F1 Mean: 0.9448811444017254\n",
            "F1 Standard Deviation: 0.008263252673336646\n",
            "train accuracy Mean: 0.9999908571428572\n"
          ]
        }
      ],
      "source": [
        "acc_scores_rf = []\n",
        "roc_auc_scores_rf = []\n",
        "precision_scores_rf = []\n",
        "recall_scores_rf = []\n",
        "f1_scores_rf = []\n",
        "train_acc = []\n",
        "\n",
        "#Define the K-fold Cross Validator\n",
        "kfold = StratifiedKFold(n_splits = 10, shuffle=True, random_state=0)\n",
        "\n",
        "#K-fold Cross Validation model evaluation\n",
        "fold_no = 1\n",
        "for train, test in kfold.split(X_scaled, y_train):\n",
        "  print('------------------------------------------------------------------------')\n",
        "  print(f'Training for fold {fold_no} ...')\n",
        "  \n",
        "  randomForestClassifier = RandomForestClassifier(class_weight='balanced', max_depth=16, max_features=8,\n",
        "                       n_estimators=600)\n",
        "\n",
        "  randomForestClassifier.fit(X_scaled.iloc[train], y_train.iloc[train])\n",
        "  y_pred = randomForestClassifier.predict(X_scaled.iloc[test])\n",
        "\n",
        "  acc_scores_rf.append(accuracy_score(y_train.iloc[test], y_pred))\n",
        "\n",
        "  train_acc.append(accuracy_score(y_train.iloc[train], randomForestClassifier.predict(X_scaled.iloc[train])))\n",
        "  roc_auc_scores_rf.append(roc_auc_score(y_train.iloc[test], y_pred))\n",
        "  precision_scores_rf.append(precision_score(y_train.iloc[test], y_pred))\n",
        "  recall_scores_rf.append(recall_score(y_train.iloc[test], y_pred))\n",
        "  f1_scores_rf.append(f1_score(y_train.iloc[test], y_pred))\n",
        "\n",
        "  fold_no = fold_no + 1\n",
        "  \n",
        "print(f\"Accuracy Mean: {np.mean(acc_scores_rf)}\")\n",
        "print(f\"Accuracy Standard Deviation: {np.std(acc_scores_rf)}\")\n",
        "print(\"\\n\")\n",
        "print(f\"ROC-AUC Mean: {np.mean(roc_auc_scores_rf)}\")\n",
        "print(f\"ROC-AUC Standard Deviation: {np.std(roc_auc_scores_rf)}\")\n",
        "print(\"\\n\")\n",
        "print(f\"Precision Mean: {np.mean(precision_scores_rf)}\")\n",
        "print(f\"Precision Standard Deviation: {np.std(precision_scores_rf)}\")\n",
        "print(\"\\n\")\n",
        "print(f\"Recall Mean: {np.mean(recall_scores_rf)}\")\n",
        "print(f\"Recall Standard Deviation: {np.std(recall_scores_rf)}\")\n",
        "print(\"\\n\")\n",
        "print(f\"F1 Mean: {np.mean(f1_scores_rf)}\")\n",
        "print(f\"F1 Standard Deviation: {np.std(f1_scores_rf)}\")\n",
        "\n",
        "print(f\"train accuracy Mean: {np.mean(train_acc)}\")"
      ]
    },
    {
      "cell_type": "code",
      "execution_count": null,
      "metadata": {
        "colab": {
          "base_uri": "https://localhost:8080/"
        },
        "id": "WeoKuvd4euZA",
        "outputId": "f685d8f2-faaa-4ea2-ac31-8399c47dc4e8"
      },
      "outputs": [
        {
          "output_type": "stream",
          "name": "stdout",
          "text": [
            "___________________VALIDATION RESULTS__________________________\n",
            "\n",
            "\n",
            "Accuracy Score -> 1\n",
            "Precision Score -> 0.9989\n",
            "Recall Score -> 0.88424\n",
            "F1 Score -> 0.93808\n",
            "\n",
            "\n",
            "***Confusion Matrix***\n"
          ]
        },
        {
          "output_type": "execute_result",
          "data": {
            "text/plain": [
              "array([[7073,    1],\n",
              "       [ 119,  909]])"
            ]
          },
          "metadata": {},
          "execution_count": 195
        }
      ],
      "source": [
        "X_test1 = X_test.copy()\n",
        "\n",
        "X_test_scaled = rs.transform(X_test1)\n",
        "\n",
        "X_test_scaled.shape\n",
        "\n",
        "y_pred = randomForestClassifier.predict(X_test_scaled)\n",
        "\n",
        "y_prob = randomForestClassifier.predict_proba(X_test_scaled)[:,1]\n",
        "\n",
        "X_test1['pred'] = y_pred\n",
        "\n",
        "X_test1['prob'] = y_prob\n",
        "\n",
        "print('___________________VALIDATION RESULTS__________________________')\n",
        "print('\\n')\n",
        "print('Accuracy Score ->',round(accuracy_score(y_test, X_test1['pred']),))\n",
        "print('Precision Score ->',round(precision_score(y_test, X_test1['pred']),5))\n",
        "print('Recall Score ->',round(recall_score(y_test, X_test1['pred']),5))\n",
        "print('F1 Score ->',round(f1_score(y_test, X_test1['pred']),5))\n",
        "print('\\n')\n",
        "print('***Confusion Matrix***')\n",
        "confusion_matrix(y_test, X_test1['pred'])"
      ]
    },
    {
      "cell_type": "markdown",
      "metadata": {
        "id": "kXH5muKHe8F-"
      },
      "source": [
        "NOTE: Even after hyper-parameter tuning, the model performance did not improve to a great extent.\n",
        "\n"
      ]
    },
    {
      "cell_type": "markdown",
      "metadata": {
        "id": "ORguUsekFjWN"
      },
      "source": [
        "# Feature Importance Plot for Random Forest model"
      ]
    },
    {
      "cell_type": "code",
      "execution_count": null,
      "metadata": {
        "colab": {
          "base_uri": "https://localhost:8080/",
          "height": 410
        },
        "id": "5_dAZI8UFoxx",
        "outputId": "675f8fd5-7a7a-437d-a6fe-e1cbb8d3aea3"
      },
      "outputs": [
        {
          "output_type": "execute_result",
          "data": {
            "text/plain": [
              "Text(0.5, 1.0, 'Feature Importance')"
            ]
          },
          "metadata": {},
          "execution_count": 196
        },
        {
          "output_type": "display_data",
          "data": {
            "text/plain": [
              "<Figure size 864x432 with 1 Axes>"
            ],
            "image/png": "[encoded data removed]"
          },
          "metadata": {}
        }
      ],
      "source": [
        "model=RandomForestClassifier(class_weight='balanced', max_depth=22,\n",
        "                       max_features='sqrt', n_estimators=800)\n",
        "model.fit(X_train,y_train)\n",
        "feature_importance = model.feature_importances_\n",
        "sorted_idx = np.argsort(feature_importance)\n",
        "sorted_idx=sorted_idx[-10:len(sorted_idx)]\n",
        "fig = plt.figure(figsize=(12, 6))\n",
        "plt.barh(range(len(sorted_idx)), feature_importance[sorted_idx], align='center')\n",
        "plt.yticks(range(len(sorted_idx)), np.array(X_test1.columns)[sorted_idx])\n",
        "plt.title('Feature Importance')"
      ]
    },
    {
      "cell_type": "markdown",
      "source": [
        "NOTE: There is high bias of some features like total_paymnt and total_pymt_inv in the model by which both DT and RF are getting affected and thus, boosting models are required to reduce high bias.\n",
        "\n",
        "We will use XGBoost model here and check if the model performance improves further."
      ],
      "metadata": {
        "id": "2tY_lWosj_AQ"
      }
    },
    {
      "cell_type": "markdown",
      "source": [
        "#XGBoost Classifier"
      ],
      "metadata": {
        "id": "qzt2nf_Ck_Ys"
      }
    },
    {
      "cell_type": "code",
      "source": [
        "from sklearn.model_selection import RandomizedSearchCV\n",
        "# Random SearchCV for Hyper Parameter Tuning\n",
        "\n",
        "# Maximum number of levels in tree\n",
        "# Number of trees in random forest\n",
        "n_estimators = [int(x) for x in np.linspace(start = 100, stop = 500, num = 5)]\n",
        "\n",
        "max_depth = [int(x) for x in np.linspace(5, 25, num = 5)]\n",
        "\n",
        "max_features = ['auto', 'sqrt', 5, 6, 8, 10]\n",
        "\n",
        "\n",
        "random_grid = {'n_estimators': n_estimators,\n",
        "               'max_features': max_features,\n",
        "               'max_depth': max_depth}\n",
        "\n",
        "train_model = XGBClassifier(random_state = 42)\n",
        "\n",
        "# Random search of parameters, using 3 fold cross validation,\n",
        "# search across 100 different combinations, and use all available cores\n",
        "\n",
        "train_model_random = RandomizedSearchCV(estimator = train_model, param_distributions = random_grid, n_iter = 10, cv = 5, \n",
        "                                        verbose=2, random_state=42, n_jobs = -1)\n",
        "\n",
        "# Fit the random search model\n",
        "train_model_random.fit(X_train,y_train)\n",
        "\n",
        "print(train_model_random.best_params_)\n",
        "print(train_model_random.best_estimator_)"
      ],
      "metadata": {
        "id": "ZW5JS9LulCrL",
        "colab": {
          "base_uri": "https://localhost:8080/"
        },
        "outputId": "c056661f-aa13-41e8-dae4-f52b2e1f8d07"
      },
      "execution_count": null,
      "outputs": [
        {
          "output_type": "stream",
          "name": "stdout",
          "text": [
            "{'n_estimators': 400, 'max_features': 6, 'max_depth': 5}\n",
            "XGBClassifier(max_depth=5, max_features=6, n_estimators=400, random_state=42)\n",
            "Fitting 5 folds for each of 10 candidates, totalling 50 fits\n"
          ]
        }
      ]
    },
    {
      "cell_type": "code",
      "source": [
        "acc_scores_rf = []\n",
        "roc_auc_scores_rf = []\n",
        "precision_scores_rf = []\n",
        "recall_scores_rf = []\n",
        "f1_scores_rf = []\n",
        "train_acc = []\n",
        "\n",
        "#Define the K-fold Cross Validator\n",
        "kfold = StratifiedKFold(n_splits = 10, shuffle=True, random_state=0)\n",
        "\n",
        "#K-fold Cross Validation model evaluation\n",
        "fold_no = 1\n",
        "for train, test in kfold.split(X_scaled, y_train):\n",
        "  print('------------------------------------------------------------------------')\n",
        "  print(f'Training for fold {fold_no} ...')\n",
        "  \n",
        "  xgbClassifier = XGBClassifier(max_depth=5, max_features=6, n_estimators=400, random_state=42)\n",
        "  xgbClassifier.fit(X_scaled.iloc[train], y_train.iloc[train])\n",
        "  y_pred = xgbClassifier.predict(X_scaled.iloc[test])\n",
        "\n",
        "  acc_scores_rf.append(accuracy_score(y_train.iloc[test], y_pred))\n",
        "\n",
        "  train_acc.append(accuracy_score(y_train.iloc[train], xgbClassifier.predict(X_scaled.iloc[train])))\n",
        "  roc_auc_scores_rf.append(roc_auc_score(y_train.iloc[test], y_pred))\n",
        "  precision_scores_rf.append(precision_score(y_train.iloc[test], y_pred))\n",
        "  recall_scores_rf.append(recall_score(y_train.iloc[test], y_pred))\n",
        "  f1_scores_rf.append(f1_score(y_train.iloc[test], y_pred))\n",
        "\n",
        "  fold_no = fold_no + 1\n",
        "  \n",
        "print(f\"Accuracy Mean: {np.mean(acc_scores_rf)}\")\n",
        "print(f\"Accuracy Standard Deviation: {np.std(acc_scores_rf)}\")\n",
        "print(\"\\n\")\n",
        "print(f\"ROC-AUC Mean: {np.mean(roc_auc_scores_rf)}\")\n",
        "print(f\"ROC-AUC Standard Deviation: {np.std(roc_auc_scores_rf)}\")\n",
        "print(\"\\n\")\n",
        "print(f\"Precision Mean: {np.mean(precision_scores_rf)}\")\n",
        "print(f\"Precision Standard Deviation: {np.std(precision_scores_rf)}\")\n",
        "print(\"\\n\")\n",
        "print(f\"Recall Mean: {np.mean(recall_scores_rf)}\")\n",
        "print(f\"Recall Standard Deviation: {np.std(recall_scores_rf)}\")\n",
        "print(\"\\n\")\n",
        "print(f\"F1 Mean: {np.mean(f1_scores_rf)}\")\n",
        "print(f\"F1 Standard Deviation: {np.std(f1_scores_rf)}\")\n",
        "\n",
        "print(f\"train accuracy Mean: {np.mean(train_acc)}\")"
      ],
      "metadata": {
        "id": "SeMw6gKOlG-Y",
        "colab": {
          "base_uri": "https://localhost:8080/"
        },
        "outputId": "fdcb771e-2b56-4c83-aa05-3049e1fcb859"
      },
      "execution_count": null,
      "outputs": [
        {
          "output_type": "stream",
          "name": "stdout",
          "text": [
            "------------------------------------------------------------------------\n",
            "Training for fold 1 ...\n",
            "------------------------------------------------------------------------\n",
            "Training for fold 2 ...\n",
            "------------------------------------------------------------------------\n",
            "Training for fold 3 ...\n",
            "------------------------------------------------------------------------\n",
            "Training for fold 4 ...\n",
            "------------------------------------------------------------------------\n",
            "Training for fold 5 ...\n",
            "------------------------------------------------------------------------\n",
            "Training for fold 6 ...\n",
            "------------------------------------------------------------------------\n",
            "Training for fold 7 ...\n",
            "------------------------------------------------------------------------\n",
            "Training for fold 8 ...\n",
            "------------------------------------------------------------------------\n",
            "Training for fold 9 ...\n",
            "------------------------------------------------------------------------\n",
            "Training for fold 10 ...\n",
            "Accuracy Mean: 0.9962558211577818\n",
            "Accuracy Standard Deviation: 0.001798377747925998\n",
            "\n",
            "\n",
            "ROC-AUC Mean: 0.9864359709555076\n",
            "ROC-AUC Standard Deviation: 0.006660027958138423\n",
            "\n",
            "\n",
            "Precision Mean: 0.9996951219512195\n",
            "Precision Standard Deviation: 0.0009146341463414643\n",
            "\n",
            "\n",
            "Recall Mean: 0.9729196063533413\n",
            "Recall Standard Deviation: 0.013351679620263401\n",
            "\n",
            "\n",
            "F1 Mean: 0.9860771727238482\n",
            "F1 Standard Deviation: 0.006838024805888683\n",
            "train accuracy Mean: 1.0\n"
          ]
        }
      ]
    },
    {
      "cell_type": "code",
      "source": [
        "X_test1 = X_test.copy()\n",
        "\n",
        "X_test_scaled = pd.DataFrame(rs.transform(X_test1))\n",
        "y_pred = xgbClassifier.predict(X_test_scaled)\n",
        "\n",
        "y_prob = xgbClassifier.predict_proba(X_test_scaled)[:,1]\n",
        "\n",
        "X_test1['pred'] = y_pred\n",
        "\n",
        "X_test1['prob'] = y_prob\n",
        "\n",
        "print('___________________VALIDATION RESULTS__________________________')\n",
        "print('\\n')\n",
        "print('Accuracy Score ->',round(accuracy_score(y_test, X_test1['pred']),))\n",
        "print('Precision Score ->',round(precision_score(y_test, X_test1['pred']),5))\n",
        "print('Recall Score ->',round(recall_score(y_test, X_test1['pred']),5))\n",
        "print('F1 Score ->',round(f1_score(y_test, X_test1['pred']),5))\n",
        "print('\\n')\n",
        "print('***Confusion Matrix***')\n",
        "confusion_matrix(y_test, X_test1['pred'])\n"
      ],
      "metadata": {
        "id": "2BlgWbnLlMGw",
        "colab": {
          "base_uri": "https://localhost:8080/"
        },
        "outputId": "6bad6406-6b83-467b-f73e-b7dc213cd5cc"
      },
      "execution_count": null,
      "outputs": [
        {
          "output_type": "stream",
          "name": "stdout",
          "text": [
            "___________________VALIDATION RESULTS__________________________\n",
            "\n",
            "\n",
            "Accuracy Score -> 1\n",
            "Precision Score -> 0.99899\n",
            "Recall Score -> 0.96595\n",
            "F1 Score -> 0.9822\n",
            "\n",
            "\n",
            "***Confusion Matrix***\n"
          ]
        },
        {
          "output_type": "execute_result",
          "data": {
            "text/plain": [
              "array([[7073,    1],\n",
              "       [  35,  993]])"
            ]
          },
          "metadata": {},
          "execution_count": 208
        }
      ]
    },
    {
      "cell_type": "markdown",
      "source": [
        "NOTE: The F1 score for XGBoost classifier is 0.98 which is far better than any other models used so far in this project.\n",
        "\n",
        "Thus, we will use XGBoost model as our final model to be used for loan default classification in this project."
      ],
      "metadata": {
        "id": "OyDa9cgkW81i"
      }
    },
    {
      "cell_type": "markdown",
      "metadata": {
        "id": "6SYCtZI06N1-"
      },
      "source": [
        "# CONCLUSION"
      ]
    },
    {
      "cell_type": "markdown",
      "metadata": {
        "id": "V0EjPclI6Qv3"
      },
      "source": [
        "In this project, we are able to obtain the best model, that is, XGBoost Classifier, which is able to classify a potential borrower into fully paid or charged off.\n",
        "\n",
        "This model would help various financial companies to identify typical behaviour in borrowers and predict whether they would be unable to pay their debt before allowing them to borrow and thus reduce their risk of losing money by lending to borrowers who would have high chance of defaulting."
      ]
    },
    {
      "cell_type": "code",
      "execution_count": null,
      "metadata": {
        "id": "323SJf_sYysZ"
      },
      "outputs": [],
      "source": [
        ""
      ]
    }
  ],
  "metadata": {
    "colab": {
      "collapsed_sections": [],
      "name": " Loan_Prediction_Project.ipynb",
      "provenance": []
    },
    "kernelspec": {
      "display_name": "Python 3",
      "name": "python3"
    },
    "language_info": {
      "name": "python"
    }
  },
  "nbformat": 4,
  "nbformat_minor": 0
}