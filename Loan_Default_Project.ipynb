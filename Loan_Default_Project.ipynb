{
  "nbformat": 4,
  "nbformat_minor": 0,
  "metadata": {
    "colab": {
      "name": " Loan_Prediction_Project.ipynb",
      "provenance": [],
      "collapsed_sections": []
    },
    "kernelspec": {
      "name": "python3",
      "display_name": "Python 3"
    },
    "language_info": {
      "name": "python"
    }
  },
  "cells": [
    {
      "cell_type": "markdown",
      "source": [
        "# INTRODUCTION"
      ],
      "metadata": {
        "id": "_KET31JHzLBK"
      }
    },
    {
      "cell_type": "markdown",
      "source": [
        "Loan default prediction is a common problem for various financial companies and a well defined and known problem in data science. This is the type of problem banks (e.g Goldman Sachs), credit card companies (e.g. Visa), micro-credit banks (e.g. Grameen Bank) or FinTech companies (e.g. Lending Club) face whenever customers ask for a loan.\n",
        "\n"
      ],
      "metadata": {
        "id": "Oh6S1gK-y5nb"
      }
    },
    {
      "cell_type": "markdown",
      "source": [
        "# Problem Statement"
      ],
      "metadata": {
        "id": "Cku2InW8zPTT"
      }
    },
    {
      "cell_type": "markdown",
      "source": [
        "If a model is able to identify credit-worthy customers that were not recognized by traditional credit scores while minimizing their risk of default on the loans, this can be a lucrative niche market or micro-market.\n",
        "\n",
        "\n",
        "The loan default prediction is a problem of binary classification (do we lend or not). We will at first need to understand the data and we will achieve our goal of better understanding by analyzing the data with the data dictionary. This will give us a sense of what is relevant or which columns could be reworked to build features if necessary. We also expect to clean the dataset because it is common to find data with a sizeable amount of missing values or  trivial rows and columns. One recurring problem in binary classification is the possibility of class imbalance, or outcome imbalance."
      ],
      "metadata": {
        "id": "ZWyX1GTzzPOg"
      }
    },
    {
      "cell_type": "markdown",
      "source": [
        "The dataset is taken from https://data.world/jaypeedevlin/lending-club-loan-data-2007-11\n",
        "\n",
        "There are 42538 rows and 111 columns in the dataset.\n",
        "\n",
        "In this project, we will analyze a dataset containing data on potential borrowers. The goal of this project is to build a model predicting the loan default of potential borrowers."
      ],
      "metadata": {
        "id": "Fp5eIkZTz14N"
      }
    },
    {
      "cell_type": "markdown",
      "source": [
        "### Connecting to the Google Drive"
      ],
      "metadata": {
        "id": "MmHLWdzu2U1Y"
      }
    },
    {
      "cell_type": "code",
      "execution_count": null,
      "metadata": {
        "colab": {
          "base_uri": "https://localhost:8080/"
        },
        "id": "lgC6mO_YzHOj",
        "outputId": "a024c962-d7ed-4871-c3f0-f1c6c19b96d1"
      },
      "outputs": [
        {
          "output_type": "stream",
          "name": "stdout",
          "text": [
            "Mounted at /content/drive\n"
          ]
        }
      ],
      "source": [
        "from google.colab import drive\n",
        "drive.mount('/content/drive')"
      ]
    },
    {
      "cell_type": "markdown",
      "source": [
        "### Importing Libraries"
      ],
      "metadata": {
        "id": "xMca-tuP2cDn"
      }
    },
    {
      "cell_type": "code",
      "source": [
        "#importing necessary libraries\n",
        "import warnings\n",
        "warnings.filterwarnings(\"ignore\")\n",
        "\n",
        "import numpy as np\n",
        "import pandas as pd\n",
        "import os\n",
        "import matplotlib.pyplot as plt\n",
        "\n",
        "from sklearn.model_selection import KFold, StratifiedKFold, cross_val_score\n",
        "from sklearn.model_selection import train_test_split\n",
        "from sklearn.utils.class_weight import compute_class_weight\n",
        "from sklearn.metrics import classification_report, accuracy_score, roc_curve, roc_auc_score, auc, precision_score, recall_score, f1_score, confusion_matrix,matthews_corrcoef\n",
        "from sklearn.preprocessing import LabelEncoder\n",
        "from sklearn.preprocessing import MinMaxScaler, RobustScaler\n",
        "from sklearn.model_selection import cross_val_predict\n",
        "\n",
        "from sklearn.ensemble import RandomForestClassifier\n",
        "from sklearn.tree import DecisionTreeClassifier\n",
        "from sklearn.neighbors import KNeighborsClassifier\n",
        "# from xgboost import XGBClassifier\n",
        "\n",
        "import seaborn as sns\n",
        "\n",
        "%matplotlib inline"
      ],
      "metadata": {
        "id": "HpkDmO-hzX_u"
      },
      "execution_count": null,
      "outputs": []
    },
    {
      "cell_type": "markdown",
      "source": [
        "### Outlier Detection Function"
      ],
      "metadata": {
        "id": "iYCy0vHn8qV6"
      }
    },
    {
      "cell_type": "code",
      "source": [
        "def outlier_removal(dataframe,dataframe1,limit = 1.5):\n",
        "  for col in dataframe1:\n",
        "    rw = limit*(dataframe[col].quantile(0.75) - dataframe[col].quantile(0.25)) + dataframe[col].quantile(0.75)\n",
        "    lw = dataframe[col].quantile(0.25) - limit*(dataframe[col].quantile(0.75) - dataframe[col].quantile(0.25))\n",
        "\n",
        "    dataframe = dataframe[~(dataframe[col]>rw)]\n",
        "    dataframe = dataframe[~(dataframe[col]<lw)]\n",
        "    dataframe = dataframe\n",
        "\n",
        "    return dataframe"
      ],
      "metadata": {
        "id": "YLvanuRt8p7q"
      },
      "execution_count": null,
      "outputs": []
    },
    {
      "cell_type": "markdown",
      "source": [
        "### Calling the Data"
      ],
      "metadata": {
        "id": "u9u0p0bv2gog"
      }
    },
    {
      "cell_type": "code",
      "source": [
        "#importing the dataset\n",
        "df = pd.read_csv(\"/content/drive/MyDrive/LoanStats3a_.csv\", low_memory = False, skiprows = 1)\n",
        "\n",
        "print(df.shape)\n",
        "\n",
        "print(df.columns)\n",
        "\n",
        "df.head(2)"
      ],
      "metadata": {
        "id": "uXpBykGZz9Uv",
        "colab": {
          "base_uri": "https://localhost:8080/",
          "height": 396
        },
        "outputId": "0c73a50e-5da2-4858-a93b-0d5330552a1d"
      },
      "execution_count": null,
      "outputs": [
        {
          "output_type": "stream",
          "name": "stdout",
          "text": [
            "(42538, 111)\n",
            "Index(['id', 'member_id', 'loan_amnt', 'funded_amnt', 'funded_amnt_inv',\n",
            "       'term', 'int_rate', 'installment', 'grade', 'sub_grade',\n",
            "       ...\n",
            "       'num_tl_90g_dpd_24m', 'num_tl_op_past_12m', 'pct_tl_nvr_dlq',\n",
            "       'percent_bc_gt_75', 'pub_rec_bankruptcies', 'tax_liens',\n",
            "       'tot_hi_cred_lim', 'total_bal_ex_mort', 'total_bc_limit',\n",
            "       'total_il_high_credit_limit'],\n",
            "      dtype='object', length=111)\n"
          ]
        },
        {
          "output_type": "execute_result",
          "data": {
            "text/plain": [
              "        id  member_id  loan_amnt  funded_amnt  funded_amnt_inv        term  \\\n",
              "0  1077501  1296599.0     5000.0       5000.0           4975.0   36 months   \n",
              "1  1077430  1314167.0     2500.0       2500.0           2500.0   60 months   \n",
              "\n",
              "  int_rate  installment grade sub_grade  ... num_tl_90g_dpd_24m  \\\n",
              "0   10.65%       162.87     B        B2  ...                NaN   \n",
              "1   15.27%        59.83     C        C4  ...                NaN   \n",
              "\n",
              "  num_tl_op_past_12m pct_tl_nvr_dlq  percent_bc_gt_75 pub_rec_bankruptcies  \\\n",
              "0                NaN            NaN               NaN                  0.0   \n",
              "1                NaN            NaN               NaN                  0.0   \n",
              "\n",
              "  tax_liens tot_hi_cred_lim total_bal_ex_mort total_bc_limit  \\\n",
              "0       0.0             NaN               NaN            NaN   \n",
              "1       0.0             NaN               NaN            NaN   \n",
              "\n",
              "  total_il_high_credit_limit  \n",
              "0                        NaN  \n",
              "1                        NaN  \n",
              "\n",
              "[2 rows x 111 columns]"
            ],
            "text/html": [
              "\n",
              "  <div id=\"df-91855e0f-a001-4f7a-8106-5d005067efcd\">\n",
              "    <div class=\"colab-df-container\">\n",
              "      <div>\n",
              "<style scoped>\n",
              "    .dataframe tbody tr th:only-of-type {\n",
              "        vertical-align: middle;\n",
              "    }\n",
              "\n",
              "    .dataframe tbody tr th {\n",
              "        vertical-align: top;\n",
              "    }\n",
              "\n",
              "    .dataframe thead th {\n",
              "        text-align: right;\n",
              "    }\n",
              "</style>\n",
              "<table border=\"1\" class=\"dataframe\">\n",
              "  <thead>\n",
              "    <tr style=\"text-align: right;\">\n",
              "      <th></th>\n",
              "      <th>id</th>\n",
              "      <th>member_id</th>\n",
              "      <th>loan_amnt</th>\n",
              "      <th>funded_amnt</th>\n",
              "      <th>funded_amnt_inv</th>\n",
              "      <th>term</th>\n",
              "      <th>int_rate</th>\n",
              "      <th>installment</th>\n",
              "      <th>grade</th>\n",
              "      <th>sub_grade</th>\n",
              "      <th>...</th>\n",
              "      <th>num_tl_90g_dpd_24m</th>\n",
              "      <th>num_tl_op_past_12m</th>\n",
              "      <th>pct_tl_nvr_dlq</th>\n",
              "      <th>percent_bc_gt_75</th>\n",
              "      <th>pub_rec_bankruptcies</th>\n",
              "      <th>tax_liens</th>\n",
              "      <th>tot_hi_cred_lim</th>\n",
              "      <th>total_bal_ex_mort</th>\n",
              "      <th>total_bc_limit</th>\n",
              "      <th>total_il_high_credit_limit</th>\n",
              "    </tr>\n",
              "  </thead>\n",
              "  <tbody>\n",
              "    <tr>\n",
              "      <th>0</th>\n",
              "      <td>1077501</td>\n",
              "      <td>1296599.0</td>\n",
              "      <td>5000.0</td>\n",
              "      <td>5000.0</td>\n",
              "      <td>4975.0</td>\n",
              "      <td>36 months</td>\n",
              "      <td>10.65%</td>\n",
              "      <td>162.87</td>\n",
              "      <td>B</td>\n",
              "      <td>B2</td>\n",
              "      <td>...</td>\n",
              "      <td>NaN</td>\n",
              "      <td>NaN</td>\n",
              "      <td>NaN</td>\n",
              "      <td>NaN</td>\n",
              "      <td>0.0</td>\n",
              "      <td>0.0</td>\n",
              "      <td>NaN</td>\n",
              "      <td>NaN</td>\n",
              "      <td>NaN</td>\n",
              "      <td>NaN</td>\n",
              "    </tr>\n",
              "    <tr>\n",
              "      <th>1</th>\n",
              "      <td>1077430</td>\n",
              "      <td>1314167.0</td>\n",
              "      <td>2500.0</td>\n",
              "      <td>2500.0</td>\n",
              "      <td>2500.0</td>\n",
              "      <td>60 months</td>\n",
              "      <td>15.27%</td>\n",
              "      <td>59.83</td>\n",
              "      <td>C</td>\n",
              "      <td>C4</td>\n",
              "      <td>...</td>\n",
              "      <td>NaN</td>\n",
              "      <td>NaN</td>\n",
              "      <td>NaN</td>\n",
              "      <td>NaN</td>\n",
              "      <td>0.0</td>\n",
              "      <td>0.0</td>\n",
              "      <td>NaN</td>\n",
              "      <td>NaN</td>\n",
              "      <td>NaN</td>\n",
              "      <td>NaN</td>\n",
              "    </tr>\n",
              "  </tbody>\n",
              "</table>\n",
              "<p>2 rows × 111 columns</p>\n",
              "</div>\n",
              "      <button class=\"colab-df-convert\" onclick=\"convertToInteractive('df-91855e0f-a001-4f7a-8106-5d005067efcd')\"\n",
              "              title=\"Convert this dataframe to an interactive table.\"\n",
              "              style=\"display:none;\">\n",
              "        \n",
              "  <svg xmlns=\"http://www.w3.org/2000/svg\" height=\"24px\"viewBox=\"0 0 24 24\"\n",
              "       width=\"24px\">\n",
              "    <path d=\"M0 0h24v24H0V0z\" fill=\"none\"/>\n",
              "    <path d=\"M18.56 5.44l.94 2.06.94-2.06 2.06-.94-2.06-.94-.94-2.06-.94 2.06-2.06.94zm-11 1L8.5 8.5l.94-2.06 2.06-.94-2.06-.94L8.5 2.5l-.94 2.06-2.06.94zm10 10l.94 2.06.94-2.06 2.06-.94-2.06-.94-.94-2.06-.94 2.06-2.06.94z\"/><path d=\"M17.41 7.96l-1.37-1.37c-.4-.4-.92-.59-1.43-.59-.52 0-1.04.2-1.43.59L10.3 9.45l-7.72 7.72c-.78.78-.78 2.05 0 2.83L4 21.41c.39.39.9.59 1.41.59.51 0 1.02-.2 1.41-.59l7.78-7.78 2.81-2.81c.8-.78.8-2.07 0-2.86zM5.41 20L4 18.59l7.72-7.72 1.47 1.35L5.41 20z\"/>\n",
              "  </svg>\n",
              "      </button>\n",
              "      \n",
              "  <style>\n",
              "    .colab-df-container {\n",
              "      display:flex;\n",
              "      flex-wrap:wrap;\n",
              "      gap: 12px;\n",
              "    }\n",
              "\n",
              "    .colab-df-convert {\n",
              "      background-color: #E8F0FE;\n",
              "      border: none;\n",
              "      border-radius: 50%;\n",
              "      cursor: pointer;\n",
              "      display: none;\n",
              "      fill: #1967D2;\n",
              "      height: 32px;\n",
              "      padding: 0 0 0 0;\n",
              "      width: 32px;\n",
              "    }\n",
              "\n",
              "    .colab-df-convert:hover {\n",
              "      background-color: #E2EBFA;\n",
              "      box-shadow: 0px 1px 2px rgba(60, 64, 67, 0.3), 0px 1px 3px 1px rgba(60, 64, 67, 0.15);\n",
              "      fill: #174EA6;\n",
              "    }\n",
              "\n",
              "    [theme=dark] .colab-df-convert {\n",
              "      background-color: #3B4455;\n",
              "      fill: #D2E3FC;\n",
              "    }\n",
              "\n",
              "    [theme=dark] .colab-df-convert:hover {\n",
              "      background-color: #434B5C;\n",
              "      box-shadow: 0px 1px 3px 1px rgba(0, 0, 0, 0.15);\n",
              "      filter: drop-shadow(0px 1px 2px rgba(0, 0, 0, 0.3));\n",
              "      fill: #FFFFFF;\n",
              "    }\n",
              "  </style>\n",
              "\n",
              "      <script>\n",
              "        const buttonEl =\n",
              "          document.querySelector('#df-91855e0f-a001-4f7a-8106-5d005067efcd button.colab-df-convert');\n",
              "        buttonEl.style.display =\n",
              "          google.colab.kernel.accessAllowed ? 'block' : 'none';\n",
              "\n",
              "        async function convertToInteractive(key) {\n",
              "          const element = document.querySelector('#df-91855e0f-a001-4f7a-8106-5d005067efcd');\n",
              "          const dataTable =\n",
              "            await google.colab.kernel.invokeFunction('convertToInteractive',\n",
              "                                                     [key], {});\n",
              "          if (!dataTable) return;\n",
              "\n",
              "          const docLinkHtml = 'Like what you see? Visit the ' +\n",
              "            '<a target=\"_blank\" href=https://colab.research.google.com/notebooks/data_table.ipynb>data table notebook</a>'\n",
              "            + ' to learn more about interactive tables.';\n",
              "          element.innerHTML = '';\n",
              "          dataTable['output_type'] = 'display_data';\n",
              "          await google.colab.output.renderOutput(dataTable, element);\n",
              "          const docLink = document.createElement('div');\n",
              "          docLink.innerHTML = docLinkHtml;\n",
              "          element.appendChild(docLink);\n",
              "        }\n",
              "      </script>\n",
              "    </div>\n",
              "  </div>\n",
              "  "
            ]
          },
          "metadata": {},
          "execution_count": 4
        }
      ]
    },
    {
      "cell_type": "code",
      "source": [
        "#Loooking at the first row of the dataframe in order to understand the columns\n",
        "df.iloc[0]"
      ],
      "metadata": {
        "colab": {
          "base_uri": "https://localhost:8080/"
        },
        "id": "2Ik3sFzx0j2_",
        "outputId": "09837277-39db-4b4a-a7e1-5659ac06c4c6"
      },
      "execution_count": null,
      "outputs": [
        {
          "output_type": "execute_result",
          "data": {
            "text/plain": [
              "id                              1077501\n",
              "member_id                     1296599.0\n",
              "loan_amnt                        5000.0\n",
              "funded_amnt                      5000.0\n",
              "funded_amnt_inv                  4975.0\n",
              "                                ...    \n",
              "tax_liens                           0.0\n",
              "tot_hi_cred_lim                     NaN\n",
              "total_bal_ex_mort                   NaN\n",
              "total_bc_limit                      NaN\n",
              "total_il_high_credit_limit          NaN\n",
              "Name: 0, Length: 111, dtype: object"
            ]
          },
          "metadata": {},
          "execution_count": 5
        }
      ]
    },
    {
      "cell_type": "code",
      "source": [
        "df.desc.head(2)"
      ],
      "metadata": {
        "colab": {
          "base_uri": "https://localhost:8080/"
        },
        "id": "ybK_s7BUCRbf",
        "outputId": "2baf7d2e-8d19-4471-8724-46eb40415feb"
      },
      "execution_count": null,
      "outputs": [
        {
          "output_type": "execute_result",
          "data": {
            "text/plain": [
              "0      Borrower added on 12/22/11 > I need to upgra...\n",
              "1      Borrower added on 12/22/11 > I plan to use t...\n",
              "Name: desc, dtype: object"
            ]
          },
          "metadata": {},
          "execution_count": 6
        }
      ]
    },
    {
      "cell_type": "code",
      "source": [
        "df.url.head(2)"
      ],
      "metadata": {
        "colab": {
          "base_uri": "https://localhost:8080/"
        },
        "id": "Mg4mixniCW_u",
        "outputId": "dba5b047-fa08-49bb-db8c-a2e658f1279d"
      },
      "execution_count": null,
      "outputs": [
        {
          "output_type": "execute_result",
          "data": {
            "text/plain": [
              "0    https://lendingclub.com/browse/loanDetail.acti...\n",
              "1    https://lendingclub.com/browse/loanDetail.acti...\n",
              "Name: url, dtype: object"
            ]
          },
          "metadata": {},
          "execution_count": 7
        }
      ]
    },
    {
      "cell_type": "markdown",
      "source": [
        "As we can see, the number of columns will be something to work on. We will remove the *desc* and *url* columns mostly because it leads to or describes information that is not necessary for our analysis."
      ],
      "metadata": {
        "id": "cmIcf2nF1KMl"
      }
    },
    {
      "cell_type": "code",
      "source": [
        "df1 = df.drop(['desc','url'],axis=1)"
      ],
      "metadata": {
        "id": "fHQvr9l00u9L"
      },
      "execution_count": null,
      "outputs": []
    },
    {
      "cell_type": "code",
      "source": [
        "df1.describe()"
      ],
      "metadata": {
        "colab": {
          "base_uri": "https://localhost:8080/",
          "height": 394
        },
        "id": "pGvoCL4W0veV",
        "outputId": "58c9160f-bc35-4481-ceeb-41276860e7a8"
      },
      "execution_count": null,
      "outputs": [
        {
          "output_type": "execute_result",
          "data": {
            "text/plain": [
              "          member_id     loan_amnt   funded_amnt  funded_amnt_inv  \\\n",
              "count  4.253500e+04  42535.000000  42535.000000     42535.000000   \n",
              "mean   8.257026e+05  11089.722581  10821.585753     10139.830603   \n",
              "std    2.795409e+05   7410.938391   7146.914675      7131.686447   \n",
              "min    7.047300e+04    500.000000    500.000000         0.000000   \n",
              "25%    6.384795e+05   5200.000000   5000.000000      4950.000000   \n",
              "50%    8.241780e+05   9700.000000   9600.000000      8500.000000   \n",
              "75%    1.033946e+06  15000.000000  15000.000000     14000.000000   \n",
              "max    1.314167e+06  35000.000000  35000.000000     35000.000000   \n",
              "\n",
              "        installment    annual_inc           dti   delinq_2yrs  inq_last_6mths  \\\n",
              "count  42535.000000  4.253100e+04  42535.000000  42506.000000    42506.000000   \n",
              "mean     322.623063  6.913656e+04     13.373043      0.152449        1.081424   \n",
              "std      208.927216  6.409635e+04      6.726315      0.512406        1.527455   \n",
              "min       15.670000  1.896000e+03      0.000000      0.000000        0.000000   \n",
              "25%      165.520000  4.000000e+04      8.200000      0.000000        0.000000   \n",
              "50%      277.690000  5.900000e+04     13.470000      0.000000        1.000000   \n",
              "75%      428.180000  8.250000e+04     18.680000      0.000000        2.000000   \n",
              "max     1305.190000  6.000000e+06     29.990000     13.000000       33.000000   \n",
              "\n",
              "       mths_since_last_delinq  ...  num_tl_90g_dpd_24m  num_tl_op_past_12m  \\\n",
              "count            15609.000000  ...                 0.0                 0.0   \n",
              "mean                35.017618  ...                 NaN                 NaN   \n",
              "std                 22.418427  ...                 NaN                 NaN   \n",
              "min                  0.000000  ...                 NaN                 NaN   \n",
              "25%                 17.000000  ...                 NaN                 NaN   \n",
              "50%                 33.000000  ...                 NaN                 NaN   \n",
              "75%                 51.000000  ...                 NaN                 NaN   \n",
              "max                120.000000  ...                 NaN                 NaN   \n",
              "\n",
              "       pct_tl_nvr_dlq  percent_bc_gt_75  pub_rec_bankruptcies     tax_liens  \\\n",
              "count             0.0               0.0          41170.000000  42430.000000   \n",
              "mean              NaN               NaN              0.045227      0.000024   \n",
              "std               NaN               NaN              0.208737      0.004855   \n",
              "min               NaN               NaN              0.000000      0.000000   \n",
              "25%               NaN               NaN              0.000000      0.000000   \n",
              "50%               NaN               NaN              0.000000      0.000000   \n",
              "75%               NaN               NaN              0.000000      0.000000   \n",
              "max               NaN               NaN              2.000000      1.000000   \n",
              "\n",
              "       tot_hi_cred_lim  total_bal_ex_mort  total_bc_limit  \\\n",
              "count              0.0                0.0             0.0   \n",
              "mean               NaN                NaN             NaN   \n",
              "std                NaN                NaN             NaN   \n",
              "min                NaN                NaN             NaN   \n",
              "25%                NaN                NaN             NaN   \n",
              "50%                NaN                NaN             NaN   \n",
              "75%                NaN                NaN             NaN   \n",
              "max                NaN                NaN             NaN   \n",
              "\n",
              "       total_il_high_credit_limit  \n",
              "count                         0.0  \n",
              "mean                          NaN  \n",
              "std                           NaN  \n",
              "min                           NaN  \n",
              "25%                           NaN  \n",
              "50%                           NaN  \n",
              "75%                           NaN  \n",
              "max                           NaN  \n",
              "\n",
              "[8 rows x 86 columns]"
            ],
            "text/html": [
              "\n",
              "  <div id=\"df-024831db-d47b-44f2-baa2-59f122207010\">\n",
              "    <div class=\"colab-df-container\">\n",
              "      <div>\n",
              "<style scoped>\n",
              "    .dataframe tbody tr th:only-of-type {\n",
              "        vertical-align: middle;\n",
              "    }\n",
              "\n",
              "    .dataframe tbody tr th {\n",
              "        vertical-align: top;\n",
              "    }\n",
              "\n",
              "    .dataframe thead th {\n",
              "        text-align: right;\n",
              "    }\n",
              "</style>\n",
              "<table border=\"1\" class=\"dataframe\">\n",
              "  <thead>\n",
              "    <tr style=\"text-align: right;\">\n",
              "      <th></th>\n",
              "      <th>member_id</th>\n",
              "      <th>loan_amnt</th>\n",
              "      <th>funded_amnt</th>\n",
              "      <th>funded_amnt_inv</th>\n",
              "      <th>installment</th>\n",
              "      <th>annual_inc</th>\n",
              "      <th>dti</th>\n",
              "      <th>delinq_2yrs</th>\n",
              "      <th>inq_last_6mths</th>\n",
              "      <th>mths_since_last_delinq</th>\n",
              "      <th>...</th>\n",
              "      <th>num_tl_90g_dpd_24m</th>\n",
              "      <th>num_tl_op_past_12m</th>\n",
              "      <th>pct_tl_nvr_dlq</th>\n",
              "      <th>percent_bc_gt_75</th>\n",
              "      <th>pub_rec_bankruptcies</th>\n",
              "      <th>tax_liens</th>\n",
              "      <th>tot_hi_cred_lim</th>\n",
              "      <th>total_bal_ex_mort</th>\n",
              "      <th>total_bc_limit</th>\n",
              "      <th>total_il_high_credit_limit</th>\n",
              "    </tr>\n",
              "  </thead>\n",
              "  <tbody>\n",
              "    <tr>\n",
              "      <th>count</th>\n",
              "      <td>4.253500e+04</td>\n",
              "      <td>42535.000000</td>\n",
              "      <td>42535.000000</td>\n",
              "      <td>42535.000000</td>\n",
              "      <td>42535.000000</td>\n",
              "      <td>4.253100e+04</td>\n",
              "      <td>42535.000000</td>\n",
              "      <td>42506.000000</td>\n",
              "      <td>42506.000000</td>\n",
              "      <td>15609.000000</td>\n",
              "      <td>...</td>\n",
              "      <td>0.0</td>\n",
              "      <td>0.0</td>\n",
              "      <td>0.0</td>\n",
              "      <td>0.0</td>\n",
              "      <td>41170.000000</td>\n",
              "      <td>42430.000000</td>\n",
              "      <td>0.0</td>\n",
              "      <td>0.0</td>\n",
              "      <td>0.0</td>\n",
              "      <td>0.0</td>\n",
              "    </tr>\n",
              "    <tr>\n",
              "      <th>mean</th>\n",
              "      <td>8.257026e+05</td>\n",
              "      <td>11089.722581</td>\n",
              "      <td>10821.585753</td>\n",
              "      <td>10139.830603</td>\n",
              "      <td>322.623063</td>\n",
              "      <td>6.913656e+04</td>\n",
              "      <td>13.373043</td>\n",
              "      <td>0.152449</td>\n",
              "      <td>1.081424</td>\n",
              "      <td>35.017618</td>\n",
              "      <td>...</td>\n",
              "      <td>NaN</td>\n",
              "      <td>NaN</td>\n",
              "      <td>NaN</td>\n",
              "      <td>NaN</td>\n",
              "      <td>0.045227</td>\n",
              "      <td>0.000024</td>\n",
              "      <td>NaN</td>\n",
              "      <td>NaN</td>\n",
              "      <td>NaN</td>\n",
              "      <td>NaN</td>\n",
              "    </tr>\n",
              "    <tr>\n",
              "      <th>std</th>\n",
              "      <td>2.795409e+05</td>\n",
              "      <td>7410.938391</td>\n",
              "      <td>7146.914675</td>\n",
              "      <td>7131.686447</td>\n",
              "      <td>208.927216</td>\n",
              "      <td>6.409635e+04</td>\n",
              "      <td>6.726315</td>\n",
              "      <td>0.512406</td>\n",
              "      <td>1.527455</td>\n",
              "      <td>22.418427</td>\n",
              "      <td>...</td>\n",
              "      <td>NaN</td>\n",
              "      <td>NaN</td>\n",
              "      <td>NaN</td>\n",
              "      <td>NaN</td>\n",
              "      <td>0.208737</td>\n",
              "      <td>0.004855</td>\n",
              "      <td>NaN</td>\n",
              "      <td>NaN</td>\n",
              "      <td>NaN</td>\n",
              "      <td>NaN</td>\n",
              "    </tr>\n",
              "    <tr>\n",
              "      <th>min</th>\n",
              "      <td>7.047300e+04</td>\n",
              "      <td>500.000000</td>\n",
              "      <td>500.000000</td>\n",
              "      <td>0.000000</td>\n",
              "      <td>15.670000</td>\n",
              "      <td>1.896000e+03</td>\n",
              "      <td>0.000000</td>\n",
              "      <td>0.000000</td>\n",
              "      <td>0.000000</td>\n",
              "      <td>0.000000</td>\n",
              "      <td>...</td>\n",
              "      <td>NaN</td>\n",
              "      <td>NaN</td>\n",
              "      <td>NaN</td>\n",
              "      <td>NaN</td>\n",
              "      <td>0.000000</td>\n",
              "      <td>0.000000</td>\n",
              "      <td>NaN</td>\n",
              "      <td>NaN</td>\n",
              "      <td>NaN</td>\n",
              "      <td>NaN</td>\n",
              "    </tr>\n",
              "    <tr>\n",
              "      <th>25%</th>\n",
              "      <td>6.384795e+05</td>\n",
              "      <td>5200.000000</td>\n",
              "      <td>5000.000000</td>\n",
              "      <td>4950.000000</td>\n",
              "      <td>165.520000</td>\n",
              "      <td>4.000000e+04</td>\n",
              "      <td>8.200000</td>\n",
              "      <td>0.000000</td>\n",
              "      <td>0.000000</td>\n",
              "      <td>17.000000</td>\n",
              "      <td>...</td>\n",
              "      <td>NaN</td>\n",
              "      <td>NaN</td>\n",
              "      <td>NaN</td>\n",
              "      <td>NaN</td>\n",
              "      <td>0.000000</td>\n",
              "      <td>0.000000</td>\n",
              "      <td>NaN</td>\n",
              "      <td>NaN</td>\n",
              "      <td>NaN</td>\n",
              "      <td>NaN</td>\n",
              "    </tr>\n",
              "    <tr>\n",
              "      <th>50%</th>\n",
              "      <td>8.241780e+05</td>\n",
              "      <td>9700.000000</td>\n",
              "      <td>9600.000000</td>\n",
              "      <td>8500.000000</td>\n",
              "      <td>277.690000</td>\n",
              "      <td>5.900000e+04</td>\n",
              "      <td>13.470000</td>\n",
              "      <td>0.000000</td>\n",
              "      <td>1.000000</td>\n",
              "      <td>33.000000</td>\n",
              "      <td>...</td>\n",
              "      <td>NaN</td>\n",
              "      <td>NaN</td>\n",
              "      <td>NaN</td>\n",
              "      <td>NaN</td>\n",
              "      <td>0.000000</td>\n",
              "      <td>0.000000</td>\n",
              "      <td>NaN</td>\n",
              "      <td>NaN</td>\n",
              "      <td>NaN</td>\n",
              "      <td>NaN</td>\n",
              "    </tr>\n",
              "    <tr>\n",
              "      <th>75%</th>\n",
              "      <td>1.033946e+06</td>\n",
              "      <td>15000.000000</td>\n",
              "      <td>15000.000000</td>\n",
              "      <td>14000.000000</td>\n",
              "      <td>428.180000</td>\n",
              "      <td>8.250000e+04</td>\n",
              "      <td>18.680000</td>\n",
              "      <td>0.000000</td>\n",
              "      <td>2.000000</td>\n",
              "      <td>51.000000</td>\n",
              "      <td>...</td>\n",
              "      <td>NaN</td>\n",
              "      <td>NaN</td>\n",
              "      <td>NaN</td>\n",
              "      <td>NaN</td>\n",
              "      <td>0.000000</td>\n",
              "      <td>0.000000</td>\n",
              "      <td>NaN</td>\n",
              "      <td>NaN</td>\n",
              "      <td>NaN</td>\n",
              "      <td>NaN</td>\n",
              "    </tr>\n",
              "    <tr>\n",
              "      <th>max</th>\n",
              "      <td>1.314167e+06</td>\n",
              "      <td>35000.000000</td>\n",
              "      <td>35000.000000</td>\n",
              "      <td>35000.000000</td>\n",
              "      <td>1305.190000</td>\n",
              "      <td>6.000000e+06</td>\n",
              "      <td>29.990000</td>\n",
              "      <td>13.000000</td>\n",
              "      <td>33.000000</td>\n",
              "      <td>120.000000</td>\n",
              "      <td>...</td>\n",
              "      <td>NaN</td>\n",
              "      <td>NaN</td>\n",
              "      <td>NaN</td>\n",
              "      <td>NaN</td>\n",
              "      <td>2.000000</td>\n",
              "      <td>1.000000</td>\n",
              "      <td>NaN</td>\n",
              "      <td>NaN</td>\n",
              "      <td>NaN</td>\n",
              "      <td>NaN</td>\n",
              "    </tr>\n",
              "  </tbody>\n",
              "</table>\n",
              "<p>8 rows × 86 columns</p>\n",
              "</div>\n",
              "      <button class=\"colab-df-convert\" onclick=\"convertToInteractive('df-024831db-d47b-44f2-baa2-59f122207010')\"\n",
              "              title=\"Convert this dataframe to an interactive table.\"\n",
              "              style=\"display:none;\">\n",
              "        \n",
              "  <svg xmlns=\"http://www.w3.org/2000/svg\" height=\"24px\"viewBox=\"0 0 24 24\"\n",
              "       width=\"24px\">\n",
              "    <path d=\"M0 0h24v24H0V0z\" fill=\"none\"/>\n",
              "    <path d=\"M18.56 5.44l.94 2.06.94-2.06 2.06-.94-2.06-.94-.94-2.06-.94 2.06-2.06.94zm-11 1L8.5 8.5l.94-2.06 2.06-.94-2.06-.94L8.5 2.5l-.94 2.06-2.06.94zm10 10l.94 2.06.94-2.06 2.06-.94-2.06-.94-.94-2.06-.94 2.06-2.06.94z\"/><path d=\"M17.41 7.96l-1.37-1.37c-.4-.4-.92-.59-1.43-.59-.52 0-1.04.2-1.43.59L10.3 9.45l-7.72 7.72c-.78.78-.78 2.05 0 2.83L4 21.41c.39.39.9.59 1.41.59.51 0 1.02-.2 1.41-.59l7.78-7.78 2.81-2.81c.8-.78.8-2.07 0-2.86zM5.41 20L4 18.59l7.72-7.72 1.47 1.35L5.41 20z\"/>\n",
              "  </svg>\n",
              "      </button>\n",
              "      \n",
              "  <style>\n",
              "    .colab-df-container {\n",
              "      display:flex;\n",
              "      flex-wrap:wrap;\n",
              "      gap: 12px;\n",
              "    }\n",
              "\n",
              "    .colab-df-convert {\n",
              "      background-color: #E8F0FE;\n",
              "      border: none;\n",
              "      border-radius: 50%;\n",
              "      cursor: pointer;\n",
              "      display: none;\n",
              "      fill: #1967D2;\n",
              "      height: 32px;\n",
              "      padding: 0 0 0 0;\n",
              "      width: 32px;\n",
              "    }\n",
              "\n",
              "    .colab-df-convert:hover {\n",
              "      background-color: #E2EBFA;\n",
              "      box-shadow: 0px 1px 2px rgba(60, 64, 67, 0.3), 0px 1px 3px 1px rgba(60, 64, 67, 0.15);\n",
              "      fill: #174EA6;\n",
              "    }\n",
              "\n",
              "    [theme=dark] .colab-df-convert {\n",
              "      background-color: #3B4455;\n",
              "      fill: #D2E3FC;\n",
              "    }\n",
              "\n",
              "    [theme=dark] .colab-df-convert:hover {\n",
              "      background-color: #434B5C;\n",
              "      box-shadow: 0px 1px 3px 1px rgba(0, 0, 0, 0.15);\n",
              "      filter: drop-shadow(0px 1px 2px rgba(0, 0, 0, 0.3));\n",
              "      fill: #FFFFFF;\n",
              "    }\n",
              "  </style>\n",
              "\n",
              "      <script>\n",
              "        const buttonEl =\n",
              "          document.querySelector('#df-024831db-d47b-44f2-baa2-59f122207010 button.colab-df-convert');\n",
              "        buttonEl.style.display =\n",
              "          google.colab.kernel.accessAllowed ? 'block' : 'none';\n",
              "\n",
              "        async function convertToInteractive(key) {\n",
              "          const element = document.querySelector('#df-024831db-d47b-44f2-baa2-59f122207010');\n",
              "          const dataTable =\n",
              "            await google.colab.kernel.invokeFunction('convertToInteractive',\n",
              "                                                     [key], {});\n",
              "          if (!dataTable) return;\n",
              "\n",
              "          const docLinkHtml = 'Like what you see? Visit the ' +\n",
              "            '<a target=\"_blank\" href=https://colab.research.google.com/notebooks/data_table.ipynb>data table notebook</a>'\n",
              "            + ' to learn more about interactive tables.';\n",
              "          element.innerHTML = '';\n",
              "          dataTable['output_type'] = 'display_data';\n",
              "          await google.colab.output.renderOutput(dataTable, element);\n",
              "          const docLink = document.createElement('div');\n",
              "          docLink.innerHTML = docLinkHtml;\n",
              "          element.appendChild(docLink);\n",
              "        }\n",
              "      </script>\n",
              "    </div>\n",
              "  </div>\n",
              "  "
            ]
          },
          "metadata": {},
          "execution_count": 9
        }
      ]
    },
    {
      "cell_type": "markdown",
      "source": [
        "## Removal of NULL Data"
      ],
      "metadata": {
        "id": "eXZ4QwKd29LM"
      }
    },
    {
      "cell_type": "markdown",
      "source": [
        "Another notable thing to remove is to remove columns with more than 50% missing values. It would be time consuming and inefficient to deal with the tremendous amount of missing values from these columns."
      ],
      "metadata": {
        "id": "5_Dgw8gJ2oXM"
      }
    },
    {
      "cell_type": "code",
      "source": [
        "df1.isnull().sum()"
      ],
      "metadata": {
        "colab": {
          "base_uri": "https://localhost:8080/"
        },
        "id": "HsV0GRRM0v3F",
        "outputId": "ca3fafda-aa1e-4816-8323-58eca2a786f3"
      },
      "execution_count": null,
      "outputs": [
        {
          "output_type": "execute_result",
          "data": {
            "text/plain": [
              "id                                0\n",
              "member_id                         3\n",
              "loan_amnt                         3\n",
              "funded_amnt                       3\n",
              "funded_amnt_inv                   3\n",
              "                              ...  \n",
              "tax_liens                       108\n",
              "tot_hi_cred_lim               42538\n",
              "total_bal_ex_mort             42538\n",
              "total_bc_limit                42538\n",
              "total_il_high_credit_limit    42538\n",
              "Length: 109, dtype: int64"
            ]
          },
          "metadata": {},
          "execution_count": 10
        }
      ]
    },
    {
      "cell_type": "code",
      "source": [
        "df1.shape"
      ],
      "metadata": {
        "colab": {
          "base_uri": "https://localhost:8080/"
        },
        "id": "M5kK1LOvM_1p",
        "outputId": "2b815ab5-4716-44c8-a082-df56bf288789"
      },
      "execution_count": null,
      "outputs": [
        {
          "output_type": "execute_result",
          "data": {
            "text/plain": [
              "(42538, 109)"
            ]
          },
          "metadata": {},
          "execution_count": 11
        }
      ]
    },
    {
      "cell_type": "code",
      "source": [
        "# count half point of the dataset.\n",
        "half_point = len(df1) / 2\n",
        "df2 = df1.dropna(thresh=half_point, axis=1) #dropping those columns with more than 50% null values\n",
        "df2.shape"
      ],
      "metadata": {
        "colab": {
          "base_uri": "https://localhost:8080/"
        },
        "id": "w3y9pn5j2z6u",
        "outputId": "01c450e6-8ddd-4ec9-88cd-587a03e7361f"
      },
      "execution_count": null,
      "outputs": [
        {
          "output_type": "execute_result",
          "data": {
            "text/plain": [
              "(42538, 52)"
            ]
          },
          "metadata": {},
          "execution_count": 12
        }
      ]
    },
    {
      "cell_type": "markdown",
      "source": [
        "NOTE: Dropped those columns whose number of missing values is more than 50%."
      ],
      "metadata": {
        "id": "SM7u_SDmkHVh"
      }
    },
    {
      "cell_type": "markdown",
      "source": [
        "## Removal of Unuseful Variables"
      ],
      "metadata": {
        "id": "KMi-NcsU4fmP"
      }
    },
    {
      "cell_type": "code",
      "source": [
        "df2['emp_title'].value_counts()"
      ],
      "metadata": {
        "colab": {
          "base_uri": "https://localhost:8080/"
        },
        "id": "3PHOJVB75Bao",
        "outputId": "8d62c207-b591-4f14-9139-e51d6dcc03ae"
      },
      "execution_count": null,
      "outputs": [
        {
          "output_type": "execute_result",
          "data": {
            "text/plain": [
              "US Army                             139\n",
              "Bank of America                     115\n",
              "IBM                                  72\n",
              "Kaiser Permanente                    61\n",
              "AT&T                                 61\n",
              "                                   ... \n",
              "Regional Elite Airlines Services      1\n",
              "Mass General Medical Group            1\n",
              "Kontera                               1\n",
              "Southeast Georgia Health ystem        1\n",
              "Homemaker                             1\n",
              "Name: emp_title, Length: 30658, dtype: int64"
            ]
          },
          "metadata": {},
          "execution_count": 13
        }
      ]
    },
    {
      "cell_type": "markdown",
      "source": [
        "NOTE: There are so many different categories in 'emp_title' with very few count in each of the categories and grouping them is also not possible since they are quite distinct. Also, keeping this variable would unnecessarily increase the number of columns after one-hot encoding and also, keeping this variable does not make much sense on the target variable. \n",
        "\n"
      ],
      "metadata": {
        "id": "cLr650hKNmJF"
      }
    },
    {
      "cell_type": "code",
      "source": [
        "df2.last_pymnt_d.value_counts()"
      ],
      "metadata": {
        "colab": {
          "base_uri": "https://localhost:8080/"
        },
        "id": "TTwly0r8RWVV",
        "outputId": "99f31900-a855-4043-f552-ae9e15afa502"
      },
      "execution_count": null,
      "outputs": [
        {
          "output_type": "execute_result",
          "data": {
            "text/plain": [
              "Mar-2013    1070\n",
              "Dec-2014     949\n",
              "May-2013     943\n",
              "Feb-2013     906\n",
              "Mar-2012     893\n",
              "            ... \n",
              "Jun-2008      20\n",
              "Mar-2008      18\n",
              "Jan-2008      11\n",
              "Feb-2008       8\n",
              "Dec-2007       2\n",
              "Name: last_pymnt_d, Length: 109, dtype: int64"
            ]
          },
          "metadata": {},
          "execution_count": 14
        }
      ]
    },
    {
      "cell_type": "code",
      "source": [
        "df2.zip_code.value_counts()"
      ],
      "metadata": {
        "colab": {
          "base_uri": "https://localhost:8080/"
        },
        "id": "yL9-9lx_R-wS",
        "outputId": "4c66e578-b7ad-4b7e-b91b-0da6bba9096e"
      },
      "execution_count": null,
      "outputs": [
        {
          "output_type": "execute_result",
          "data": {
            "text/plain": [
              "100xx    649\n",
              "945xx    559\n",
              "606xx    548\n",
              "112xx    538\n",
              "070xx    503\n",
              "        ... \n",
              "823xx      1\n",
              "965xx      1\n",
              "388xx      1\n",
              "386xx      1\n",
              "036xx      1\n",
              "Name: zip_code, Length: 837, dtype: int64"
            ]
          },
          "metadata": {},
          "execution_count": 15
        }
      ]
    },
    {
      "cell_type": "markdown",
      "source": [
        "NOTE: \"issue_d\" is the date on which the loan was issued. This variable should not have any impact on whether the borrower would default the loan or not.\n",
        "\n",
        "recoveries:post charge off gross recovery - this variable is talking about after charge-off gross recovery which is not important\n",
        "\n",
        "collection_recovery_fee: post charge off collection fee - this is also referring to after charge off recovery fee\n",
        "\n",
        "last_pymnt_d: Last month payment was received - again, the last payment date is not important\n",
        "\n"
      ],
      "metadata": {
        "id": "0tn828ZQQKeD"
      }
    },
    {
      "cell_type": "code",
      "source": [
        "#removing the id columns and the other non-important columns\n",
        "df3 = df2.drop(['id', 'member_id', 'emp_title',\n",
        "                'issue_d','zip_code', 'recoveries', 'collection_recovery_fee','last_pymnt_d'], axis = 1)\n",
        "\n",
        "df3.shape"
      ],
      "metadata": {
        "colab": {
          "base_uri": "https://localhost:8080/"
        },
        "id": "yIUnZxa23Glc",
        "outputId": "29d8f0f2-ebc4-4c87-d37c-78fbefc4727b"
      },
      "execution_count": null,
      "outputs": [
        {
          "output_type": "execute_result",
          "data": {
            "text/plain": [
              "(42538, 44)"
            ]
          },
          "metadata": {},
          "execution_count": 16
        }
      ]
    },
    {
      "cell_type": "code",
      "source": [
        "df3.info()"
      ],
      "metadata": {
        "colab": {
          "base_uri": "https://localhost:8080/"
        },
        "id": "t6XnNPjKR1TA",
        "outputId": "4d4d803a-6030-4f53-b429-a3be5af83759"
      },
      "execution_count": null,
      "outputs": [
        {
          "output_type": "stream",
          "name": "stdout",
          "text": [
            "<class 'pandas.core.frame.DataFrame'>\n",
            "RangeIndex: 42538 entries, 0 to 42537\n",
            "Data columns (total 44 columns):\n",
            " #   Column                      Non-Null Count  Dtype  \n",
            "---  ------                      --------------  -----  \n",
            " 0   loan_amnt                   42535 non-null  float64\n",
            " 1   funded_amnt                 42535 non-null  float64\n",
            " 2   funded_amnt_inv             42535 non-null  float64\n",
            " 3   term                        42535 non-null  object \n",
            " 4   int_rate                    42535 non-null  object \n",
            " 5   installment                 42535 non-null  float64\n",
            " 6   grade                       42535 non-null  object \n",
            " 7   sub_grade                   42535 non-null  object \n",
            " 8   emp_length                  41423 non-null  object \n",
            " 9   home_ownership              42535 non-null  object \n",
            " 10  annual_inc                  42531 non-null  float64\n",
            " 11  verification_status         42535 non-null  object \n",
            " 12  loan_status                 42535 non-null  object \n",
            " 13  pymnt_plan                  42535 non-null  object \n",
            " 14  purpose                     42535 non-null  object \n",
            " 15  title                       42522 non-null  object \n",
            " 16  addr_state                  42535 non-null  object \n",
            " 17  dti                         42535 non-null  float64\n",
            " 18  delinq_2yrs                 42506 non-null  float64\n",
            " 19  earliest_cr_line            42506 non-null  object \n",
            " 20  inq_last_6mths              42506 non-null  float64\n",
            " 21  open_acc                    42506 non-null  float64\n",
            " 22  pub_rec                     42506 non-null  float64\n",
            " 23  revol_bal                   42535 non-null  float64\n",
            " 24  revol_util                  42445 non-null  object \n",
            " 25  total_acc                   42506 non-null  float64\n",
            " 26  initial_list_status         42535 non-null  object \n",
            " 27  out_prncp                   42535 non-null  float64\n",
            " 28  out_prncp_inv               42535 non-null  float64\n",
            " 29  total_pymnt                 42535 non-null  float64\n",
            " 30  total_pymnt_inv             42535 non-null  float64\n",
            " 31  total_rec_prncp             42535 non-null  float64\n",
            " 32  total_rec_int               42535 non-null  float64\n",
            " 33  total_rec_late_fee          42535 non-null  float64\n",
            " 34  last_pymnt_amnt             42535 non-null  float64\n",
            " 35  last_credit_pull_d          42531 non-null  object \n",
            " 36  collections_12_mths_ex_med  42390 non-null  float64\n",
            " 37  policy_code                 42535 non-null  float64\n",
            " 38  application_type            42535 non-null  object \n",
            " 39  acc_now_delinq              42506 non-null  float64\n",
            " 40  chargeoff_within_12_mths    42390 non-null  float64\n",
            " 41  delinq_amnt                 42506 non-null  float64\n",
            " 42  pub_rec_bankruptcies        41170 non-null  float64\n",
            " 43  tax_liens                   42430 non-null  float64\n",
            "dtypes: float64(27), object(17)\n",
            "memory usage: 14.3+ MB\n"
          ]
        }
      ]
    },
    {
      "cell_type": "markdown",
      "source": [
        "### Defining TARGET"
      ],
      "metadata": {
        "id": "amm6gmGv51SP"
      }
    },
    {
      "cell_type": "code",
      "source": [
        "df3['loan_status'].value_counts()"
      ],
      "metadata": {
        "colab": {
          "base_uri": "https://localhost:8080/"
        },
        "id": "aYTSyj5J5xEd",
        "outputId": "0796d442-f553-4d8d-859c-2d3ebed273c4"
      },
      "execution_count": null,
      "outputs": [
        {
          "output_type": "execute_result",
          "data": {
            "text/plain": [
              "Fully Paid                                             34085\n",
              "Charged Off                                             5662\n",
              "Does not meet the credit policy. Status:Fully Paid      1988\n",
              "Does not meet the credit policy. Status:Charged Off      761\n",
              "Current                                                   19\n",
              "Late (31-120 days)                                         9\n",
              "In Grace Period                                            8\n",
              "Late (16-30 days)                                          2\n",
              "Default                                                    1\n",
              "Name: loan_status, dtype: int64"
            ]
          },
          "metadata": {},
          "execution_count": 18
        }
      ]
    },
    {
      "cell_type": "markdown",
      "source": [
        "Although we have multiple categories in loan status, we don't need them all. \n",
        "The only two categories important for our study of interest are **Fully Paid** and **Charged Off**.\n",
        "\n",
        "Here **Fully Paid** means the loan has been fully paid by the lender,\n",
        "\n",
        "and **Charged Off** means the loan that a company believes it will no longer collect as the lender has become delinquent on payments.\n",
        "\n",
        "So, here we take only these two categories, and lay off the rest."
      ],
      "metadata": {
        "id": "OsDZkyEM3JTe"
      }
    },
    {
      "cell_type": "markdown",
      "source": [
        "NOTE: Loans that are in \"Default\" are loans for which borrowers have failed to make payments for an extended period of time. A loan becomes “Charged Off” when there is no longer a reasonable expectation of further payments.\n",
        "\n",
        "Here, we just have one value for Default and hence we would not be able to make any predictions based on just 1 default customer data. So we drop that as well."
      ],
      "metadata": {
        "id": "lS1g4aMzSm_n"
      }
    },
    {
      "cell_type": "code",
      "source": [
        "df4 = df3[(df3['loan_status'] == \"Fully Paid\") | (df3['loan_status'] == \"Charged Off\")]\n",
        "\n",
        "df4.shape"
      ],
      "metadata": {
        "colab": {
          "base_uri": "https://localhost:8080/"
        },
        "id": "iOloByOg58gC",
        "outputId": "cef5b3ee-a105-494a-e15c-590c727c1c1e"
      },
      "execution_count": null,
      "outputs": [
        {
          "output_type": "execute_result",
          "data": {
            "text/plain": [
              "(39747, 44)"
            ]
          },
          "metadata": {},
          "execution_count": 19
        }
      ]
    },
    {
      "cell_type": "code",
      "source": [
        "df4.loan_status.value_counts()"
      ],
      "metadata": {
        "colab": {
          "base_uri": "https://localhost:8080/"
        },
        "id": "5JDZkQQTWJX_",
        "outputId": "83c57bba-3133-41d4-b826-cbbcb0bf2c74"
      },
      "execution_count": null,
      "outputs": [
        {
          "output_type": "execute_result",
          "data": {
            "text/plain": [
              "Fully Paid     34085\n",
              "Charged Off     5662\n",
              "Name: loan_status, dtype: int64"
            ]
          },
          "metadata": {},
          "execution_count": 20
        }
      ]
    },
    {
      "cell_type": "code",
      "source": [
        "# Assigning 0 and 1 to the loan status as per our interest. This variable will serve as our target variable\n",
        "\n",
        "target_replace = {\n",
        "    \"loan_status\" : { \"Fully Paid\": 0,\"Charged Off\": 1}\n",
        "}\n",
        "df4 = df4.replace(target_replace)\n",
        "\n",
        "df4['loan_status'].value_counts()"
      ],
      "metadata": {
        "colab": {
          "base_uri": "https://localhost:8080/"
        },
        "id": "kkPYwI8Z6Gnz",
        "outputId": "0e59b11a-7c86-4ce0-c854-2a3a305bb415"
      },
      "execution_count": null,
      "outputs": [
        {
          "output_type": "execute_result",
          "data": {
            "text/plain": [
              "0    34085\n",
              "1     5662\n",
              "Name: loan_status, dtype: int64"
            ]
          },
          "metadata": {},
          "execution_count": 21
        }
      ]
    },
    {
      "cell_type": "markdown",
      "source": [
        "## DATA CLEANING"
      ],
      "metadata": {
        "id": "c4gYxjp-6bxP"
      }
    },
    {
      "cell_type": "markdown",
      "source": [
        "Single value columns are not information that help our model, it does not provide any insight into the likelihood of default or repayment, and will be removed from the dataset."
      ],
      "metadata": {
        "id": "AiCgjtFq6vFx"
      }
    },
    {
      "cell_type": "code",
      "source": [
        "orig_columns = df4.columns\n",
        "drop_columns = []\n",
        "for col in orig_columns:\n",
        "    col_series = df4[col].dropna().unique()\n",
        "    if len(col_series) == 1:\n",
        "        drop_columns.append(col)\n",
        "\n",
        "drop_columns"
      ],
      "metadata": {
        "colab": {
          "base_uri": "https://localhost:8080/"
        },
        "id": "1n99RlYE6YZ8",
        "outputId": "15a1ca33-1eb9-4135-c709-2d7a6a1232d9"
      },
      "execution_count": null,
      "outputs": [
        {
          "output_type": "execute_result",
          "data": {
            "text/plain": [
              "['pymnt_plan',\n",
              " 'initial_list_status',\n",
              " 'out_prncp',\n",
              " 'out_prncp_inv',\n",
              " 'collections_12_mths_ex_med',\n",
              " 'policy_code',\n",
              " 'application_type',\n",
              " 'acc_now_delinq',\n",
              " 'chargeoff_within_12_mths',\n",
              " 'delinq_amnt',\n",
              " 'tax_liens']"
            ]
          },
          "metadata": {},
          "execution_count": 22
        }
      ]
    },
    {
      "cell_type": "code",
      "source": [
        "df4.pymnt_plan.value_counts()"
      ],
      "metadata": {
        "colab": {
          "base_uri": "https://localhost:8080/"
        },
        "id": "AyGk_iQVWZ5M",
        "outputId": "4bcd1662-4409-4513-d985-864c999b2db2"
      },
      "execution_count": null,
      "outputs": [
        {
          "output_type": "execute_result",
          "data": {
            "text/plain": [
              "n    39747\n",
              "Name: pymnt_plan, dtype: int64"
            ]
          },
          "metadata": {},
          "execution_count": 23
        }
      ]
    },
    {
      "cell_type": "code",
      "source": [
        "df4.policy_code.value_counts()"
      ],
      "metadata": {
        "colab": {
          "base_uri": "https://localhost:8080/"
        },
        "id": "_5Q2ciUdWaFk",
        "outputId": "0e1c8a21-f9f6-44df-e1e3-38ea6672494f"
      },
      "execution_count": null,
      "outputs": [
        {
          "output_type": "execute_result",
          "data": {
            "text/plain": [
              "1.0    39747\n",
              "Name: policy_code, dtype: int64"
            ]
          },
          "metadata": {},
          "execution_count": 24
        }
      ]
    },
    {
      "cell_type": "code",
      "source": [
        "#dropping the single-valued columns\n",
        "df5 = df4.drop(drop_columns, axis = 1)"
      ],
      "metadata": {
        "id": "1a8YR9p6WeQM"
      },
      "execution_count": null,
      "outputs": []
    },
    {
      "cell_type": "markdown",
      "source": [
        "#### Missing Value Detection"
      ],
      "metadata": {
        "id": "LduJb-rU63nN"
      }
    },
    {
      "cell_type": "code",
      "source": [
        "null_counts = (df5.isnull().sum()/df5.shape[0])*100\n",
        "null_counts"
      ],
      "metadata": {
        "colab": {
          "base_uri": "https://localhost:8080/"
        },
        "id": "YCFWIlsZ6tbU",
        "outputId": "289b486b-6e44-4f63-e404-20d0e76c1573"
      },
      "execution_count": null,
      "outputs": [
        {
          "output_type": "execute_result",
          "data": {
            "text/plain": [
              "loan_amnt               0.000000\n",
              "funded_amnt             0.000000\n",
              "funded_amnt_inv         0.000000\n",
              "term                    0.000000\n",
              "int_rate                0.000000\n",
              "installment             0.000000\n",
              "grade                   0.000000\n",
              "sub_grade               0.000000\n",
              "emp_length              2.707123\n",
              "home_ownership          0.000000\n",
              "annual_inc              0.000000\n",
              "verification_status     0.000000\n",
              "loan_status             0.000000\n",
              "purpose                 0.000000\n",
              "title                   0.027675\n",
              "addr_state              0.000000\n",
              "dti                     0.000000\n",
              "delinq_2yrs             0.000000\n",
              "earliest_cr_line        0.000000\n",
              "inq_last_6mths          0.000000\n",
              "open_acc                0.000000\n",
              "pub_rec                 0.000000\n",
              "revol_bal               0.000000\n",
              "revol_util              0.125796\n",
              "total_acc               0.000000\n",
              "total_pymnt             0.000000\n",
              "total_pymnt_inv         0.000000\n",
              "total_rec_prncp         0.000000\n",
              "total_rec_int           0.000000\n",
              "total_rec_late_fee      0.000000\n",
              "last_pymnt_amnt         0.000000\n",
              "last_credit_pull_d      0.005032\n",
              "pub_rec_bankruptcies    1.753591\n",
              "dtype: float64"
            ]
          },
          "metadata": {},
          "execution_count": 26
        }
      ]
    },
    {
      "cell_type": "markdown",
      "source": [
        "We have 4 columns with missing values: 2 with last_credit_pull_d, 10 with title, 50 with revol_util and 697 with pub_rec_bankruptcies and emp_length. Instead of removing the columns as we did earlier, we will remove the rows.\n",
        "\n",
        "Since here, in these columns, the percentage of missing values is less than 5%, so we can simple drop the rows."
      ],
      "metadata": {
        "id": "30nmhqTN9f1Y"
      }
    },
    {
      "cell_type": "code",
      "source": [
        "df5.shape"
      ],
      "metadata": {
        "colab": {
          "base_uri": "https://localhost:8080/"
        },
        "id": "DvzPt8z6_fFs",
        "outputId": "50337fbf-4759-4387-bcc2-48d7769fea69"
      },
      "execution_count": null,
      "outputs": [
        {
          "output_type": "execute_result",
          "data": {
            "text/plain": [
              "(39747, 33)"
            ]
          },
          "metadata": {},
          "execution_count": 27
        }
      ]
    },
    {
      "cell_type": "code",
      "source": [
        "df6 = df5.copy()\n",
        "df7 = df6.dropna(axis=0)\n",
        "\n",
        "df7.shape"
      ],
      "metadata": {
        "colab": {
          "base_uri": "https://localhost:8080/"
        },
        "id": "iyfMTkzZ9fek",
        "outputId": "79d59b2c-b675-4325-94c7-9bf4a342bf31"
      },
      "execution_count": null,
      "outputs": [
        {
          "output_type": "execute_result",
          "data": {
            "text/plain": [
              "(37916, 33)"
            ]
          },
          "metadata": {},
          "execution_count": 28
        }
      ]
    },
    {
      "cell_type": "markdown",
      "source": [
        "# Exploratory Data Analysis"
      ],
      "metadata": {
        "id": "yNIMhrY41QlQ"
      }
    },
    {
      "cell_type": "code",
      "source": [
        "numeric_cols=df7.select_dtypes('float64').columns\n",
        "numeric_cols"
      ],
      "metadata": {
        "id": "AaKtG8j11U1t",
        "colab": {
          "base_uri": "https://localhost:8080/"
        },
        "outputId": "e45acfab-390d-43e2-d8cc-a96a21e5adcc"
      },
      "execution_count": null,
      "outputs": [
        {
          "output_type": "execute_result",
          "data": {
            "text/plain": [
              "Index(['loan_amnt', 'funded_amnt', 'funded_amnt_inv', 'installment',\n",
              "       'annual_inc', 'dti', 'delinq_2yrs', 'inq_last_6mths', 'open_acc',\n",
              "       'pub_rec', 'revol_bal', 'total_acc', 'total_pymnt', 'total_pymnt_inv',\n",
              "       'total_rec_prncp', 'total_rec_int', 'total_rec_late_fee',\n",
              "       'last_pymnt_amnt', 'pub_rec_bankruptcies'],\n",
              "      dtype='object')"
            ]
          },
          "metadata": {},
          "execution_count": 29
        }
      ]
    },
    {
      "cell_type": "code",
      "source": [
        "str_cols=df7.select_dtypes('object').columns\n",
        "str_cols"
      ],
      "metadata": {
        "id": "X35vYZju1UuT",
        "colab": {
          "base_uri": "https://localhost:8080/"
        },
        "outputId": "d9ef63e2-5617-4b70-b4ef-b7e099aab67c"
      },
      "execution_count": null,
      "outputs": [
        {
          "output_type": "execute_result",
          "data": {
            "text/plain": [
              "Index(['term', 'int_rate', 'grade', 'sub_grade', 'emp_length',\n",
              "       'home_ownership', 'verification_status', 'purpose', 'title',\n",
              "       'addr_state', 'earliest_cr_line', 'revol_util', 'last_credit_pull_d'],\n",
              "      dtype='object')"
            ]
          },
          "metadata": {},
          "execution_count": 30
        }
      ]
    },
    {
      "cell_type": "code",
      "source": [
        "df7[str_cols].head(2)"
      ],
      "metadata": {
        "id": "-MlnFsAn1UpU",
        "colab": {
          "base_uri": "https://localhost:8080/",
          "height": 211
        },
        "outputId": "807b52df-c97b-4dcb-957c-126fe5ea3185"
      },
      "execution_count": null,
      "outputs": [
        {
          "output_type": "execute_result",
          "data": {
            "text/plain": [
              "         term int_rate grade sub_grade emp_length home_ownership  \\\n",
              "0   36 months   10.65%     B        B2  10+ years           RENT   \n",
              "1   60 months   15.27%     C        C4   < 1 year           RENT   \n",
              "\n",
              "  verification_status      purpose     title addr_state earliest_cr_line  \\\n",
              "0            Verified  credit_card  Computer         AZ         Jan-1985   \n",
              "1     Source Verified          car      bike         GA         Apr-1999   \n",
              "\n",
              "  revol_util last_credit_pull_d  \n",
              "0      83.7%           Dec-2016  \n",
              "1       9.4%           Oct-2016  "
            ],
            "text/html": [
              "\n",
              "  <div id=\"df-01064b0d-02b8-4ec2-924b-965b5e5cd1b6\">\n",
              "    <div class=\"colab-df-container\">\n",
              "      <div>\n",
              "<style scoped>\n",
              "    .dataframe tbody tr th:only-of-type {\n",
              "        vertical-align: middle;\n",
              "    }\n",
              "\n",
              "    .dataframe tbody tr th {\n",
              "        vertical-align: top;\n",
              "    }\n",
              "\n",
              "    .dataframe thead th {\n",
              "        text-align: right;\n",
              "    }\n",
              "</style>\n",
              "<table border=\"1\" class=\"dataframe\">\n",
              "  <thead>\n",
              "    <tr style=\"text-align: right;\">\n",
              "      <th></th>\n",
              "      <th>term</th>\n",
              "      <th>int_rate</th>\n",
              "      <th>grade</th>\n",
              "      <th>sub_grade</th>\n",
              "      <th>emp_length</th>\n",
              "      <th>home_ownership</th>\n",
              "      <th>verification_status</th>\n",
              "      <th>purpose</th>\n",
              "      <th>title</th>\n",
              "      <th>addr_state</th>\n",
              "      <th>earliest_cr_line</th>\n",
              "      <th>revol_util</th>\n",
              "      <th>last_credit_pull_d</th>\n",
              "    </tr>\n",
              "  </thead>\n",
              "  <tbody>\n",
              "    <tr>\n",
              "      <th>0</th>\n",
              "      <td>36 months</td>\n",
              "      <td>10.65%</td>\n",
              "      <td>B</td>\n",
              "      <td>B2</td>\n",
              "      <td>10+ years</td>\n",
              "      <td>RENT</td>\n",
              "      <td>Verified</td>\n",
              "      <td>credit_card</td>\n",
              "      <td>Computer</td>\n",
              "      <td>AZ</td>\n",
              "      <td>Jan-1985</td>\n",
              "      <td>83.7%</td>\n",
              "      <td>Dec-2016</td>\n",
              "    </tr>\n",
              "    <tr>\n",
              "      <th>1</th>\n",
              "      <td>60 months</td>\n",
              "      <td>15.27%</td>\n",
              "      <td>C</td>\n",
              "      <td>C4</td>\n",
              "      <td>&lt; 1 year</td>\n",
              "      <td>RENT</td>\n",
              "      <td>Source Verified</td>\n",
              "      <td>car</td>\n",
              "      <td>bike</td>\n",
              "      <td>GA</td>\n",
              "      <td>Apr-1999</td>\n",
              "      <td>9.4%</td>\n",
              "      <td>Oct-2016</td>\n",
              "    </tr>\n",
              "  </tbody>\n",
              "</table>\n",
              "</div>\n",
              "      <button class=\"colab-df-convert\" onclick=\"convertToInteractive('df-01064b0d-02b8-4ec2-924b-965b5e5cd1b6')\"\n",
              "              title=\"Convert this dataframe to an interactive table.\"\n",
              "              style=\"display:none;\">\n",
              "        \n",
              "  <svg xmlns=\"http://www.w3.org/2000/svg\" height=\"24px\"viewBox=\"0 0 24 24\"\n",
              "       width=\"24px\">\n",
              "    <path d=\"M0 0h24v24H0V0z\" fill=\"none\"/>\n",
              "    <path d=\"M18.56 5.44l.94 2.06.94-2.06 2.06-.94-2.06-.94-.94-2.06-.94 2.06-2.06.94zm-11 1L8.5 8.5l.94-2.06 2.06-.94-2.06-.94L8.5 2.5l-.94 2.06-2.06.94zm10 10l.94 2.06.94-2.06 2.06-.94-2.06-.94-.94-2.06-.94 2.06-2.06.94z\"/><path d=\"M17.41 7.96l-1.37-1.37c-.4-.4-.92-.59-1.43-.59-.52 0-1.04.2-1.43.59L10.3 9.45l-7.72 7.72c-.78.78-.78 2.05 0 2.83L4 21.41c.39.39.9.59 1.41.59.51 0 1.02-.2 1.41-.59l7.78-7.78 2.81-2.81c.8-.78.8-2.07 0-2.86zM5.41 20L4 18.59l7.72-7.72 1.47 1.35L5.41 20z\"/>\n",
              "  </svg>\n",
              "      </button>\n",
              "      \n",
              "  <style>\n",
              "    .colab-df-container {\n",
              "      display:flex;\n",
              "      flex-wrap:wrap;\n",
              "      gap: 12px;\n",
              "    }\n",
              "\n",
              "    .colab-df-convert {\n",
              "      background-color: #E8F0FE;\n",
              "      border: none;\n",
              "      border-radius: 50%;\n",
              "      cursor: pointer;\n",
              "      display: none;\n",
              "      fill: #1967D2;\n",
              "      height: 32px;\n",
              "      padding: 0 0 0 0;\n",
              "      width: 32px;\n",
              "    }\n",
              "\n",
              "    .colab-df-convert:hover {\n",
              "      background-color: #E2EBFA;\n",
              "      box-shadow: 0px 1px 2px rgba(60, 64, 67, 0.3), 0px 1px 3px 1px rgba(60, 64, 67, 0.15);\n",
              "      fill: #174EA6;\n",
              "    }\n",
              "\n",
              "    [theme=dark] .colab-df-convert {\n",
              "      background-color: #3B4455;\n",
              "      fill: #D2E3FC;\n",
              "    }\n",
              "\n",
              "    [theme=dark] .colab-df-convert:hover {\n",
              "      background-color: #434B5C;\n",
              "      box-shadow: 0px 1px 3px 1px rgba(0, 0, 0, 0.15);\n",
              "      filter: drop-shadow(0px 1px 2px rgba(0, 0, 0, 0.3));\n",
              "      fill: #FFFFFF;\n",
              "    }\n",
              "  </style>\n",
              "\n",
              "      <script>\n",
              "        const buttonEl =\n",
              "          document.querySelector('#df-01064b0d-02b8-4ec2-924b-965b5e5cd1b6 button.colab-df-convert');\n",
              "        buttonEl.style.display =\n",
              "          google.colab.kernel.accessAllowed ? 'block' : 'none';\n",
              "\n",
              "        async function convertToInteractive(key) {\n",
              "          const element = document.querySelector('#df-01064b0d-02b8-4ec2-924b-965b5e5cd1b6');\n",
              "          const dataTable =\n",
              "            await google.colab.kernel.invokeFunction('convertToInteractive',\n",
              "                                                     [key], {});\n",
              "          if (!dataTable) return;\n",
              "\n",
              "          const docLinkHtml = 'Like what you see? Visit the ' +\n",
              "            '<a target=\"_blank\" href=https://colab.research.google.com/notebooks/data_table.ipynb>data table notebook</a>'\n",
              "            + ' to learn more about interactive tables.';\n",
              "          element.innerHTML = '';\n",
              "          dataTable['output_type'] = 'display_data';\n",
              "          await google.colab.output.renderOutput(dataTable, element);\n",
              "          const docLink = document.createElement('div');\n",
              "          docLink.innerHTML = docLinkHtml;\n",
              "          element.appendChild(docLink);\n",
              "        }\n",
              "      </script>\n",
              "    </div>\n",
              "  </div>\n",
              "  "
            ]
          },
          "metadata": {},
          "execution_count": 31
        }
      ]
    },
    {
      "cell_type": "code",
      "source": [
        "df7[\"int_rate\"] = df7[\"int_rate\"].str.rstrip(\"%\").astype(\"float\")\n",
        "df7[\"revol_util\"] = df7[\"revol_util\"].str.rstrip(\"%\").astype(\"float\")"
      ],
      "metadata": {
        "id": "BSa0-bQW1UjY"
      },
      "execution_count": null,
      "outputs": []
    },
    {
      "cell_type": "code",
      "source": [
        "sns.countplot(data = df7, x = 'term', hue = 'loan_status')\n",
        "sns.set(rc={'figure.figsize':(13,10)})\n"
      ],
      "metadata": {
        "id": "LdoIBpTm1Ubc",
        "colab": {
          "base_uri": "https://localhost:8080/",
          "height": 279
        },
        "outputId": "690dfd9e-2d75-4f72-ff9a-47d5bd844ac2"
      },
      "execution_count": null,
      "outputs": [
        {
          "output_type": "display_data",
          "data": {
            "text/plain": [
              "<Figure size 432x288 with 1 Axes>"
            ],
            "image/png": "[encoded data removed]"
          },
          "metadata": {
            "needs_background": "light"
          }
        }
      ]
    },
    {
      "cell_type": "markdown",
      "source": [
        "The variable *'term'* stands for The number of payments on the loan.\n"
      ],
      "metadata": {
        "id": "uNILLKjaa6vK"
      }
    },
    {
      "cell_type": "code",
      "source": [
        "df7['emp_length'].value_counts()"
      ],
      "metadata": {
        "id": "dBOR2fZG1UXU",
        "colab": {
          "base_uri": "https://localhost:8080/"
        },
        "outputId": "0135b968-fa98-472f-ef5e-f1f6a0c77466"
      },
      "execution_count": null,
      "outputs": [
        {
          "output_type": "execute_result",
          "data": {
            "text/plain": [
              "10+ years    8767\n",
              "< 1 year     4407\n",
              "2 years      4303\n",
              "3 years      4029\n",
              "4 years      3384\n",
              "5 years      3246\n",
              "1 year       3144\n",
              "6 years      2192\n",
              "7 years      1748\n",
              "8 years      1455\n",
              "9 years      1241\n",
              "Name: emp_length, dtype: int64"
            ]
          },
          "metadata": {},
          "execution_count": 34
        }
      ]
    },
    {
      "cell_type": "code",
      "source": [
        "sns.countplot(data = df7, x = 'emp_length', hue = 'loan_status')\n",
        "sns.set(rc={'figure.figsize':(13,10)})"
      ],
      "metadata": {
        "colab": {
          "base_uri": "https://localhost:8080/",
          "height": 611
        },
        "id": "qVx0W4kDb-Qu",
        "outputId": "05491851-167d-49c9-e822-395d4f80f00d"
      },
      "execution_count": null,
      "outputs": [
        {
          "output_type": "display_data",
          "data": {
            "text/plain": [
              "<Figure size 936x720 with 1 Axes>"
            ],
            "image/png": "[encoded data removed]"
          },
          "metadata": {}
        }
      ]
    },
    {
      "cell_type": "markdown",
      "source": [
        "From the above graph, we can clearly see that employees having 10+ years of experience tend to pay off their loan more. "
      ],
      "metadata": {
        "id": "am6fJqVzePKL"
      }
    },
    {
      "cell_type": "code",
      "source": [
        "sns.countplot(data = df7, x = 'home_ownership', hue = 'loan_status')\n",
        "sns.set(rc={'figure.figsize':(13,10)})"
      ],
      "metadata": {
        "id": "JQogf47D1UPS",
        "colab": {
          "base_uri": "https://localhost:8080/",
          "height": 611
        },
        "outputId": "8460b13b-775c-4d39-9ba1-2697014e9c4e"
      },
      "execution_count": null,
      "outputs": [
        {
          "output_type": "display_data",
          "data": {
            "text/plain": [
              "<Figure size 936x720 with 1 Axes>"
            ],
            "image/png": "[encoded data removed]"
          },
          "metadata": {}
        }
      ]
    },
    {
      "cell_type": "markdown",
      "source": [
        "NOTE: RENT category has more \"Fully Paid\" borrowers."
      ],
      "metadata": {
        "id": "arx2QIifYLiv"
      }
    },
    {
      "cell_type": "code",
      "source": [
        "df7.purpose.unique()"
      ],
      "metadata": {
        "colab": {
          "base_uri": "https://localhost:8080/"
        },
        "id": "6FTF9FynYfh_",
        "outputId": "c72aa074-550c-48b4-d08e-b4865cf3281d"
      },
      "execution_count": null,
      "outputs": [
        {
          "output_type": "execute_result",
          "data": {
            "text/plain": [
              "array(['credit_card', 'car', 'small_business', 'other', 'wedding',\n",
              "       'debt_consolidation', 'home_improvement', 'major_purchase',\n",
              "       'medical', 'moving', 'vacation', 'house', 'renewable_energy',\n",
              "       'educational'], dtype=object)"
            ]
          },
          "metadata": {},
          "execution_count": 37
        }
      ]
    },
    {
      "cell_type": "code",
      "source": [
        "sns.countplot(data = df7, x = 'purpose', hue = 'loan_status')\n",
        "sns.set(rc={'figure.figsize':(25,18)})"
      ],
      "metadata": {
        "id": "pLalungO1T_l",
        "colab": {
          "base_uri": "https://localhost:8080/",
          "height": 613
        },
        "outputId": "c4eb127b-8f2b-421e-de11-99989f782df1"
      },
      "execution_count": null,
      "outputs": [
        {
          "output_type": "display_data",
          "data": {
            "text/plain": [
              "<Figure size 936x720 with 1 Axes>"
            ],
            "image/png": "[encoded data removed]"
          },
          "metadata": {}
        }
      ]
    },
    {
      "cell_type": "markdown",
      "source": [
        "NOTE: When the purpose of loan is debt consolidation, both fully paid and charged off numbers are the highest."
      ],
      "metadata": {
        "id": "q4Lwi25NYt8C"
      }
    },
    {
      "cell_type": "code",
      "source": [
        "numeric_cols=df7.select_dtypes('float64').columns\n",
        "numeric_cols"
      ],
      "metadata": {
        "colab": {
          "base_uri": "https://localhost:8080/"
        },
        "id": "UHMJHCa05TIp",
        "outputId": "26c2507e-dd4c-4d15-ce54-0d6951261c53"
      },
      "execution_count": null,
      "outputs": [
        {
          "output_type": "execute_result",
          "data": {
            "text/plain": [
              "Index(['loan_amnt', 'funded_amnt', 'funded_amnt_inv', 'int_rate',\n",
              "       'installment', 'annual_inc', 'dti', 'delinq_2yrs', 'inq_last_6mths',\n",
              "       'open_acc', 'pub_rec', 'revol_bal', 'revol_util', 'total_acc',\n",
              "       'total_pymnt', 'total_pymnt_inv', 'total_rec_prncp', 'total_rec_int',\n",
              "       'total_rec_late_fee', 'last_pymnt_amnt', 'pub_rec_bankruptcies'],\n",
              "      dtype='object')"
            ]
          },
          "metadata": {},
          "execution_count": 39
        }
      ]
    },
    {
      "cell_type": "markdown",
      "source": [
        "We will choose 4 variables at a time, and check thier distribution individually, to know more about them on an univariate level."
      ],
      "metadata": {
        "id": "B1kS3zevLqJ2"
      }
    },
    {
      "cell_type": "code",
      "source": [
        "fig, axes = plt.subplots(nrows=1, ncols=4, figsize=(15,4))\n",
        "sns.boxplot(x = 'loan_amnt', data=df7, ax=axes[0])\n",
        "sns.boxplot(x='installment', data=df7, ax=axes[1])\n",
        "sns.boxplot(x = 'annual_inc', data=df7, ax=axes[2])\n",
        "sns.boxplot(x='dti', data=df7, ax=axes[3])"
      ],
      "metadata": {
        "colab": {
          "base_uri": "https://localhost:8080/",
          "height": 302
        },
        "id": "TGEXKWEx61sG",
        "outputId": "d6eed07e-d1b9-4304-e081-508715f94040"
      },
      "execution_count": null,
      "outputs": [
        {
          "output_type": "execute_result",
          "data": {
            "text/plain": [
              "<matplotlib.axes._subplots.AxesSubplot at 0x7f085985d750>"
            ]
          },
          "metadata": {},
          "execution_count": 40
        },
        {
          "output_type": "display_data",
          "data": {
            "text/plain": [
              "<Figure size 1080x288 with 4 Axes>"
            ],
            "image/png": "[encoded data removed]"
          },
          "metadata": {}
        }
      ]
    },
    {
      "cell_type": "markdown",
      "source": [
        "Although we can see several outliers in *annual_inc*, which means the self-reported annual income provided by the borrower during registration, \n",
        "the outliers can be high-end customers, whom we don't want to exclude, hence we are not excluding the outliers here.\n",
        "\n",
        "Similar logic is applied on *loan_amnt*, and *installment* variables"
      ],
      "metadata": {
        "id": "GV-l769P_aaY"
      }
    },
    {
      "cell_type": "code",
      "source": [
        "fig, axes = plt.subplots(nrows=1, ncols=4, figsize=(15,4))\n",
        "sns.boxplot(x = 'delinq_2yrs', data=df7, ax=axes[0])\n",
        "sns.boxplot(x='inq_last_6mths', data=df7, ax=axes[1])\n",
        "sns.boxplot(x = 'open_acc', data=df7, ax=axes[2])\n",
        "sns.boxplot(x='pub_rec', data=df7, ax=axes[3])"
      ],
      "metadata": {
        "colab": {
          "base_uri": "https://localhost:8080/",
          "height": 302
        },
        "id": "GfWbzYti-DUW",
        "outputId": "6e44bcf8-c51f-4daf-f4f8-18dc1337c5dc"
      },
      "execution_count": null,
      "outputs": [
        {
          "output_type": "execute_result",
          "data": {
            "text/plain": [
              "<matplotlib.axes._subplots.AxesSubplot at 0x7f085999d990>"
            ]
          },
          "metadata": {},
          "execution_count": 41
        },
        {
          "output_type": "display_data",
          "data": {
            "text/plain": [
              "<Figure size 1080x288 with 4 Axes>"
            ],
            "image/png": "[encoded data removed]"
          },
          "metadata": {}
        }
      ]
    },
    {
      "cell_type": "markdown",
      "source": [
        "*delinq_2yrs* stands for the number of 30+ days past-due incidences of delinquency in the borrower's credit file for the past 2 years. \n",
        "\n",
        "*inq_last_6mnths* stands for the number of inquiries in past 6 months. \n",
        "\n",
        "*open_acc* means the number of open credit lines in the borrower's credit file.\n",
        "\n",
        "*pub_req* means number of derogatory public records.\n",
        "\n",
        "Now, we can remove the outliers for these variables, since they are some extreme cases, in some cases might be misreported."
      ],
      "metadata": {
        "id": "SwoLRchMATn4"
      }
    },
    {
      "cell_type": "code",
      "source": [
        "col = ['delinq_2yrs','inq_last_6mths', 'open_acc', 'pub_rec']\n",
        "\n",
        "df7 = outlier_removal(df7,df7[col], limit = 3)\n",
        "\n",
        "df7.shape"
      ],
      "metadata": {
        "colab": {
          "base_uri": "https://localhost:8080/"
        },
        "id": "Ys3XUv5r_Pmx",
        "outputId": "dd9cdc4e-2d25-4dd7-f314-ac18f34d90c4"
      },
      "execution_count": null,
      "outputs": [
        {
          "output_type": "execute_result",
          "data": {
            "text/plain": [
              "(33808, 33)"
            ]
          },
          "metadata": {},
          "execution_count": 42
        }
      ]
    },
    {
      "cell_type": "code",
      "source": [
        "fig, axes = plt.subplots(nrows=1, ncols=4, figsize=(15,4))\n",
        "sns.boxplot(x = 'revol_bal', data=df7, ax=axes[0])\n",
        "sns.boxplot(x='total_acc', data=df7, ax=axes[1])\n",
        "sns.boxplot(x = 'total_pymnt', data=df7, ax=axes[2])\n",
        "sns.boxplot(x='total_pymnt_inv', data=df7, ax=axes[3])"
      ],
      "metadata": {
        "colab": {
          "base_uri": "https://localhost:8080/",
          "height": 302
        },
        "id": "s7Besa5D5cQJ",
        "outputId": "e9b37705-4ede-45ad-96b2-a9e2fde7f01e"
      },
      "execution_count": null,
      "outputs": [
        {
          "output_type": "execute_result",
          "data": {
            "text/plain": [
              "<matplotlib.axes._subplots.AxesSubplot at 0x7f0859786490>"
            ]
          },
          "metadata": {},
          "execution_count": 43
        },
        {
          "output_type": "display_data",
          "data": {
            "text/plain": [
              "<Figure size 1080x288 with 4 Axes>"
            ],
            "image/png": "[encoded data removed]"
          },
          "metadata": {}
        }
      ]
    },
    {
      "cell_type": "markdown",
      "source": [
        "*revol_bal* means Total credit revolving balance\n",
        "\n",
        "*total_acc* stands for the total number of credit lines currently in the borrower's credit file.\n",
        "\n",
        "*total_pymnt* means Payments received to date for total amount funded\n",
        "\n",
        "*total_pymnt_inv* stands for Payments received to date for portion of total amount funded by investors.\n",
        "\n",
        "Although there are some outliers, we will not remove any, since they are payment variables, and higher payment can mean high-end customers."
      ],
      "metadata": {
        "id": "gPrHJ9h09zat"
      }
    },
    {
      "cell_type": "code",
      "source": [
        "fig, axes = plt.subplots(nrows=1, ncols=5, figsize=(15,4))\n",
        "sns.boxplot(x = 'total_rec_int', data=df7, ax=axes[0])\n",
        "sns.boxplot(x='total_rec_late_fee', data=df7, ax=axes[1])\n",
        "sns.boxplot(x='total_rec_prncp', data=df7, ax=axes[2])\n",
        "sns.boxplot(x='last_pymnt_amnt', data=df7, ax=axes[3])\n",
        "sns.boxplot(x='pub_rec_bankruptcies', data=df7, ax=axes[4])"
      ],
      "metadata": {
        "colab": {
          "base_uri": "https://localhost:8080/",
          "height": 302
        },
        "id": "zEkexgCTDGpO",
        "outputId": "2ed33592-2ad1-4993-b233-aa9745c8156a"
      },
      "execution_count": null,
      "outputs": [
        {
          "output_type": "execute_result",
          "data": {
            "text/plain": [
              "<matplotlib.axes._subplots.AxesSubplot at 0x7f08595af990>"
            ]
          },
          "metadata": {},
          "execution_count": 44
        },
        {
          "output_type": "display_data",
          "data": {
            "text/plain": [
              "<Figure size 1080x288 with 5 Axes>"
            ],
            "image/png": "[encoded data removed]"
          },
          "metadata": {}
        }
      ]
    },
    {
      "cell_type": "markdown",
      "source": [
        "*total_rec_late_fee* stands for Late fees received to date. \n",
        "\n",
        "*total_rec_int* means Interest received to date. \n",
        "\n",
        "*total_rec_prncp* : Principal received to date\n",
        "\n",
        "*last_pymnt_amnt*: Last total payment amount received\n",
        "\n",
        "*pub_rec_bankruptcies*: Number of public record bankruptcies\n",
        "\n",
        "We will again not remove the outliers from *total_rec_late_fee*, since it can help us identify the Charged off cases.\n",
        "\n"
      ],
      "metadata": {
        "id": "-WZo8dejDdGk"
      }
    },
    {
      "cell_type": "code",
      "source": [
        "col = ['pub_rec_bankruptcies']\n",
        "\n",
        "df7 = outlier_removal(df7,df7[col], limit = 3)\n",
        "\n",
        "df7.shape"
      ],
      "metadata": {
        "colab": {
          "base_uri": "https://localhost:8080/"
        },
        "id": "E26tpuJiqEEA",
        "outputId": "01d33a61-a12d-41af-a1c9-8b2ed07b8fdc"
      },
      "execution_count": null,
      "outputs": [
        {
          "output_type": "execute_result",
          "data": {
            "text/plain": [
              "(32408, 33)"
            ]
          },
          "metadata": {},
          "execution_count": 45
        }
      ]
    },
    {
      "cell_type": "markdown",
      "source": [
        "#### Handling Categorical Variables"
      ],
      "metadata": {
        "id": "LBWWzp3lBGGs"
      }
    },
    {
      "cell_type": "code",
      "source": [
        "print(df7.dtypes.value_counts())"
      ],
      "metadata": {
        "colab": {
          "base_uri": "https://localhost:8080/"
        },
        "id": "TnAkGEbX85No",
        "outputId": "daeae040-0406-40e3-eaff-1d7bb9662bb5"
      },
      "execution_count": null,
      "outputs": [
        {
          "output_type": "stream",
          "name": "stdout",
          "text": [
            "float64    21\n",
            "object     11\n",
            "int64       1\n",
            "dtype: int64\n"
          ]
        }
      ]
    },
    {
      "cell_type": "code",
      "source": [
        "obj_cols = df7.select_dtypes(include=[\"object\"]).columns\n",
        "obj_cols"
      ],
      "metadata": {
        "colab": {
          "base_uri": "https://localhost:8080/"
        },
        "id": "V_vNOh6s9OKt",
        "outputId": "702614d9-0589-4837-fc26-d98884ddf052"
      },
      "execution_count": null,
      "outputs": [
        {
          "output_type": "execute_result",
          "data": {
            "text/plain": [
              "Index(['term', 'grade', 'sub_grade', 'emp_length', 'home_ownership',\n",
              "       'verification_status', 'purpose', 'title', 'addr_state',\n",
              "       'earliest_cr_line', 'last_credit_pull_d'],\n",
              "      dtype='object')"
            ]
          },
          "metadata": {},
          "execution_count": 47
        }
      ]
    },
    {
      "cell_type": "code",
      "source": [
        "for col in obj_cols:\n",
        "  print(df7[col].value_counts())"
      ],
      "metadata": {
        "colab": {
          "base_uri": "https://localhost:8080/"
        },
        "id": "M_SgXtrND9dz",
        "outputId": "77436381-cd29-457c-b44f-48d4bdfb85c5"
      },
      "execution_count": null,
      "outputs": [
        {
          "output_type": "stream",
          "name": "stdout",
          "text": [
            " 36 months    23616\n",
            " 60 months     8792\n",
            "Name: term, dtype: int64\n",
            "B    9981\n",
            "A    9074\n",
            "C    6308\n",
            "D    3954\n",
            "E    2142\n",
            "F     734\n",
            "G     215\n",
            "Name: grade, dtype: int64\n",
            "A4    2604\n",
            "A5    2443\n",
            "B3    2443\n",
            "B5    2195\n",
            "B4    2071\n",
            "B2    1728\n",
            "C1    1688\n",
            "A3    1636\n",
            "C2    1615\n",
            "B1    1544\n",
            "A2    1366\n",
            "C3    1191\n",
            "A1    1025\n",
            "D2    1006\n",
            "C4     942\n",
            "C5     872\n",
            "D3     870\n",
            "D4     741\n",
            "D5     672\n",
            "D1     665\n",
            "E1     603\n",
            "E2     485\n",
            "E3     407\n",
            "E4     335\n",
            "E5     312\n",
            "F1     231\n",
            "F2     186\n",
            "F3     129\n",
            "F4     110\n",
            "F5      78\n",
            "G1      69\n",
            "G2      51\n",
            "G4      41\n",
            "G3      29\n",
            "G5      25\n",
            "Name: sub_grade, dtype: int64\n",
            "10+ years    7240\n",
            "< 1 year     3859\n",
            "2 years      3727\n",
            "3 years      3491\n",
            "4 years      2952\n",
            "5 years      2843\n",
            "1 year       2679\n",
            "6 years      1885\n",
            "7 years      1475\n",
            "8 years      1203\n",
            "9 years      1054\n",
            "Name: emp_length, dtype: int64\n",
            "RENT        15665\n",
            "MORTGAGE    14299\n",
            "OWN          2371\n",
            "OTHER          73\n",
            "Name: home_ownership, dtype: int64\n",
            "Not Verified       13494\n",
            "Verified           10579\n",
            "Source Verified     8335\n",
            "Name: verification_status, dtype: int64\n",
            "debt_consolidation    15372\n",
            "credit_card            4301\n",
            "other                  3154\n",
            "home_improvement       2364\n",
            "major_purchase         1796\n",
            "small_business         1438\n",
            "car                    1263\n",
            "wedding                 788\n",
            "medical                 545\n",
            "moving                  470\n",
            "house                   305\n",
            "vacation                279\n",
            "educational             252\n",
            "renewable_energy         81\n",
            "Name: purpose, dtype: int64\n",
            "Debt Consolidation             1825\n",
            "Debt Consolidation Loan        1436\n",
            "Personal Loan                   537\n",
            "Consolidation                   422\n",
            "debt consolidation              412\n",
            "                               ... \n",
            "Market Bamboo Furniture           1\n",
            "Clare's Motorcycle!!!             1\n",
            "CREDIT CARD                       1\n",
            "Big Dog Motorcycle                1\n",
            "Operation Freedom From Debt       1\n",
            "Name: title, Length: 16233, dtype: int64\n",
            "CA    5833\n",
            "NY    3124\n",
            "FL    2357\n",
            "TX    2285\n",
            "NJ    1570\n",
            "PA    1275\n",
            "IL    1259\n",
            "VA    1148\n",
            "GA    1132\n",
            "MA    1091\n",
            "OH     970\n",
            "MD     836\n",
            "AZ     667\n",
            "WA     666\n",
            "CO     642\n",
            "CT     614\n",
            "NC     605\n",
            "MI     590\n",
            "MO     547\n",
            "MN     495\n",
            "NV     402\n",
            "SC     387\n",
            "WI     371\n",
            "OR     364\n",
            "LA     354\n",
            "AL     346\n",
            "KY     272\n",
            "OK     252\n",
            "KS     223\n",
            "UT     210\n",
            "AR     195\n",
            "DC     193\n",
            "RI     162\n",
            "NM     152\n",
            "WV     143\n",
            "HI     141\n",
            "NH     133\n",
            "DE      89\n",
            "MT      66\n",
            "AK      64\n",
            "WY      62\n",
            "SD      52\n",
            "VT      43\n",
            "MS      14\n",
            "TN       8\n",
            "ID       3\n",
            "IA       1\n",
            "Name: addr_state, dtype: int64\n",
            "Oct-1999    313\n",
            "Nov-1998    301\n",
            "Oct-2000    285\n",
            "Nov-2000    278\n",
            "Dec-1998    276\n",
            "           ... \n",
            "Dec-1950      1\n",
            "Jan-1946      1\n",
            "Feb-1970      1\n",
            "Sep-1963      1\n",
            "May-1972      1\n",
            "Name: earliest_cr_line, Length: 507, dtype: int64\n",
            "Dec-2016    8641\n",
            "Oct-2016    3656\n",
            "Nov-2016     696\n",
            "Mar-2016     623\n",
            "Feb-2013     549\n",
            "            ... \n",
            "Sep-2008       3\n",
            "Mar-2008       3\n",
            "Dec-2008       2\n",
            "Aug-2008       2\n",
            "May-2008       1\n",
            "Name: last_credit_pull_d, Length: 103, dtype: int64\n"
          ]
        }
      ]
    },
    {
      "cell_type": "markdown",
      "source": [
        "**NOTE -** \n",
        "1. We will remove the addr_state because if we were to encode all these variables, we would make our dataframe quite large and would slow the computation done by our machine learning algorithm.\n",
        "\n",
        "2. We will keep Purpose Column and remove Title, since, both of the columns have same information, where title containing a lot of the same just under a different form\n",
        "\n",
        "3. *earliest_cr_line*: The month the borrower's earliest reported credit line was opened\n",
        "\n",
        "and *last_credit_pull_d*: The most recent month LC pulled credit for this loan;\n",
        "\n",
        "can be dropped since they will not help us much.\n",
        "\n",
        "4. We will encode the variable emp_length"
      ],
      "metadata": {
        "id": "LzipGHTUHVLw"
      }
    },
    {
      "cell_type": "code",
      "source": [
        "df7['emp_length'].value_counts()"
      ],
      "metadata": {
        "colab": {
          "base_uri": "https://localhost:8080/"
        },
        "id": "SgJhzFwVagbD",
        "outputId": "e19bfa40-6680-441d-aeaa-982c65235bc3"
      },
      "execution_count": null,
      "outputs": [
        {
          "output_type": "execute_result",
          "data": {
            "text/plain": [
              "10+ years    7240\n",
              "< 1 year     3859\n",
              "2 years      3727\n",
              "3 years      3491\n",
              "4 years      2952\n",
              "5 years      2843\n",
              "1 year       2679\n",
              "6 years      1885\n",
              "7 years      1475\n",
              "8 years      1203\n",
              "9 years      1054\n",
              "Name: emp_length, dtype: int64"
            ]
          },
          "metadata": {},
          "execution_count": 49
        }
      ]
    },
    {
      "cell_type": "code",
      "source": [
        "map_emp_lngth = {\n",
        "    \"emp_length\": {\n",
        "        \"10+ years\": 10,\n",
        "        \"9 years\": 9,\n",
        "        \"8 years\": 8,\n",
        "        \"7 years\": 7,\n",
        "        \"6 years\": 6,\n",
        "        \"5 years\": 5,\n",
        "        \"4 years\": 4,\n",
        "        \"3 years\": 3,\n",
        "        \"2 years\": 2,\n",
        "        \"1 year\": 1,\n",
        "        \"< 1 year\": 0}\n",
        "}\n",
        "df8 = df7.drop([\"last_credit_pull_d\", \"earliest_cr_line\", \"addr_state\", \"title\"], axis=1)\n",
        "df8 = df8.replace(map_emp_lngth)\n",
        "df8=df8.drop('emp_length',axis=1)"
      ],
      "metadata": {
        "id": "h_EnEn1FEBUN"
      },
      "execution_count": null,
      "outputs": []
    },
    {
      "cell_type": "code",
      "source": [
        "obj_cols = df8.select_dtypes(include=[\"object\"]).columns\n",
        "obj_cols"
      ],
      "metadata": {
        "colab": {
          "base_uri": "https://localhost:8080/"
        },
        "id": "2Y9j0A2GrTqH",
        "outputId": "25bd3298-9cc9-445e-a8c7-1f17f624169e"
      },
      "execution_count": null,
      "outputs": [
        {
          "output_type": "execute_result",
          "data": {
            "text/plain": [
              "Index(['term', 'grade', 'sub_grade', 'home_ownership', 'verification_status',\n",
              "       'purpose'],\n",
              "      dtype='object')"
            ]
          },
          "metadata": {},
          "execution_count": 51
        }
      ]
    },
    {
      "cell_type": "code",
      "source": [
        "categorical_columns = [\"home_ownership\", \"verification_status\", \"purpose\", \"term\",'grade','sub_grade']\n",
        "dummy_df = pd.get_dummies(df8[categorical_columns])\n",
        "df9 = pd.concat([df8, dummy_df], axis=1)\n",
        "df10 = df9.drop(categorical_columns, axis=1)\n",
        "\n",
        "df10.shape\n",
        "\n",
        "df10.head()"
      ],
      "metadata": {
        "colab": {
          "base_uri": "https://localhost:8080/",
          "height": 299
        },
        "id": "ntaQaWeualuw",
        "outputId": "0a881e32-1b75-44c8-acbb-b9fa99827359"
      },
      "execution_count": null,
      "outputs": [
        {
          "output_type": "execute_result",
          "data": {
            "text/plain": [
              "   loan_amnt  funded_amnt  funded_amnt_inv  int_rate  installment  annual_inc  \\\n",
              "0     5000.0       5000.0           4975.0     10.65       162.87     24000.0   \n",
              "1     2500.0       2500.0           2500.0     15.27        59.83     30000.0   \n",
              "2     2400.0       2400.0           2400.0     15.96        84.33     12252.0   \n",
              "3    10000.0      10000.0          10000.0     13.49       339.31     49200.0   \n",
              "5     5000.0       5000.0           5000.0      7.90       156.46     36000.0   \n",
              "\n",
              "   loan_status    dti  delinq_2yrs  inq_last_6mths  ...  sub_grade_F1  \\\n",
              "0            0  27.65          0.0             1.0  ...             0   \n",
              "1            1   1.00          0.0             5.0  ...             0   \n",
              "2            0   8.72          0.0             2.0  ...             0   \n",
              "3            0  20.00          0.0             1.0  ...             0   \n",
              "5            0  11.20          0.0             3.0  ...             0   \n",
              "\n",
              "   sub_grade_F2  sub_grade_F3  sub_grade_F4  sub_grade_F5  sub_grade_G1  \\\n",
              "0             0             0             0             0             0   \n",
              "1             0             0             0             0             0   \n",
              "2             0             0             0             0             0   \n",
              "3             0             0             0             0             0   \n",
              "5             0             0             0             0             0   \n",
              "\n",
              "   sub_grade_G2  sub_grade_G3  sub_grade_G4  sub_grade_G5  \n",
              "0             0             0             0             0  \n",
              "1             0             0             0             0  \n",
              "2             0             0             0             0  \n",
              "3             0             0             0             0  \n",
              "5             0             0             0             0  \n",
              "\n",
              "[5 rows x 87 columns]"
            ],
            "text/html": [
              "\n",
              "  <div id=\"df-076ec57e-2c38-421c-9295-ef5d069fe588\">\n",
              "    <div class=\"colab-df-container\">\n",
              "      <div>\n",
              "<style scoped>\n",
              "    .dataframe tbody tr th:only-of-type {\n",
              "        vertical-align: middle;\n",
              "    }\n",
              "\n",
              "    .dataframe tbody tr th {\n",
              "        vertical-align: top;\n",
              "    }\n",
              "\n",
              "    .dataframe thead th {\n",
              "        text-align: right;\n",
              "    }\n",
              "</style>\n",
              "<table border=\"1\" class=\"dataframe\">\n",
              "  <thead>\n",
              "    <tr style=\"text-align: right;\">\n",
              "      <th></th>\n",
              "      <th>loan_amnt</th>\n",
              "      <th>funded_amnt</th>\n",
              "      <th>funded_amnt_inv</th>\n",
              "      <th>int_rate</th>\n",
              "      <th>installment</th>\n",
              "      <th>annual_inc</th>\n",
              "      <th>loan_status</th>\n",
              "      <th>dti</th>\n",
              "      <th>delinq_2yrs</th>\n",
              "      <th>inq_last_6mths</th>\n",
              "      <th>...</th>\n",
              "      <th>sub_grade_F1</th>\n",
              "      <th>sub_grade_F2</th>\n",
              "      <th>sub_grade_F3</th>\n",
              "      <th>sub_grade_F4</th>\n",
              "      <th>sub_grade_F5</th>\n",
              "      <th>sub_grade_G1</th>\n",
              "      <th>sub_grade_G2</th>\n",
              "      <th>sub_grade_G3</th>\n",
              "      <th>sub_grade_G4</th>\n",
              "      <th>sub_grade_G5</th>\n",
              "    </tr>\n",
              "  </thead>\n",
              "  <tbody>\n",
              "    <tr>\n",
              "      <th>0</th>\n",
              "      <td>5000.0</td>\n",
              "      <td>5000.0</td>\n",
              "      <td>4975.0</td>\n",
              "      <td>10.65</td>\n",
              "      <td>162.87</td>\n",
              "      <td>24000.0</td>\n",
              "      <td>0</td>\n",
              "      <td>27.65</td>\n",
              "      <td>0.0</td>\n",
              "      <td>1.0</td>\n",
              "      <td>...</td>\n",
              "      <td>0</td>\n",
              "      <td>0</td>\n",
              "      <td>0</td>\n",
              "      <td>0</td>\n",
              "      <td>0</td>\n",
              "      <td>0</td>\n",
              "      <td>0</td>\n",
              "      <td>0</td>\n",
              "      <td>0</td>\n",
              "      <td>0</td>\n",
              "    </tr>\n",
              "    <tr>\n",
              "      <th>1</th>\n",
              "      <td>2500.0</td>\n",
              "      <td>2500.0</td>\n",
              "      <td>2500.0</td>\n",
              "      <td>15.27</td>\n",
              "      <td>59.83</td>\n",
              "      <td>30000.0</td>\n",
              "      <td>1</td>\n",
              "      <td>1.00</td>\n",
              "      <td>0.0</td>\n",
              "      <td>5.0</td>\n",
              "      <td>...</td>\n",
              "      <td>0</td>\n",
              "      <td>0</td>\n",
              "      <td>0</td>\n",
              "      <td>0</td>\n",
              "      <td>0</td>\n",
              "      <td>0</td>\n",
              "      <td>0</td>\n",
              "      <td>0</td>\n",
              "      <td>0</td>\n",
              "      <td>0</td>\n",
              "    </tr>\n",
              "    <tr>\n",
              "      <th>2</th>\n",
              "      <td>2400.0</td>\n",
              "      <td>2400.0</td>\n",
              "      <td>2400.0</td>\n",
              "      <td>15.96</td>\n",
              "      <td>84.33</td>\n",
              "      <td>12252.0</td>\n",
              "      <td>0</td>\n",
              "      <td>8.72</td>\n",
              "      <td>0.0</td>\n",
              "      <td>2.0</td>\n",
              "      <td>...</td>\n",
              "      <td>0</td>\n",
              "      <td>0</td>\n",
              "      <td>0</td>\n",
              "      <td>0</td>\n",
              "      <td>0</td>\n",
              "      <td>0</td>\n",
              "      <td>0</td>\n",
              "      <td>0</td>\n",
              "      <td>0</td>\n",
              "      <td>0</td>\n",
              "    </tr>\n",
              "    <tr>\n",
              "      <th>3</th>\n",
              "      <td>10000.0</td>\n",
              "      <td>10000.0</td>\n",
              "      <td>10000.0</td>\n",
              "      <td>13.49</td>\n",
              "      <td>339.31</td>\n",
              "      <td>49200.0</td>\n",
              "      <td>0</td>\n",
              "      <td>20.00</td>\n",
              "      <td>0.0</td>\n",
              "      <td>1.0</td>\n",
              "      <td>...</td>\n",
              "      <td>0</td>\n",
              "      <td>0</td>\n",
              "      <td>0</td>\n",
              "      <td>0</td>\n",
              "      <td>0</td>\n",
              "      <td>0</td>\n",
              "      <td>0</td>\n",
              "      <td>0</td>\n",
              "      <td>0</td>\n",
              "      <td>0</td>\n",
              "    </tr>\n",
              "    <tr>\n",
              "      <th>5</th>\n",
              "      <td>5000.0</td>\n",
              "      <td>5000.0</td>\n",
              "      <td>5000.0</td>\n",
              "      <td>7.90</td>\n",
              "      <td>156.46</td>\n",
              "      <td>36000.0</td>\n",
              "      <td>0</td>\n",
              "      <td>11.20</td>\n",
              "      <td>0.0</td>\n",
              "      <td>3.0</td>\n",
              "      <td>...</td>\n",
              "      <td>0</td>\n",
              "      <td>0</td>\n",
              "      <td>0</td>\n",
              "      <td>0</td>\n",
              "      <td>0</td>\n",
              "      <td>0</td>\n",
              "      <td>0</td>\n",
              "      <td>0</td>\n",
              "      <td>0</td>\n",
              "      <td>0</td>\n",
              "    </tr>\n",
              "  </tbody>\n",
              "</table>\n",
              "<p>5 rows × 87 columns</p>\n",
              "</div>\n",
              "      <button class=\"colab-df-convert\" onclick=\"convertToInteractive('df-076ec57e-2c38-421c-9295-ef5d069fe588')\"\n",
              "              title=\"Convert this dataframe to an interactive table.\"\n",
              "              style=\"display:none;\">\n",
              "        \n",
              "  <svg xmlns=\"http://www.w3.org/2000/svg\" height=\"24px\"viewBox=\"0 0 24 24\"\n",
              "       width=\"24px\">\n",
              "    <path d=\"M0 0h24v24H0V0z\" fill=\"none\"/>\n",
              "    <path d=\"M18.56 5.44l.94 2.06.94-2.06 2.06-.94-2.06-.94-.94-2.06-.94 2.06-2.06.94zm-11 1L8.5 8.5l.94-2.06 2.06-.94-2.06-.94L8.5 2.5l-.94 2.06-2.06.94zm10 10l.94 2.06.94-2.06 2.06-.94-2.06-.94-.94-2.06-.94 2.06-2.06.94z\"/><path d=\"M17.41 7.96l-1.37-1.37c-.4-.4-.92-.59-1.43-.59-.52 0-1.04.2-1.43.59L10.3 9.45l-7.72 7.72c-.78.78-.78 2.05 0 2.83L4 21.41c.39.39.9.59 1.41.59.51 0 1.02-.2 1.41-.59l7.78-7.78 2.81-2.81c.8-.78.8-2.07 0-2.86zM5.41 20L4 18.59l7.72-7.72 1.47 1.35L5.41 20z\"/>\n",
              "  </svg>\n",
              "      </button>\n",
              "      \n",
              "  <style>\n",
              "    .colab-df-container {\n",
              "      display:flex;\n",
              "      flex-wrap:wrap;\n",
              "      gap: 12px;\n",
              "    }\n",
              "\n",
              "    .colab-df-convert {\n",
              "      background-color: #E8F0FE;\n",
              "      border: none;\n",
              "      border-radius: 50%;\n",
              "      cursor: pointer;\n",
              "      display: none;\n",
              "      fill: #1967D2;\n",
              "      height: 32px;\n",
              "      padding: 0 0 0 0;\n",
              "      width: 32px;\n",
              "    }\n",
              "\n",
              "    .colab-df-convert:hover {\n",
              "      background-color: #E2EBFA;\n",
              "      box-shadow: 0px 1px 2px rgba(60, 64, 67, 0.3), 0px 1px 3px 1px rgba(60, 64, 67, 0.15);\n",
              "      fill: #174EA6;\n",
              "    }\n",
              "\n",
              "    [theme=dark] .colab-df-convert {\n",
              "      background-color: #3B4455;\n",
              "      fill: #D2E3FC;\n",
              "    }\n",
              "\n",
              "    [theme=dark] .colab-df-convert:hover {\n",
              "      background-color: #434B5C;\n",
              "      box-shadow: 0px 1px 3px 1px rgba(0, 0, 0, 0.15);\n",
              "      filter: drop-shadow(0px 1px 2px rgba(0, 0, 0, 0.3));\n",
              "      fill: #FFFFFF;\n",
              "    }\n",
              "  </style>\n",
              "\n",
              "      <script>\n",
              "        const buttonEl =\n",
              "          document.querySelector('#df-076ec57e-2c38-421c-9295-ef5d069fe588 button.colab-df-convert');\n",
              "        buttonEl.style.display =\n",
              "          google.colab.kernel.accessAllowed ? 'block' : 'none';\n",
              "\n",
              "        async function convertToInteractive(key) {\n",
              "          const element = document.querySelector('#df-076ec57e-2c38-421c-9295-ef5d069fe588');\n",
              "          const dataTable =\n",
              "            await google.colab.kernel.invokeFunction('convertToInteractive',\n",
              "                                                     [key], {});\n",
              "          if (!dataTable) return;\n",
              "\n",
              "          const docLinkHtml = 'Like what you see? Visit the ' +\n",
              "            '<a target=\"_blank\" href=https://colab.research.google.com/notebooks/data_table.ipynb>data table notebook</a>'\n",
              "            + ' to learn more about interactive tables.';\n",
              "          element.innerHTML = '';\n",
              "          dataTable['output_type'] = 'display_data';\n",
              "          await google.colab.output.renderOutput(dataTable, element);\n",
              "          const docLink = document.createElement('div');\n",
              "          docLink.innerHTML = docLinkHtml;\n",
              "          element.appendChild(docLink);\n",
              "        }\n",
              "      </script>\n",
              "    </div>\n",
              "  </div>\n",
              "  "
            ]
          },
          "metadata": {},
          "execution_count": 52
        }
      ]
    },
    {
      "cell_type": "markdown",
      "source": [
        "# Model Fitting"
      ],
      "metadata": {
        "id": "_j4gnPrJeD4E"
      }
    },
    {
      "cell_type": "code",
      "source": [
        "print(df10['loan_status'].value_counts())\n",
        "np.round(df10['loan_status'].value_counts()*100/df10.shape[0],2)"
      ],
      "metadata": {
        "colab": {
          "base_uri": "https://localhost:8080/"
        },
        "id": "Bosh9F8wbnrW",
        "outputId": "32ae21c2-091f-420e-a96e-4b39590e5664"
      },
      "execution_count": null,
      "outputs": [
        {
          "output_type": "stream",
          "name": "stdout",
          "text": [
            "0    28055\n",
            "1     4353\n",
            "Name: loan_status, dtype: int64\n"
          ]
        },
        {
          "output_type": "execute_result",
          "data": {
            "text/plain": [
              "0    86.57\n",
              "1    13.43\n",
              "Name: loan_status, dtype: float64"
            ]
          },
          "metadata": {},
          "execution_count": 53
        }
      ]
    },
    {
      "cell_type": "markdown",
      "source": [
        "Metric for comparison"
      ],
      "metadata": {
        "id": "Flva4VWkPQdj"
      }
    },
    {
      "cell_type": "markdown",
      "source": [
        "**F1 score** will be used as the performance metric for comparison.\n",
        "\n",
        "Since the data is largely imbalanced, accuracy cannot be taken into consideration as a metric for comparison between models.\n",
        "\n",
        "Both precision and recall can be used for comparison, however, since F1 score is the harmonic mean of precision and recall, so it contains the essence of both precision and recall.\n",
        "\n",
        "Formula for F1 score: (2 * precision * recall)/(precision+recall)\n",
        "\n",
        "\n",
        "Therefore, in this project, F1 score has been considered as the metric for comparison across different models."
      ],
      "metadata": {
        "id": "NwfYz8cgPrFw"
      }
    },
    {
      "cell_type": "code",
      "source": [
        "from sklearn.model_selection import train_test_split\n",
        "\n",
        "X = df10.drop(['loan_status'],axis=1)\n",
        "y = df10.loan_status\n",
        "\n",
        "print(X.columns)\n",
        "\n",
        "X_train,X_test,y_train,y_test=train_test_split(X, y, test_size= 0.25, random_state=42)\n",
        "\n",
        "print(\"X train shape\",X_train.shape)\n",
        "print(\"X test shape\",X_test.shape)\n",
        "print(\"y train shape\",y_train.shape)\n",
        "print(\"y test shape\",y_test.shape)"
      ],
      "metadata": {
        "colab": {
          "base_uri": "https://localhost:8080/"
        },
        "id": "9A5pi39phNCe",
        "outputId": "573d94ce-92a9-4010-b1d7-0a68449e1d83"
      },
      "execution_count": null,
      "outputs": [
        {
          "output_type": "stream",
          "name": "stdout",
          "text": [
            "Index(['loan_amnt', 'funded_amnt', 'funded_amnt_inv', 'int_rate',\n",
            "       'installment', 'annual_inc', 'dti', 'delinq_2yrs', 'inq_last_6mths',\n",
            "       'open_acc', 'pub_rec', 'revol_bal', 'revol_util', 'total_acc',\n",
            "       'total_pymnt', 'total_pymnt_inv', 'total_rec_prncp', 'total_rec_int',\n",
            "       'total_rec_late_fee', 'last_pymnt_amnt', 'pub_rec_bankruptcies',\n",
            "       'home_ownership_MORTGAGE', 'home_ownership_OTHER', 'home_ownership_OWN',\n",
            "       'home_ownership_RENT', 'verification_status_Not Verified',\n",
            "       'verification_status_Source Verified', 'verification_status_Verified',\n",
            "       'purpose_car', 'purpose_credit_card', 'purpose_debt_consolidation',\n",
            "       'purpose_educational', 'purpose_home_improvement', 'purpose_house',\n",
            "       'purpose_major_purchase', 'purpose_medical', 'purpose_moving',\n",
            "       'purpose_other', 'purpose_renewable_energy', 'purpose_small_business',\n",
            "       'purpose_vacation', 'purpose_wedding', 'term_ 36 months',\n",
            "       'term_ 60 months', 'grade_A', 'grade_B', 'grade_C', 'grade_D',\n",
            "       'grade_E', 'grade_F', 'grade_G', 'sub_grade_A1', 'sub_grade_A2',\n",
            "       'sub_grade_A3', 'sub_grade_A4', 'sub_grade_A5', 'sub_grade_B1',\n",
            "       'sub_grade_B2', 'sub_grade_B3', 'sub_grade_B4', 'sub_grade_B5',\n",
            "       'sub_grade_C1', 'sub_grade_C2', 'sub_grade_C3', 'sub_grade_C4',\n",
            "       'sub_grade_C5', 'sub_grade_D1', 'sub_grade_D2', 'sub_grade_D3',\n",
            "       'sub_grade_D4', 'sub_grade_D5', 'sub_grade_E1', 'sub_grade_E2',\n",
            "       'sub_grade_E3', 'sub_grade_E4', 'sub_grade_E5', 'sub_grade_F1',\n",
            "       'sub_grade_F2', 'sub_grade_F3', 'sub_grade_F4', 'sub_grade_F5',\n",
            "       'sub_grade_G1', 'sub_grade_G2', 'sub_grade_G3', 'sub_grade_G4',\n",
            "       'sub_grade_G5'],\n",
            "      dtype='object')\n",
            "X train shape (24306, 86)\n",
            "X test shape (8102, 86)\n",
            "y train shape (24306,)\n",
            "y test shape (8102,)\n"
          ]
        }
      ]
    },
    {
      "cell_type": "code",
      "source": [
        "X.info()"
      ],
      "metadata": {
        "colab": {
          "base_uri": "https://localhost:8080/"
        },
        "id": "l0E1grJGn_vX",
        "outputId": "df131c5b-5a28-4bde-bf63-56a44982b465"
      },
      "execution_count": null,
      "outputs": [
        {
          "output_type": "stream",
          "name": "stdout",
          "text": [
            "<class 'pandas.core.frame.DataFrame'>\n",
            "Int64Index: 32408 entries, 0 to 39071\n",
            "Data columns (total 86 columns):\n",
            " #   Column                               Non-Null Count  Dtype  \n",
            "---  ------                               --------------  -----  \n",
            " 0   loan_amnt                            32408 non-null  float64\n",
            " 1   funded_amnt                          32408 non-null  float64\n",
            " 2   funded_amnt_inv                      32408 non-null  float64\n",
            " 3   int_rate                             32408 non-null  float64\n",
            " 4   installment                          32408 non-null  float64\n",
            " 5   annual_inc                           32408 non-null  float64\n",
            " 6   dti                                  32408 non-null  float64\n",
            " 7   delinq_2yrs                          32408 non-null  float64\n",
            " 8   inq_last_6mths                       32408 non-null  float64\n",
            " 9   open_acc                             32408 non-null  float64\n",
            " 10  pub_rec                              32408 non-null  float64\n",
            " 11  revol_bal                            32408 non-null  float64\n",
            " 12  revol_util                           32408 non-null  float64\n",
            " 13  total_acc                            32408 non-null  float64\n",
            " 14  total_pymnt                          32408 non-null  float64\n",
            " 15  total_pymnt_inv                      32408 non-null  float64\n",
            " 16  total_rec_prncp                      32408 non-null  float64\n",
            " 17  total_rec_int                        32408 non-null  float64\n",
            " 18  total_rec_late_fee                   32408 non-null  float64\n",
            " 19  last_pymnt_amnt                      32408 non-null  float64\n",
            " 20  pub_rec_bankruptcies                 32408 non-null  float64\n",
            " 21  home_ownership_MORTGAGE              32408 non-null  uint8  \n",
            " 22  home_ownership_OTHER                 32408 non-null  uint8  \n",
            " 23  home_ownership_OWN                   32408 non-null  uint8  \n",
            " 24  home_ownership_RENT                  32408 non-null  uint8  \n",
            " 25  verification_status_Not Verified     32408 non-null  uint8  \n",
            " 26  verification_status_Source Verified  32408 non-null  uint8  \n",
            " 27  verification_status_Verified         32408 non-null  uint8  \n",
            " 28  purpose_car                          32408 non-null  uint8  \n",
            " 29  purpose_credit_card                  32408 non-null  uint8  \n",
            " 30  purpose_debt_consolidation           32408 non-null  uint8  \n",
            " 31  purpose_educational                  32408 non-null  uint8  \n",
            " 32  purpose_home_improvement             32408 non-null  uint8  \n",
            " 33  purpose_house                        32408 non-null  uint8  \n",
            " 34  purpose_major_purchase               32408 non-null  uint8  \n",
            " 35  purpose_medical                      32408 non-null  uint8  \n",
            " 36  purpose_moving                       32408 non-null  uint8  \n",
            " 37  purpose_other                        32408 non-null  uint8  \n",
            " 38  purpose_renewable_energy             32408 non-null  uint8  \n",
            " 39  purpose_small_business               32408 non-null  uint8  \n",
            " 40  purpose_vacation                     32408 non-null  uint8  \n",
            " 41  purpose_wedding                      32408 non-null  uint8  \n",
            " 42  term_ 36 months                      32408 non-null  uint8  \n",
            " 43  term_ 60 months                      32408 non-null  uint8  \n",
            " 44  grade_A                              32408 non-null  uint8  \n",
            " 45  grade_B                              32408 non-null  uint8  \n",
            " 46  grade_C                              32408 non-null  uint8  \n",
            " 47  grade_D                              32408 non-null  uint8  \n",
            " 48  grade_E                              32408 non-null  uint8  \n",
            " 49  grade_F                              32408 non-null  uint8  \n",
            " 50  grade_G                              32408 non-null  uint8  \n",
            " 51  sub_grade_A1                         32408 non-null  uint8  \n",
            " 52  sub_grade_A2                         32408 non-null  uint8  \n",
            " 53  sub_grade_A3                         32408 non-null  uint8  \n",
            " 54  sub_grade_A4                         32408 non-null  uint8  \n",
            " 55  sub_grade_A5                         32408 non-null  uint8  \n",
            " 56  sub_grade_B1                         32408 non-null  uint8  \n",
            " 57  sub_grade_B2                         32408 non-null  uint8  \n",
            " 58  sub_grade_B3                         32408 non-null  uint8  \n",
            " 59  sub_grade_B4                         32408 non-null  uint8  \n",
            " 60  sub_grade_B5                         32408 non-null  uint8  \n",
            " 61  sub_grade_C1                         32408 non-null  uint8  \n",
            " 62  sub_grade_C2                         32408 non-null  uint8  \n",
            " 63  sub_grade_C3                         32408 non-null  uint8  \n",
            " 64  sub_grade_C4                         32408 non-null  uint8  \n",
            " 65  sub_grade_C5                         32408 non-null  uint8  \n",
            " 66  sub_grade_D1                         32408 non-null  uint8  \n",
            " 67  sub_grade_D2                         32408 non-null  uint8  \n",
            " 68  sub_grade_D3                         32408 non-null  uint8  \n",
            " 69  sub_grade_D4                         32408 non-null  uint8  \n",
            " 70  sub_grade_D5                         32408 non-null  uint8  \n",
            " 71  sub_grade_E1                         32408 non-null  uint8  \n",
            " 72  sub_grade_E2                         32408 non-null  uint8  \n",
            " 73  sub_grade_E3                         32408 non-null  uint8  \n",
            " 74  sub_grade_E4                         32408 non-null  uint8  \n",
            " 75  sub_grade_E5                         32408 non-null  uint8  \n",
            " 76  sub_grade_F1                         32408 non-null  uint8  \n",
            " 77  sub_grade_F2                         32408 non-null  uint8  \n",
            " 78  sub_grade_F3                         32408 non-null  uint8  \n",
            " 79  sub_grade_F4                         32408 non-null  uint8  \n",
            " 80  sub_grade_F5                         32408 non-null  uint8  \n",
            " 81  sub_grade_G1                         32408 non-null  uint8  \n",
            " 82  sub_grade_G2                         32408 non-null  uint8  \n",
            " 83  sub_grade_G3                         32408 non-null  uint8  \n",
            " 84  sub_grade_G4                         32408 non-null  uint8  \n",
            " 85  sub_grade_G5                         32408 non-null  uint8  \n",
            "dtypes: float64(21), uint8(65)\n",
            "memory usage: 7.4 MB\n"
          ]
        }
      ]
    },
    {
      "cell_type": "code",
      "source": [
        "from sklearn.preprocessing import MinMaxScaler\n",
        "rs = MinMaxScaler()\n",
        "\n",
        "X_scaled = pd.DataFrame(rs.fit_transform(X_train))\n",
        "\n",
        "print(X_scaled.shape)\n",
        "\n",
        "X_scaled.head()"
      ],
      "metadata": {
        "colab": {
          "base_uri": "https://localhost:8080/",
          "height": 253
        },
        "id": "ZkvpDxesgKsA",
        "outputId": "5ff89d45-487b-4a31-dd84-31ebe43eec17"
      },
      "execution_count": null,
      "outputs": [
        {
          "output_type": "stream",
          "name": "stdout",
          "text": [
            "(24306, 86)\n"
          ]
        },
        {
          "output_type": "execute_result",
          "data": {
            "text/plain": [
              "         0         1         2         3         4         5         6    7   \\\n",
              "0  0.095551  0.095551  0.114286  0.328117  0.088729  0.006079  0.301169  0.0   \n",
              "1  0.057622  0.057622  0.077143  0.792906  0.064103  0.001935  0.511185  0.0   \n",
              "2  0.328957  0.328957  0.342857  0.709963  0.230566  0.005003  0.447746  0.0   \n",
              "3  1.000000  1.000000  1.000000  0.551382  0.957911  0.107405  0.155259  0.0   \n",
              "4  0.219548  0.219548  0.235714  0.107981  0.187108  0.003536  0.807679  0.0   \n",
              "\n",
              "      8         9   ...   76   77   78   79   80   81   82   83   84   85  \n",
              "0  0.000  0.047619  ...  0.0  0.0  0.0  0.0  0.0  0.0  0.0  0.0  0.0  0.0  \n",
              "1  0.000  0.023810  ...  0.0  1.0  0.0  0.0  0.0  0.0  0.0  0.0  0.0  0.0  \n",
              "2  0.250  0.095238  ...  0.0  0.0  0.0  0.0  0.0  0.0  0.0  0.0  0.0  0.0  \n",
              "3  0.375  0.404762  ...  0.0  0.0  0.0  0.0  0.0  0.0  0.0  0.0  0.0  0.0  \n",
              "4  0.000  0.119048  ...  0.0  0.0  0.0  0.0  0.0  0.0  0.0  0.0  0.0  0.0  \n",
              "\n",
              "[5 rows x 86 columns]"
            ],
            "text/html": [
              "\n",
              "  <div id=\"df-01148c5e-0af3-4984-91c9-47982cf72cb4\">\n",
              "    <div class=\"colab-df-container\">\n",
              "      <div>\n",
              "<style scoped>\n",
              "    .dataframe tbody tr th:only-of-type {\n",
              "        vertical-align: middle;\n",
              "    }\n",
              "\n",
              "    .dataframe tbody tr th {\n",
              "        vertical-align: top;\n",
              "    }\n",
              "\n",
              "    .dataframe thead th {\n",
              "        text-align: right;\n",
              "    }\n",
              "</style>\n",
              "<table border=\"1\" class=\"dataframe\">\n",
              "  <thead>\n",
              "    <tr style=\"text-align: right;\">\n",
              "      <th></th>\n",
              "      <th>0</th>\n",
              "      <th>1</th>\n",
              "      <th>2</th>\n",
              "      <th>3</th>\n",
              "      <th>4</th>\n",
              "      <th>5</th>\n",
              "      <th>6</th>\n",
              "      <th>7</th>\n",
              "      <th>8</th>\n",
              "      <th>9</th>\n",
              "      <th>...</th>\n",
              "      <th>76</th>\n",
              "      <th>77</th>\n",
              "      <th>78</th>\n",
              "      <th>79</th>\n",
              "      <th>80</th>\n",
              "      <th>81</th>\n",
              "      <th>82</th>\n",
              "      <th>83</th>\n",
              "      <th>84</th>\n",
              "      <th>85</th>\n",
              "    </tr>\n",
              "  </thead>\n",
              "  <tbody>\n",
              "    <tr>\n",
              "      <th>0</th>\n",
              "      <td>0.095551</td>\n",
              "      <td>0.095551</td>\n",
              "      <td>0.114286</td>\n",
              "      <td>0.328117</td>\n",
              "      <td>0.088729</td>\n",
              "      <td>0.006079</td>\n",
              "      <td>0.301169</td>\n",
              "      <td>0.0</td>\n",
              "      <td>0.000</td>\n",
              "      <td>0.047619</td>\n",
              "      <td>...</td>\n",
              "      <td>0.0</td>\n",
              "      <td>0.0</td>\n",
              "      <td>0.0</td>\n",
              "      <td>0.0</td>\n",
              "      <td>0.0</td>\n",
              "      <td>0.0</td>\n",
              "      <td>0.0</td>\n",
              "      <td>0.0</td>\n",
              "      <td>0.0</td>\n",
              "      <td>0.0</td>\n",
              "    </tr>\n",
              "    <tr>\n",
              "      <th>1</th>\n",
              "      <td>0.057622</td>\n",
              "      <td>0.057622</td>\n",
              "      <td>0.077143</td>\n",
              "      <td>0.792906</td>\n",
              "      <td>0.064103</td>\n",
              "      <td>0.001935</td>\n",
              "      <td>0.511185</td>\n",
              "      <td>0.0</td>\n",
              "      <td>0.000</td>\n",
              "      <td>0.023810</td>\n",
              "      <td>...</td>\n",
              "      <td>0.0</td>\n",
              "      <td>1.0</td>\n",
              "      <td>0.0</td>\n",
              "      <td>0.0</td>\n",
              "      <td>0.0</td>\n",
              "      <td>0.0</td>\n",
              "      <td>0.0</td>\n",
              "      <td>0.0</td>\n",
              "      <td>0.0</td>\n",
              "      <td>0.0</td>\n",
              "    </tr>\n",
              "    <tr>\n",
              "      <th>2</th>\n",
              "      <td>0.328957</td>\n",
              "      <td>0.328957</td>\n",
              "      <td>0.342857</td>\n",
              "      <td>0.709963</td>\n",
              "      <td>0.230566</td>\n",
              "      <td>0.005003</td>\n",
              "      <td>0.447746</td>\n",
              "      <td>0.0</td>\n",
              "      <td>0.250</td>\n",
              "      <td>0.095238</td>\n",
              "      <td>...</td>\n",
              "      <td>0.0</td>\n",
              "      <td>0.0</td>\n",
              "      <td>0.0</td>\n",
              "      <td>0.0</td>\n",
              "      <td>0.0</td>\n",
              "      <td>0.0</td>\n",
              "      <td>0.0</td>\n",
              "      <td>0.0</td>\n",
              "      <td>0.0</td>\n",
              "      <td>0.0</td>\n",
              "    </tr>\n",
              "    <tr>\n",
              "      <th>3</th>\n",
              "      <td>1.000000</td>\n",
              "      <td>1.000000</td>\n",
              "      <td>1.000000</td>\n",
              "      <td>0.551382</td>\n",
              "      <td>0.957911</td>\n",
              "      <td>0.107405</td>\n",
              "      <td>0.155259</td>\n",
              "      <td>0.0</td>\n",
              "      <td>0.375</td>\n",
              "      <td>0.404762</td>\n",
              "      <td>...</td>\n",
              "      <td>0.0</td>\n",
              "      <td>0.0</td>\n",
              "      <td>0.0</td>\n",
              "      <td>0.0</td>\n",
              "      <td>0.0</td>\n",
              "      <td>0.0</td>\n",
              "      <td>0.0</td>\n",
              "      <td>0.0</td>\n",
              "      <td>0.0</td>\n",
              "      <td>0.0</td>\n",
              "    </tr>\n",
              "    <tr>\n",
              "      <th>4</th>\n",
              "      <td>0.219548</td>\n",
              "      <td>0.219548</td>\n",
              "      <td>0.235714</td>\n",
              "      <td>0.107981</td>\n",
              "      <td>0.187108</td>\n",
              "      <td>0.003536</td>\n",
              "      <td>0.807679</td>\n",
              "      <td>0.0</td>\n",
              "      <td>0.000</td>\n",
              "      <td>0.119048</td>\n",
              "      <td>...</td>\n",
              "      <td>0.0</td>\n",
              "      <td>0.0</td>\n",
              "      <td>0.0</td>\n",
              "      <td>0.0</td>\n",
              "      <td>0.0</td>\n",
              "      <td>0.0</td>\n",
              "      <td>0.0</td>\n",
              "      <td>0.0</td>\n",
              "      <td>0.0</td>\n",
              "      <td>0.0</td>\n",
              "    </tr>\n",
              "  </tbody>\n",
              "</table>\n",
              "<p>5 rows × 86 columns</p>\n",
              "</div>\n",
              "      <button class=\"colab-df-convert\" onclick=\"convertToInteractive('df-01148c5e-0af3-4984-91c9-47982cf72cb4')\"\n",
              "              title=\"Convert this dataframe to an interactive table.\"\n",
              "              style=\"display:none;\">\n",
              "        \n",
              "  <svg xmlns=\"http://www.w3.org/2000/svg\" height=\"24px\"viewBox=\"0 0 24 24\"\n",
              "       width=\"24px\">\n",
              "    <path d=\"M0 0h24v24H0V0z\" fill=\"none\"/>\n",
              "    <path d=\"M18.56 5.44l.94 2.06.94-2.06 2.06-.94-2.06-.94-.94-2.06-.94 2.06-2.06.94zm-11 1L8.5 8.5l.94-2.06 2.06-.94-2.06-.94L8.5 2.5l-.94 2.06-2.06.94zm10 10l.94 2.06.94-2.06 2.06-.94-2.06-.94-.94-2.06-.94 2.06-2.06.94z\"/><path d=\"M17.41 7.96l-1.37-1.37c-.4-.4-.92-.59-1.43-.59-.52 0-1.04.2-1.43.59L10.3 9.45l-7.72 7.72c-.78.78-.78 2.05 0 2.83L4 21.41c.39.39.9.59 1.41.59.51 0 1.02-.2 1.41-.59l7.78-7.78 2.81-2.81c.8-.78.8-2.07 0-2.86zM5.41 20L4 18.59l7.72-7.72 1.47 1.35L5.41 20z\"/>\n",
              "  </svg>\n",
              "      </button>\n",
              "      \n",
              "  <style>\n",
              "    .colab-df-container {\n",
              "      display:flex;\n",
              "      flex-wrap:wrap;\n",
              "      gap: 12px;\n",
              "    }\n",
              "\n",
              "    .colab-df-convert {\n",
              "      background-color: #E8F0FE;\n",
              "      border: none;\n",
              "      border-radius: 50%;\n",
              "      cursor: pointer;\n",
              "      display: none;\n",
              "      fill: #1967D2;\n",
              "      height: 32px;\n",
              "      padding: 0 0 0 0;\n",
              "      width: 32px;\n",
              "    }\n",
              "\n",
              "    .colab-df-convert:hover {\n",
              "      background-color: #E2EBFA;\n",
              "      box-shadow: 0px 1px 2px rgba(60, 64, 67, 0.3), 0px 1px 3px 1px rgba(60, 64, 67, 0.15);\n",
              "      fill: #174EA6;\n",
              "    }\n",
              "\n",
              "    [theme=dark] .colab-df-convert {\n",
              "      background-color: #3B4455;\n",
              "      fill: #D2E3FC;\n",
              "    }\n",
              "\n",
              "    [theme=dark] .colab-df-convert:hover {\n",
              "      background-color: #434B5C;\n",
              "      box-shadow: 0px 1px 3px 1px rgba(0, 0, 0, 0.15);\n",
              "      filter: drop-shadow(0px 1px 2px rgba(0, 0, 0, 0.3));\n",
              "      fill: #FFFFFF;\n",
              "    }\n",
              "  </style>\n",
              "\n",
              "      <script>\n",
              "        const buttonEl =\n",
              "          document.querySelector('#df-01148c5e-0af3-4984-91c9-47982cf72cb4 button.colab-df-convert');\n",
              "        buttonEl.style.display =\n",
              "          google.colab.kernel.accessAllowed ? 'block' : 'none';\n",
              "\n",
              "        async function convertToInteractive(key) {\n",
              "          const element = document.querySelector('#df-01148c5e-0af3-4984-91c9-47982cf72cb4');\n",
              "          const dataTable =\n",
              "            await google.colab.kernel.invokeFunction('convertToInteractive',\n",
              "                                                     [key], {});\n",
              "          if (!dataTable) return;\n",
              "\n",
              "          const docLinkHtml = 'Like what you see? Visit the ' +\n",
              "            '<a target=\"_blank\" href=https://colab.research.google.com/notebooks/data_table.ipynb>data table notebook</a>'\n",
              "            + ' to learn more about interactive tables.';\n",
              "          element.innerHTML = '';\n",
              "          dataTable['output_type'] = 'display_data';\n",
              "          await google.colab.output.renderOutput(dataTable, element);\n",
              "          const docLink = document.createElement('div');\n",
              "          docLink.innerHTML = docLinkHtml;\n",
              "          element.appendChild(docLink);\n",
              "        }\n",
              "      </script>\n",
              "    </div>\n",
              "  </div>\n",
              "  "
            ]
          },
          "metadata": {},
          "execution_count": 56
        }
      ]
    },
    {
      "cell_type": "markdown",
      "source": [
        "# K-Nearest Neighbourhood Classification Model"
      ],
      "metadata": {
        "id": "--VV3kdukbqx"
      }
    },
    {
      "cell_type": "code",
      "source": [
        "from sklearn.model_selection import KFold \n",
        "k = 5\n",
        "kf = StratifiedKFold(n_splits = 10, shuffle=True, random_state=0)\n"
      ],
      "metadata": {
        "id": "dnb8rH6Mqsd4"
      },
      "execution_count": null,
      "outputs": []
    },
    {
      "cell_type": "code",
      "source": [
        "\n",
        "k_value_range = 5\n",
        "validation_score = []\n",
        "train_score = []\n",
        "\n",
        "for k in range(1, k_value_range+1):\n",
        "    print(\"Result for K value\", k)\n",
        "    acc_score = []\n",
        "    pre_score = []\n",
        "    rec_score = []\n",
        "    f_score = []\n",
        "    trn_score = []\n",
        "    knn = KNeighborsClassifier(n_neighbors = k, n_jobs = -1)\n",
        "    for train_index , test_index in kf.split(X_scaled,y_train):\n",
        "        X_train1, X_test1 = X_scaled.iloc[train_index,:],X_scaled.iloc[test_index,:]\n",
        "        y_train1, y_test1 = y.iloc[train_index] , y.iloc[test_index]\n",
        "     \n",
        "        knn.fit(X_train1,y_train1)\n",
        "        trn_score.append(knn.score(X_train1,y_train1))\n",
        "        pred_values = knn.predict(X_test1)\n",
        "     \n",
        "        acc = accuracy_score(pred_values , y_test1)\n",
        "        acc_score.append(acc)\n",
        "\n",
        "        pre = precision_score(pred_values , y_test1)\n",
        "        pre_score.append(pre)\n",
        "\n",
        "        rec = recall_score(pred_values , y_test1)\n",
        "        rec_score.append(rec)\n",
        "\n",
        "        f_sc = f1_score(pred_values , y_test1)\n",
        "        f_score.append(f_sc)\n",
        "\n",
        "        \n",
        "     \n",
        "    avg_acc_score = sum(acc_score)/len(acc_score)\n",
        "    avg_train_score = sum(trn_score)/len(trn_score)\n",
        "    validation_score.append(avg_acc_score)\n",
        "    train_score.append(avg_train_score)\n",
        "    print(f\"train accuracy Mean: {np.mean(trn_score)}\")\n",
        "    print(f\"Accuracy Mean: {np.mean(acc_score)}\")\n",
        "    print(f\"Precision Mean: {np.mean(pre_score)}\")\n",
        "    print(f\"Recall Mean: {np.mean(rec_score)}\")\n",
        "    print(f\"F1 Mean: {np.mean(f_score)}\")\n",
        "    print(\"\\n\")\n",
        "\n"
      ],
      "metadata": {
        "colab": {
          "base_uri": "https://localhost:8080/"
        },
        "id": "_vmYqgB9kbKG",
        "outputId": "c0282ee8-b1fa-4e57-f798-55c6614f605c"
      },
      "execution_count": null,
      "outputs": [
        {
          "output_type": "stream",
          "name": "stdout",
          "text": [
            "Result for K value 1\n",
            "train accuracy Mean: 1.0\n",
            "Accuracy Mean: 0.7631051930398335\n",
            "Precision Mean: 0.1418590646207009\n",
            "Recall Mean: 0.1435204642472674\n",
            "F1 Mean: 0.1425179906473189\n",
            "\n",
            "\n",
            "Result for K value 2\n",
            "train accuracy Mean: 0.881414749523287\n",
            "Accuracy Mean: 0.8471580900339071\n",
            "Precision Mean: 0.023097704675651386\n",
            "Recall Mean: 0.160094068063101\n",
            "F1 Mean: 0.04028952214668481\n",
            "\n",
            "\n",
            "Result for K value 3\n",
            "train accuracy Mean: 0.8820135914113314\n",
            "Accuracy Mean: 0.8217735254336562\n",
            "Precision Mean: 0.058755827832592436\n",
            "Recall Mean: 0.14762395962848793\n",
            "F1 Mean: 0.08389272020929886\n",
            "\n",
            "\n",
            "Result for K value 4\n",
            "train accuracy Mean: 0.8662013100331739\n",
            "Accuracy Mean: 0.8535351165416525\n",
            "Precision Mean: 0.012314779622986752\n",
            "Recall Mean: 0.15804199318993534\n",
            "F1 Mean: 0.022820771508057246\n",
            "\n",
            "\n",
            "Result for K value 5\n",
            "train accuracy Mean: 0.8663796009717106\n",
            "Accuracy Mean: 0.8447308174759154\n",
            "Precision Mean: 0.0267199167976216\n",
            "Recall Mean: 0.15483900209388118\n",
            "F1 Mean: 0.04551225664938302\n",
            "\n",
            "\n"
          ]
        }
      ]
    },
    {
      "cell_type": "code",
      "source": [
        "plt.figure(figsize=(30,12))\n",
        "plt.plot(np.arange(1,6), validation_score, color=\"blue\", label=\"Validation Score\")\n",
        "plt.plot(np.arange(1,6), train_score, color=\"purple\", label=\"Training Score\")\n",
        "plt.xlabel(\"Value of K\")\n",
        "plt.ylabel(\"F1 Score\")\n",
        "plt.legend()"
      ],
      "metadata": {
        "colab": {
          "base_uri": "https://localhost:8080/",
          "height": 503
        },
        "id": "n5iPjijrkan_",
        "outputId": "ed6bbbd8-771d-44b6-db23-4e9a783bd3b4"
      },
      "execution_count": null,
      "outputs": [
        {
          "output_type": "execute_result",
          "data": {
            "text/plain": [
              "<matplotlib.legend.Legend at 0x7f08572d3dd0>"
            ]
          },
          "metadata": {},
          "execution_count": 60
        },
        {
          "output_type": "display_data",
          "data": {
            "text/plain": [
              "<Figure size 2160x864 with 1 Axes>"
            ],
            "image/png": "[encoded data removed]"
          },
          "metadata": {}
        }
      ]
    },
    {
      "cell_type": "markdown",
      "source": [
        "NOTE: Difference between train and test scores are minimum at k=5, hence we will consider k=5 in our KNN classifier model."
      ],
      "metadata": {
        "id": "twzRqB59N2YC"
      }
    },
    {
      "cell_type": "code",
      "source": [
        "print(X_scaled.shape)\n",
        "print(y_train.shape)"
      ],
      "metadata": {
        "colab": {
          "base_uri": "https://localhost:8080/"
        },
        "id": "cmo_5mV2yGQx",
        "outputId": "a6c2a1aa-7ef2-415a-e305-895d55b10912"
      },
      "execution_count": null,
      "outputs": [
        {
          "output_type": "stream",
          "name": "stdout",
          "text": [
            "(24306, 86)\n",
            "(24306,)\n"
          ]
        }
      ]
    },
    {
      "cell_type": "code",
      "source": [
        "X_train_k = X_scaled.copy()\n",
        "\n",
        "k_value = 5\n",
        "knn = KNeighborsClassifier(n_neighbors=k_value)\n",
        "knn.fit(X_scaled, y_train)\n",
        "\n",
        "X_pred = knn.predict(X_train_k)\n",
        "X_train_k['pred'] = X_pred\n",
        "\n",
        "print('Accuracy Score ->',round(accuracy_score(y_train, X_train_k['pred'])))\n",
        "print('Precision Score ->',round(precision_score(y_train, X_train_k['pred']),5))\n",
        "print('Recall Score ->',round(recall_score(y_train, X_train_k['pred']),5))\n",
        "print('F1 score ->',round(f1_score(y_train, X_train_k['pred']),5))"
      ],
      "metadata": {
        "colab": {
          "base_uri": "https://localhost:8080/"
        },
        "id": "chk3BMVnkakZ",
        "outputId": "aa58387c-dc7c-4e4c-927e-6bd5c69b7016"
      },
      "execution_count": null,
      "outputs": [
        {
          "output_type": "stream",
          "name": "stdout",
          "text": [
            "Accuracy Score -> 1\n",
            "Precision Score -> 0.85848\n",
            "Recall Score -> 0.33023\n",
            "F1 score -> 0.47698\n"
          ]
        }
      ]
    },
    {
      "cell_type": "code",
      "source": [
        "X_test1 = X_test.copy()\n",
        "\n",
        "X_test_scaled = rs.transform(X_test1)\n",
        "\n",
        "X_test_scaled.shape\n",
        "\n",
        "y_pred = knn.predict(X_test_scaled)\n",
        "\n",
        "y_prob = knn.predict_proba(X_test_scaled)[:,1]\n",
        "\n",
        "X_test1['pred'] = y_pred\n",
        "\n",
        "X_test1['prob'] = y_prob\n",
        "\n",
        "print('___________________VALIDATION RESULTS__________________________')\n",
        "print('\\n')\n",
        "print('Accuracy Score ->',round(accuracy_score(y_test, X_test1['pred'])))\n",
        "print('Precision Score ->',round(precision_score(y_test, X_test1['pred']),5))\n",
        "print('Recall Score ->',round(recall_score(y_test, X_test1['pred']),5))\n",
        "print('F1 score ->',round(f1_score(y_test, X_test1['pred']),5))\n",
        "print('\\n')\n",
        "print('***Confusion Matrix***')\n",
        "confusion_matrix(y_test, X_test1['pred'])"
      ],
      "metadata": {
        "colab": {
          "base_uri": "https://localhost:8080/"
        },
        "id": "aV0CPl6qkaf9",
        "outputId": "adc77106-44e4-467c-fbff-c661e666a5c9"
      },
      "execution_count": null,
      "outputs": [
        {
          "output_type": "stream",
          "name": "stdout",
          "text": [
            "___________________VALIDATION RESULTS__________________________\n",
            "\n",
            "\n",
            "Accuracy Score -> 1\n",
            "Precision Score -> 0.63636\n",
            "Recall Score -> 0.2179\n",
            "F1 score -> 0.32464\n",
            "\n",
            "\n",
            "***Confusion Matrix***\n"
          ]
        },
        {
          "output_type": "execute_result",
          "data": {
            "text/plain": [
              "array([[6946,  128],\n",
              "       [ 804,  224]])"
            ]
          },
          "metadata": {},
          "execution_count": 63
        }
      ]
    },
    {
      "cell_type": "markdown",
      "source": [
        "NOTE: The KNN classifier is giving an F1 score of 32.4% which can be tried to improve further using other models."
      ],
      "metadata": {
        "id": "xDUeiEhJ1fnW"
      }
    },
    {
      "cell_type": "markdown",
      "source": [
        "### NAIVE BAYES CLASSIFICATION MODEL"
      ],
      "metadata": {
        "id": "ulrB55Enzp-D"
      }
    },
    {
      "cell_type": "code",
      "source": [
        "from sklearn.naive_bayes import GaussianNB\n",
        "\n",
        "acc_scores_rf = []\n",
        "roc_auc_scores_rf = []\n",
        "precision_scores_rf = []\n",
        "recall_scores_rf = []\n",
        "f1_scores_rf = []\n",
        "train_acc = []\n",
        "\n",
        "#Define the K-fold Cross Validator\n",
        "kfold = StratifiedKFold(n_splits = 10, shuffle=True, random_state=0)\n",
        "\n",
        "#K-fold Cross Validation model evaluation\n",
        "fold_no = 1\n",
        "for train, test in kfold.split(X_scaled, y_train):\n",
        "  print('------------------------------------------------------------------------')\n",
        "  print(f'Training for fold {fold_no} ...')\n",
        "  \n",
        "  gnb = GaussianNB()\n",
        "\n",
        "  gnb.fit(X_scaled.iloc[train], y_train.iloc[train])\n",
        "  y_pred = gnb.predict(X_scaled.iloc[test])\n",
        "\n",
        "  acc_scores_rf.append(accuracy_score(y_train.iloc[test], y_pred))\n",
        "\n",
        "  train_acc.append(accuracy_score(y_train.iloc[train], gnb.predict(X_scaled.iloc[train])))\n",
        "  roc_auc_scores_rf.append(roc_auc_score(y_train.iloc[test], y_pred))\n",
        "  precision_scores_rf.append(precision_score(y_train.iloc[test], y_pred))\n",
        "  recall_scores_rf.append(recall_score(y_train.iloc[test], y_pred))\n",
        "  f1_scores_rf.append(f1_score(y_train.iloc[test], y_pred))\n",
        "\n",
        "  fold_no = fold_no + 1\n",
        "  \n",
        "print(f\"Accuracy Mean: {np.mean(acc_scores_rf)}\")\n",
        "print(f\"Accuracy Standard Deviation: {np.std(acc_scores_rf)}\")\n",
        "print(\"\\n\")\n",
        "print(f\"ROC-AUC Mean: {np.mean(roc_auc_scores_rf)}\")\n",
        "print(f\"ROC-AUC Standard Deviation: {np.std(roc_auc_scores_rf)}\")\n",
        "print(\"\\n\")\n",
        "print(f\"Precision Mean: {np.mean(precision_scores_rf)}\")\n",
        "print(f\"Precision Standard Deviation: {np.std(precision_scores_rf)}\")\n",
        "print(\"\\n\")\n",
        "print(f\"Recall Mean: {np.mean(recall_scores_rf)}\")\n",
        "print(f\"Recall Standard Deviation: {np.std(recall_scores_rf)}\")\n",
        "print(\"\\n\")\n",
        "print(f\"F1 Mean: {np.mean(f1_scores_rf)}\")\n",
        "print(f\"F1 Standard Deviation: {np.std(f1_scores_rf)}\")\n",
        "\n",
        "print(f\"train accuracy Mean: {np.mean(train_acc)}\")"
      ],
      "metadata": {
        "colab": {
          "base_uri": "https://localhost:8080/"
        },
        "id": "-fmKJsGnzph_",
        "outputId": "9d0ad68c-390f-48c6-cd6f-fb26db10debe"
      },
      "execution_count": null,
      "outputs": [
        {
          "output_type": "stream",
          "name": "stdout",
          "text": [
            "------------------------------------------------------------------------\n",
            "Training for fold 1 ...\n",
            "------------------------------------------------------------------------\n",
            "Training for fold 2 ...\n",
            "------------------------------------------------------------------------\n",
            "Training for fold 3 ...\n",
            "------------------------------------------------------------------------\n",
            "Training for fold 4 ...\n",
            "------------------------------------------------------------------------\n",
            "Training for fold 5 ...\n",
            "------------------------------------------------------------------------\n",
            "Training for fold 6 ...\n",
            "------------------------------------------------------------------------\n",
            "Training for fold 7 ...\n",
            "------------------------------------------------------------------------\n",
            "Training for fold 8 ...\n",
            "------------------------------------------------------------------------\n",
            "Training for fold 9 ...\n",
            "------------------------------------------------------------------------\n",
            "Training for fold 10 ...\n",
            "Accuracy Mean: 0.830082846226637\n",
            "Accuracy Standard Deviation: 0.007961078656375601\n",
            "\n",
            "\n",
            "ROC-AUC Mean: 0.6869533098925275\n",
            "ROC-AUC Standard Deviation: 0.014665957533590233\n",
            "\n",
            "\n",
            "Precision Mean: 0.40144515406426695\n",
            "Precision Standard Deviation: 0.019797864558628944\n",
            "\n",
            "\n",
            "Recall Mean: 0.48991642244654293\n",
            "Recall Standard Deviation: 0.03190124609037891\n",
            "\n",
            "\n",
            "F1 Mean: 0.4408232412119292\n",
            "F1 Standard Deviation: 0.020812701691204537\n",
            "train accuracy Mean: 0.8328761831622391\n"
          ]
        }
      ]
    },
    {
      "cell_type": "code",
      "source": [
        "X_test1 = X_test.copy()\n",
        "\n",
        "X_test_scaled = rs.transform(X_test1)\n",
        "\n",
        "X_test_scaled.shape\n",
        "\n",
        "y_pred = gnb.predict(X_test_scaled)\n",
        "\n",
        "y_prob = gnb.predict_proba(X_test_scaled)[:,1]\n",
        "\n",
        "X_test1['pred'] = y_pred\n",
        "\n",
        "X_test1['prob'] = y_prob\n",
        "\n",
        "print('___________________VALIDATION RESULTS__________________________')\n",
        "print('\\n')\n",
        "print('Accuracy Score ->',round(accuracy_score(y_test, X_test1['pred']),))\n",
        "print('Precision Score ->',round(precision_score(y_test, X_test1['pred']),5))\n",
        "print('Recall Score ->',round(recall_score(y_test, X_test1['pred']),5))\n",
        "print('F1 score ->',round(f1_score(y_test, X_test1['pred']),5))\n",
        "print('\\n')\n",
        "print('***Confusion Matrix***')\n",
        "confusion_matrix(y_test, X_test1['pred'])\n",
        "\n"
      ],
      "metadata": {
        "colab": {
          "base_uri": "https://localhost:8080/"
        },
        "id": "WYjLTPuszpd6",
        "outputId": "f6484857-d2c2-4d84-f0c3-f5c3e680dc57"
      },
      "execution_count": null,
      "outputs": [
        {
          "output_type": "stream",
          "name": "stdout",
          "text": [
            "___________________VALIDATION RESULTS__________________________\n",
            "\n",
            "\n",
            "Accuracy Score -> 1\n",
            "Precision Score -> 0.39405\n",
            "Recall Score -> 0.50292\n",
            "F1 score -> 0.44188\n",
            "\n",
            "\n",
            "***Confusion Matrix***\n"
          ]
        },
        {
          "output_type": "execute_result",
          "data": {
            "text/plain": [
              "array([[6279,  795],\n",
              "       [ 511,  517]])"
            ]
          },
          "metadata": {},
          "execution_count": 65
        }
      ]
    },
    {
      "cell_type": "markdown",
      "source": [
        "NOTE: F1 score has increased in Naive Bayes to 44% which is more than what we got in KNN model.\n",
        "\n"
      ],
      "metadata": {
        "id": "Un1kP2S91-tv"
      }
    },
    {
      "cell_type": "code",
      "source": [
        "# generate a no skill prediction (majority class)\n",
        "ns_probs = [0 for _ in range(len(y_test))]\n",
        "\n",
        "# calculate scores\n",
        "ns_auc = roc_auc_score(y_test, ns_probs)\n",
        "rf_auc = roc_auc_score(y_test, y_prob)\n",
        "# summarize scores\n",
        "print('No Skill: ROC AUC=%.3f' % (ns_auc))\n",
        "print('Naive Bayes: ROC AUC=%.3f' % (rf_auc))\n",
        "# calculate roc curves\n",
        "ns_fpr, ns_tpr, _ = roc_curve(y_test, ns_probs)\n",
        "rf_fpr, rf_tpr, _ = roc_curve(y_test, y_prob)\n",
        "# plot the roc curve for the model\n",
        "plt.plot(ns_fpr, ns_tpr, linestyle='--', label='No Skill')\n",
        "plt.plot(rf_fpr, rf_tpr, marker='.', label='Naive Bayes')\n",
        "# axis labels\n",
        "plt.xlabel('False Positive Rate')\n",
        "plt.ylabel('True Positive Rate')\n",
        "# show the legend\n",
        "plt.legend()\n",
        "# show the plot\n",
        "plt.show()"
      ],
      "metadata": {
        "colab": {
          "base_uri": "https://localhost:8080/",
          "height": 872
        },
        "id": "Wfpv9CRMzpaK",
        "outputId": "f3672605-17f3-4781-d998-c300aa3a9820"
      },
      "execution_count": null,
      "outputs": [
        {
          "output_type": "stream",
          "name": "stdout",
          "text": [
            "No Skill: ROC AUC=0.500\n",
            "Naive Bayes: ROC AUC=0.838\n"
          ]
        },
        {
          "output_type": "display_data",
          "data": {
            "text/plain": [
              "<Figure size 1800x1296 with 1 Axes>"
            ],
            "image/png": "[encoded data removed]"
          },
          "metadata": {}
        }
      ]
    },
    {
      "cell_type": "markdown",
      "source": [
        "## Decision Tree Classification Model"
      ],
      "metadata": {
        "id": "jmMcblLrvH6y"
      }
    },
    {
      "cell_type": "code",
      "source": [
        "acc_scores_rf = []\n",
        "roc_auc_scores_rf = []\n",
        "precision_scores_rf = []\n",
        "recall_scores_rf = []\n",
        "f1_scores_rf = []\n",
        "train_acc = []\n",
        "\n",
        "#Define the K-fold Cross Validator\n",
        "kfold = StratifiedKFold(n_splits = 10, shuffle=True, random_state=0)\n",
        "\n",
        "#K-fold Cross Validation model evaluation\n",
        "fold_no = 1\n",
        "for train, test in kfold.split(X_scaled, y_train):\n",
        "  print('------------------------------------------------------------------------')\n",
        "  print(f'Training for fold {fold_no} ...')\n",
        "  \n",
        "  decisiontreeClassifier = DecisionTreeClassifier(class_weight = 'balanced',random_state=42)\n",
        "\n",
        "  decisiontreeClassifier.fit(X_scaled.iloc[train], y_train.iloc[train])\n",
        "  y_pred = decisiontreeClassifier.predict(X_scaled.iloc[test])\n",
        "\n",
        "  acc_scores_rf.append(accuracy_score(y_train.iloc[test], y_pred))\n",
        "\n",
        "  train_acc.append(accuracy_score(y_train.iloc[train], decisiontreeClassifier.predict(X_scaled.iloc[train])))\n",
        "  roc_auc_scores_rf.append(roc_auc_score(y_train.iloc[test], y_pred))\n",
        "  precision_scores_rf.append(precision_score(y_train.iloc[test], y_pred))\n",
        "  recall_scores_rf.append(recall_score(y_train.iloc[test], y_pred))\n",
        "  f1_scores_rf.append(f1_score(y_train.iloc[test], y_pred))\n",
        "\n",
        "  fold_no = fold_no + 1\n",
        "  \n",
        "print(f\"Accuracy Mean: {np.mean(acc_scores_rf)}\")\n",
        "print(f\"Accuracy Standard Deviation: {np.std(acc_scores_rf)}\")\n",
        "print(\"\\n\")\n",
        "print(f\"ROC-AUC Mean: {np.mean(roc_auc_scores_rf)}\")\n",
        "print(f\"ROC-AUC Standard Deviation: {np.std(roc_auc_scores_rf)}\")\n",
        "print(\"\\n\")\n",
        "print(f\"Precision Mean: {np.mean(precision_scores_rf)}\")\n",
        "print(f\"Precision Standard Deviation: {np.std(precision_scores_rf)}\")\n",
        "print(\"\\n\")\n",
        "print(f\"Recall Mean: {np.mean(recall_scores_rf)}\")\n",
        "print(f\"Recall Standard Deviation: {np.std(recall_scores_rf)}\")\n",
        "print(\"\\n\")\n",
        "print(f\"F1 Mean: {np.mean(f1_scores_rf)}\")\n",
        "print(f\"F1 Standard Deviation: {np.std(f1_scores_rf)}\")\n",
        "\n",
        "print(f\"train accuracy Mean: {np.mean(train_acc)}\")"
      ],
      "metadata": {
        "colab": {
          "base_uri": "https://localhost:8080/"
        },
        "id": "CmRt-Lw2tnvQ",
        "outputId": "15f096a7-5950-428a-dbd8-27206622f7cb"
      },
      "execution_count": null,
      "outputs": [
        {
          "output_type": "stream",
          "name": "stdout",
          "text": [
            "------------------------------------------------------------------------\n",
            "Training for fold 1 ...\n",
            "------------------------------------------------------------------------\n",
            "Training for fold 2 ...\n",
            "------------------------------------------------------------------------\n",
            "Training for fold 3 ...\n",
            "------------------------------------------------------------------------\n",
            "Training for fold 4 ...\n",
            "------------------------------------------------------------------------\n",
            "Training for fold 5 ...\n",
            "------------------------------------------------------------------------\n",
            "Training for fold 6 ...\n",
            "------------------------------------------------------------------------\n",
            "Training for fold 7 ...\n",
            "------------------------------------------------------------------------\n",
            "Training for fold 8 ...\n",
            "------------------------------------------------------------------------\n",
            "Training for fold 9 ...\n",
            "------------------------------------------------------------------------\n",
            "Training for fold 10 ...\n",
            "Accuracy Mean: 0.9917714940590756\n",
            "Accuracy Standard Deviation: 0.001803252823936826\n",
            "\n",
            "\n",
            "ROC-AUC Mean: 0.9794104155663641\n",
            "ROC-AUC Standard Deviation: 0.006555667680104133\n",
            "\n",
            "\n",
            "Precision Mean: 0.9771867186940393\n",
            "Precision Standard Deviation: 0.007352496402292062\n",
            "\n",
            "\n",
            "Recall Mean: 0.9623955280581786\n",
            "Recall Standard Deviation: 0.013432458984736327\n",
            "\n",
            "\n",
            "F1 Mean: 0.9696596131144555\n",
            "F1 Standard Deviation: 0.006790302055888238\n",
            "train accuracy Mean: 1.0\n"
          ]
        }
      ]
    },
    {
      "cell_type": "code",
      "source": [
        "X_test1 = X_test.copy()\n",
        "\n",
        "X_test_scaled = rs.transform(X_test1)\n",
        "\n",
        "X_test_scaled.shape\n",
        "\n",
        "y_pred = decisiontreeClassifier.predict(X_test_scaled)\n",
        "\n",
        "y_prob = decisiontreeClassifier.predict_proba(X_test_scaled)[:,1]\n",
        "\n",
        "X_test1['pred'] = y_pred\n",
        "\n",
        "X_test1['prob'] = y_prob\n",
        "\n",
        "print('___________________VALIDATION RESULTS__________________________')\n",
        "print('\\n')\n",
        "print('Accuracy Score ->',round(accuracy_score(y_test, X_test1['pred']),))\n",
        "print('Precision Score ->',round(precision_score(y_test, X_test1['pred']),5))\n",
        "print('Recall Score ->',round(recall_score(y_test, X_test1['pred']),5))\n",
        "print('F1 score ->',round(f1_score(y_test, X_test1['pred']),5))\n",
        "print('\\n')\n",
        "print('***Confusion Matrix***')\n",
        "confusion_matrix(y_test, X_test1['pred'])\n",
        "\n"
      ],
      "metadata": {
        "colab": {
          "base_uri": "https://localhost:8080/"
        },
        "id": "dN8VJpSrtnhp",
        "outputId": "b93e090b-d6bb-4d01-b3e4-4842b47cbafd"
      },
      "execution_count": null,
      "outputs": [
        {
          "output_type": "stream",
          "name": "stdout",
          "text": [
            "___________________VALIDATION RESULTS__________________________\n",
            "\n",
            "\n",
            "Accuracy Score -> 1\n",
            "Precision Score -> 0.97319\n",
            "Recall Score -> 0.95331\n",
            "F1 score -> 0.96314\n",
            "\n",
            "\n",
            "***Confusion Matrix***\n"
          ]
        },
        {
          "output_type": "execute_result",
          "data": {
            "text/plain": [
              "array([[7047,   27],\n",
              "       [  48,  980]])"
            ]
          },
          "metadata": {},
          "execution_count": 68
        }
      ]
    },
    {
      "cell_type": "markdown",
      "source": [
        "NOTE: F1 score for Decision Tree has largely improved to 0.96.\n",
        "\n"
      ],
      "metadata": {
        "id": "YVkBEKWW2V8v"
      }
    },
    {
      "cell_type": "code",
      "source": [
        "# generate a no skill prediction (majority class)\n",
        "ns_probs = [0 for _ in range(len(y_test))]\n",
        "\n",
        "# calculate scores\n",
        "ns_auc = roc_auc_score(y_test, ns_probs)\n",
        "rf_auc = roc_auc_score(y_test, y_prob)\n",
        "# summarize scores\n",
        "print('No Skill: ROC AUC=%.3f' % (ns_auc))\n",
        "print('Decision Tree: ROC AUC=%.3f' % (rf_auc))\n",
        "# calculate roc curves\n",
        "ns_fpr, ns_tpr, _ = roc_curve(y_test, ns_probs)\n",
        "rf_fpr, rf_tpr, _ = roc_curve(y_test, y_prob)\n",
        "# plot the roc curve for the model\n",
        "plt.plot(ns_fpr, ns_tpr, linestyle='--', label='No Skill')\n",
        "plt.plot(rf_fpr, rf_tpr, marker='.', label='Decision Tree')\n",
        "# axis labels\n",
        "plt.xlabel('False Positive Rate')\n",
        "plt.ylabel('True Positive Rate')\n",
        "# show the legend\n",
        "plt.legend()\n",
        "# show the plot\n",
        "plt.show()"
      ],
      "metadata": {
        "colab": {
          "base_uri": "https://localhost:8080/",
          "height": 872
        },
        "id": "OOvDjCv2tnT6",
        "outputId": "07ac4e94-cb34-443d-a054-7dfe4004db90"
      },
      "execution_count": null,
      "outputs": [
        {
          "output_type": "stream",
          "name": "stdout",
          "text": [
            "No Skill: ROC AUC=0.500\n",
            "Decision Tree: ROC AUC=0.975\n"
          ]
        },
        {
          "output_type": "display_data",
          "data": {
            "text/plain": [
              "<Figure size 1800x1296 with 1 Axes>"
            ],
            "image/png": "[encoded data removed]"
          },
          "metadata": {}
        }
      ]
    },
    {
      "cell_type": "markdown",
      "source": [
        "**INFERENCE**\n",
        "\n",
        "The Decision Tree Classifier is fitted on the scaled data where;\n",
        "the Precision and Recall scores on training after stratified K fold CV are 0.97 and 0.96, whereas the F1 score came out to be 0.97.\n",
        "When fitted on the validation data, the Precision and Recall scored are 0.97 and 0.96, the F1 score is 0.96.\n",
        "We can say that the model has a very good fit, since the results from training and validation are very much close, we can discard the possibility of overfitting or underfitting."
      ],
      "metadata": {
        "id": "gKefX8qDxDS-"
      }
    },
    {
      "cell_type": "markdown",
      "source": [
        "# Feature Importance Plot for Decision Tree model"
      ],
      "metadata": {
        "id": "mvIiSiqaGYj1"
      }
    },
    {
      "cell_type": "code",
      "source": [
        "model=DecisionTreeClassifier(class_weight = 'balanced',random_state=42)\n",
        "model.fit(X_train,y_train)\n",
        "feature_importance = model.feature_importances_\n",
        "sorted_idx = np.argsort(feature_importance)\n",
        "sorted_idx=sorted_idx[-10:len(sorted_idx)]\n",
        "fig = plt.figure(figsize=(12, 6))\n",
        "plt.barh(range(len(sorted_idx)), feature_importance[sorted_idx], align='center')\n",
        "plt.yticks(range(len(sorted_idx)), np.array(X_test1.columns)[sorted_idx])\n",
        "plt.title('Feature Importance')"
      ],
      "metadata": {
        "colab": {
          "base_uri": "https://localhost:8080/",
          "height": 410
        },
        "id": "RBiFtix3GMR0",
        "outputId": "d2f8d845-2d99-4036-9289-dded87c3c2e1"
      },
      "execution_count": null,
      "outputs": [
        {
          "output_type": "execute_result",
          "data": {
            "text/plain": [
              "Text(0.5, 1.0, 'Feature Importance')"
            ]
          },
          "metadata": {},
          "execution_count": 81
        },
        {
          "output_type": "display_data",
          "data": {
            "text/plain": [
              "<Figure size 864x432 with 1 Axes>"
            ],
            "image/png": "[encoded data removed]"
          },
          "metadata": {}
        }
      ]
    },
    {
      "cell_type": "markdown",
      "source": [
        "Now let's move on to the next model: Random Forest Classification Model; and check whether it out-performs the previous models"
      ],
      "metadata": {
        "id": "0Nxh9ueqycH2"
      }
    },
    {
      "cell_type": "markdown",
      "source": [
        "## Random Forest Classification Model"
      ],
      "metadata": {
        "id": "UOcAHkg3thyg"
      }
    },
    {
      "cell_type": "code",
      "source": [
        "acc_scores_rf = []\n",
        "roc_auc_scores_rf = []\n",
        "precision_scores_rf = []\n",
        "recall_scores_rf = []\n",
        "f1_scores_rf = []\n",
        "train_acc = []\n",
        "\n",
        "#Define the K-fold Cross Validator\n",
        "kfold = StratifiedKFold(n_splits = 10, shuffle=True, random_state=0)\n",
        "\n",
        "#K-fold Cross Validation model evaluation\n",
        "fold_no = 1\n",
        "for train, test in kfold.split(X_scaled, y_train):\n",
        "  print('------------------------------------------------------------------------')\n",
        "  print(f'Training for fold {fold_no} ...')\n",
        "  \n",
        "  randomForestClassifier = RandomForestClassifier(class_weight = 'balanced', random_state = 42)\n",
        "\n",
        "  randomForestClassifier.fit(X_scaled.iloc[train], y_train.iloc[train])\n",
        "  y_pred = randomForestClassifier.predict(X_scaled.iloc[test])\n",
        "\n",
        "  acc_scores_rf.append(accuracy_score(y_train.iloc[test], y_pred))\n",
        "\n",
        "  train_acc.append(accuracy_score(y_train.iloc[train], randomForestClassifier.predict(X_scaled.iloc[train])))\n",
        "  roc_auc_scores_rf.append(roc_auc_score(y_train.iloc[test], y_pred))\n",
        "  precision_scores_rf.append(precision_score(y_train.iloc[test], y_pred))\n",
        "  recall_scores_rf.append(recall_score(y_train.iloc[test], y_pred))\n",
        "  f1_scores_rf.append(f1_score(y_train.iloc[test], y_pred))\n",
        "\n",
        "  fold_no = fold_no + 1\n",
        "  \n",
        "print(f\"Accuracy Mean: {np.mean(acc_scores_rf)}\")\n",
        "print(f\"Accuracy Standard Deviation: {np.std(acc_scores_rf)}\")\n",
        "print(\"\\n\")\n",
        "print(f\"ROC-AUC Mean: {np.mean(roc_auc_scores_rf)}\")\n",
        "print(f\"ROC-AUC Standard Deviation: {np.std(roc_auc_scores_rf)}\")\n",
        "print(\"\\n\")\n",
        "print(f\"Precision Mean: {np.mean(precision_scores_rf)}\")\n",
        "print(f\"Precision Standard Deviation: {np.std(precision_scores_rf)}\")\n",
        "print(\"\\n\")\n",
        "print(f\"Recall Mean: {np.mean(recall_scores_rf)}\")\n",
        "print(f\"Recall Standard Deviation: {np.std(recall_scores_rf)}\")\n",
        "print(\"\\n\")\n",
        "print(f\"F1 Mean: {np.mean(f1_scores_rf)}\")\n",
        "print(f\"F1 Standard Deviation: {np.std(f1_scores_rf)}\")\n",
        "\n",
        "print(f\"train accuracy Mean: {np.mean(train_acc)}\")"
      ],
      "metadata": {
        "colab": {
          "base_uri": "https://localhost:8080/"
        },
        "id": "71QE65Bhc8zV",
        "outputId": "09590b9a-b8d9-4b84-9e08-c3949be52dd2"
      },
      "execution_count": null,
      "outputs": [
        {
          "output_type": "stream",
          "name": "stdout",
          "text": [
            "------------------------------------------------------------------------\n",
            "Training for fold 1 ...\n",
            "------------------------------------------------------------------------\n",
            "Training for fold 2 ...\n",
            "------------------------------------------------------------------------\n",
            "Training for fold 3 ...\n",
            "------------------------------------------------------------------------\n",
            "Training for fold 4 ...\n",
            "------------------------------------------------------------------------\n",
            "Training for fold 5 ...\n",
            "------------------------------------------------------------------------\n",
            "Training for fold 6 ...\n",
            "------------------------------------------------------------------------\n",
            "Training for fold 7 ...\n",
            "------------------------------------------------------------------------\n",
            "Training for fold 8 ...\n",
            "------------------------------------------------------------------------\n",
            "Training for fold 9 ...\n",
            "------------------------------------------------------------------------\n",
            "Training for fold 10 ...\n",
            "Accuracy Mean: 0.9844070840802868\n",
            "Accuracy Standard Deviation: 0.0020941855196441386\n",
            "\n",
            "\n",
            "ROC-AUC Mean: 0.9430067115308078\n",
            "ROC-AUC Standard Deviation: 0.007664457561986421\n",
            "\n",
            "\n",
            "Precision Mean: 1.0\n",
            "Precision Standard Deviation: 0.0\n",
            "\n",
            "\n",
            "Recall Mean: 0.8860134230616158\n",
            "Recall Standard Deviation: 0.015328915123972808\n",
            "\n",
            "\n",
            "F1 Mean: 0.9394916766722329\n",
            "F1 Standard Deviation: 0.0086724089145196\n",
            "train accuracy Mean: 1.0\n"
          ]
        }
      ]
    },
    {
      "cell_type": "code",
      "source": [
        "X_test1 = X_test.copy()\n",
        "\n",
        "X_test_scaled = rs.transform(X_test1)\n",
        "\n",
        "X_test_scaled.shape\n",
        "\n",
        "y_pred = randomForestClassifier.predict(X_test_scaled)\n",
        "\n",
        "y_prob = randomForestClassifier.predict_proba(X_test_scaled)[:,1]\n",
        "\n",
        "X_test1['pred'] = y_pred\n",
        "\n",
        "X_test1['prob'] = y_prob\n",
        "\n",
        "print('___________________VALIDATION RESULTS__________________________')\n",
        "print('\\n')\n",
        "print('Accuracy Score ->',round(accuracy_score(y_test, X_test1['pred']),))\n",
        "print('Precision Score ->',round(precision_score(y_test, X_test1['pred']),5))\n",
        "print('Recall Score ->',round(recall_score(y_test, X_test1['pred']),5))\n",
        "print('F1 Score ->',round(f1_score(y_test, X_test1['pred']),5))\n",
        "print('\\n')\n",
        "print('***Confusion Matrix***')\n",
        "confusion_matrix(y_test, X_test1['pred'])\n",
        "\n"
      ],
      "metadata": {
        "colab": {
          "base_uri": "https://localhost:8080/"
        },
        "id": "63yJl_AIjz2O",
        "outputId": "35dab66e-f416-477a-b071-21b48ede6de8"
      },
      "execution_count": null,
      "outputs": [
        {
          "output_type": "stream",
          "name": "stdout",
          "text": [
            "___________________VALIDATION RESULTS__________________________\n",
            "\n",
            "\n",
            "Accuracy Score -> 1\n",
            "Precision Score -> 0.99888\n",
            "Recall Score -> 0.87062\n",
            "F1 Score -> 0.93035\n",
            "\n",
            "\n",
            "***Confusion Matrix***\n"
          ]
        },
        {
          "output_type": "execute_result",
          "data": {
            "text/plain": [
              "array([[7073,    1],\n",
              "       [ 133,  895]])"
            ]
          },
          "metadata": {},
          "execution_count": 72
        }
      ]
    },
    {
      "cell_type": "code",
      "source": [
        "# generate a no skill prediction (majority class)\n",
        "ns_probs = [0 for _ in range(len(y_test))]\n",
        "\n",
        "# calculate scores\n",
        "ns_auc = roc_auc_score(y_test, ns_probs)\n",
        "rf_auc = roc_auc_score(y_test, y_prob)\n",
        "# summarize scores\n",
        "print('No Skill: ROC AUC=%.3f' % (ns_auc))\n",
        "print('RandomForest: ROC AUC=%.3f' % (rf_auc))\n",
        "# calculate roc curves\n",
        "ns_fpr, ns_tpr, _ = roc_curve(y_test, ns_probs)\n",
        "rf_fpr, rf_tpr, _ = roc_curve(y_test, y_prob)\n",
        "# plot the roc curve for the model\n",
        "plt.plot(ns_fpr, ns_tpr, linestyle='--', label='No Skill')\n",
        "plt.plot(rf_fpr, rf_tpr, marker='.', label='RandomForest')\n",
        "# axis labels\n",
        "plt.xlabel('False Positive Rate')\n",
        "plt.ylabel('True Positive Rate')\n",
        "# show the legend\n",
        "plt.legend()\n",
        "# show the plot\n",
        "plt.show()"
      ],
      "metadata": {
        "colab": {
          "base_uri": "https://localhost:8080/",
          "height": 872
        },
        "id": "rLT9qrhLk5dn",
        "outputId": "0988adf3-45c7-4def-e07b-222ac850ee95"
      },
      "execution_count": null,
      "outputs": [
        {
          "output_type": "stream",
          "name": "stdout",
          "text": [
            "No Skill: ROC AUC=0.500\n",
            "RandomForest: ROC AUC=0.999\n"
          ]
        },
        {
          "output_type": "display_data",
          "data": {
            "text/plain": [
              "<Figure size 1800x1296 with 1 Axes>"
            ],
            "image/png": "[encoded data removed]"
          },
          "metadata": {}
        }
      ]
    },
    {
      "cell_type": "markdown",
      "source": [
        "NOTE: For Train data:\n",
        "\n",
        "Precision: 1.0\n",
        "Recall: 0.89\n",
        "F1 score: 0.94\n",
        "\n",
        "Validation data:\n",
        "\n",
        "Precision: 0.99\n",
        "Recall: 0.87\n",
        "F1 score: 0.93\n",
        "\n",
        "There is no overfitting in the model, however, Decision Tree Classifier has given the best F1 score and in this problem, we would use Decision Tree Classifier as our final model for loan default classification.\n",
        "\n",
        "This situation has occured mainly because, Decision Tree itself is performing so well without any overfitting, that Random Forest (bagging ensemble) is not required to better the model and thus, it is not able to improve further in the model.\n",
        "\n",
        "Although, ROC-AUC for RF is much higher as compared to DT.\n",
        "\n",
        "Still, let's check whether RF performs better after hyper-parameter tuning."
      ],
      "metadata": {
        "id": "qzDcXe4c5M-k"
      }
    },
    {
      "cell_type": "markdown",
      "source": [
        "# Random Forest Classifier using Hyper-parameter tuning"
      ],
      "metadata": {
        "id": "RwG01eTwbo_K"
      }
    },
    {
      "cell_type": "code",
      "source": [
        "from sklearn.model_selection import RandomizedSearchCV\n",
        "# Random SearchCV for Hyper Parameter Tuning\n",
        "\n",
        "# Maximum number of levels in tree\n",
        "# Number of trees in random forest\n",
        "n_estimators = [int(x) for x in np.linspace(start = 100, stop = 800, num = 8)]\n",
        "max_depth = [int(x) for x in np.linspace(5, 25, num = 10)]\n",
        "max_features = ['auto', 'sqrt', 5, 6, 8, 10]\n",
        "\n",
        "random_grid = {'n_estimators': n_estimators,\n",
        "               'max_features': max_features,\n",
        "               'max_depth': max_depth}\n",
        "\n",
        "train_model = RandomForestClassifier(class_weight = 'balanced')\n",
        "\n",
        "# Random search of parameters, using 3 fold cross validation,\n",
        "# search across 100 different combinations, and use all available cores\n",
        "\n",
        "train_model_random = RandomizedSearchCV(estimator = train_model, param_distributions = random_grid, n_iter = 10, cv = 5, \n",
        "                                        verbose=2, random_state=42, n_jobs = -1)\n",
        "\n",
        "# Fit the random search model\n",
        "train_model_random.fit(X_train,y_train)\n",
        "\n",
        "print(train_model_random.best_params_)\n",
        "print(train_model_random.best_estimator_)"
      ],
      "metadata": {
        "colab": {
          "base_uri": "https://localhost:8080/"
        },
        "id": "AkJ6p6OORvrR",
        "outputId": "8fcf5a3a-cb08-4912-f3f8-a1cef418c36c"
      },
      "execution_count": null,
      "outputs": [
        {
          "output_type": "stream",
          "name": "stdout",
          "text": [
            "Fitting 5 folds for each of 10 candidates, totalling 50 fits\n",
            "{'n_estimators': 300, 'max_features': 'sqrt', 'max_depth': 25}\n",
            "RandomForestClassifier(class_weight='balanced', max_depth=25,\n",
            "                       max_features='sqrt', n_estimators=300)\n"
          ]
        }
      ]
    },
    {
      "cell_type": "code",
      "source": [
        "acc_scores_rf = []\n",
        "roc_auc_scores_rf = []\n",
        "precision_scores_rf = []\n",
        "recall_scores_rf = []\n",
        "f1_scores_rf = []\n",
        "train_acc = []\n",
        "\n",
        "#Define the K-fold Cross Validator\n",
        "kfold = StratifiedKFold(n_splits = 10, shuffle=True, random_state=0)\n",
        "\n",
        "#K-fold Cross Validation model evaluation\n",
        "fold_no = 1\n",
        "for train, test in kfold.split(X_scaled, y_train):\n",
        "  print('------------------------------------------------------------------------')\n",
        "  print(f'Training for fold {fold_no} ...')\n",
        "  \n",
        "  randomForestClassifier = RandomForestClassifier(class_weight='balanced', max_depth=22,\n",
        "                       max_features='sqrt', n_estimators=800)\n",
        "\n",
        "  randomForestClassifier.fit(X_scaled.iloc[train], y_train.iloc[train])\n",
        "  y_pred = randomForestClassifier.predict(X_scaled.iloc[test])\n",
        "\n",
        "  acc_scores_rf.append(accuracy_score(y_train.iloc[test], y_pred))\n",
        "\n",
        "  train_acc.append(accuracy_score(y_train.iloc[train], randomForestClassifier.predict(X_scaled.iloc[train])))\n",
        "  roc_auc_scores_rf.append(roc_auc_score(y_train.iloc[test], y_pred))\n",
        "  precision_scores_rf.append(precision_score(y_train.iloc[test], y_pred))\n",
        "  recall_scores_rf.append(recall_score(y_train.iloc[test], y_pred))\n",
        "  f1_scores_rf.append(f1_score(y_train.iloc[test], y_pred))\n",
        "\n",
        "  fold_no = fold_no + 1\n",
        "  \n",
        "print(f\"Accuracy Mean: {np.mean(acc_scores_rf)}\")\n",
        "print(f\"Accuracy Standard Deviation: {np.std(acc_scores_rf)}\")\n",
        "print(\"\\n\")\n",
        "print(f\"ROC-AUC Mean: {np.mean(roc_auc_scores_rf)}\")\n",
        "print(f\"ROC-AUC Standard Deviation: {np.std(roc_auc_scores_rf)}\")\n",
        "print(\"\\n\")\n",
        "print(f\"Precision Mean: {np.mean(precision_scores_rf)}\")\n",
        "print(f\"Precision Standard Deviation: {np.std(precision_scores_rf)}\")\n",
        "print(\"\\n\")\n",
        "print(f\"Recall Mean: {np.mean(recall_scores_rf)}\")\n",
        "print(f\"Recall Standard Deviation: {np.std(recall_scores_rf)}\")\n",
        "print(\"\\n\")\n",
        "print(f\"F1 Mean: {np.mean(f1_scores_rf)}\")\n",
        "print(f\"F1 Standard Deviation: {np.std(f1_scores_rf)}\")\n",
        "\n",
        "print(f\"train accuracy Mean: {np.mean(train_acc)}\")"
      ],
      "metadata": {
        "colab": {
          "base_uri": "https://localhost:8080/"
        },
        "id": "jvPoc-fcbLWK",
        "outputId": "6cadf9a7-58bb-42f7-ba38-a58dee716e9e"
      },
      "execution_count": null,
      "outputs": [
        {
          "output_type": "stream",
          "name": "stdout",
          "text": [
            "------------------------------------------------------------------------\n",
            "Training for fold 1 ...\n",
            "------------------------------------------------------------------------\n",
            "Training for fold 2 ...\n",
            "------------------------------------------------------------------------\n",
            "Training for fold 3 ...\n",
            "------------------------------------------------------------------------\n",
            "Training for fold 4 ...\n",
            "------------------------------------------------------------------------\n",
            "Training for fold 5 ...\n",
            "------------------------------------------------------------------------\n",
            "Training for fold 6 ...\n",
            "------------------------------------------------------------------------\n",
            "Training for fold 7 ...\n",
            "------------------------------------------------------------------------\n",
            "Training for fold 8 ...\n",
            "------------------------------------------------------------------------\n",
            "Training for fold 9 ...\n",
            "------------------------------------------------------------------------\n",
            "Training for fold 10 ...\n",
            "Accuracy Mean: 0.9847363191154042\n",
            "Accuracy Standard Deviation: 0.0027195286317864558\n",
            "\n",
            "\n",
            "ROC-AUC Mean: 0.9442115308079163\n",
            "ROC-AUC Standard Deviation: 0.009939399751075427\n",
            "\n",
            "\n",
            "Precision Mean: 1.0\n",
            "Precision Standard Deviation: 0.0\n",
            "\n",
            "\n",
            "Recall Mean: 0.8884230616158326\n",
            "Recall Standard Deviation: 0.019878799502150834\n",
            "\n",
            "\n",
            "F1 Mean: 0.9407977280469264\n",
            "F1 Standard Deviation: 0.011168144660704897\n",
            "train accuracy Mean: 1.0\n"
          ]
        }
      ]
    },
    {
      "cell_type": "code",
      "source": [
        "X_test1 = X_test.copy()\n",
        "\n",
        "X_test_scaled = rs.transform(X_test1)\n",
        "\n",
        "X_test_scaled.shape\n",
        "\n",
        "y_pred = randomForestClassifier.predict(X_test_scaled)\n",
        "\n",
        "y_prob = randomForestClassifier.predict_proba(X_test_scaled)[:,1]\n",
        "\n",
        "X_test1['pred'] = y_pred\n",
        "\n",
        "X_test1['prob'] = y_prob\n",
        "\n",
        "print('___________________VALIDATION RESULTS__________________________')\n",
        "print('\\n')\n",
        "print('Accuracy Score ->',round(accuracy_score(y_test, X_test1['pred']),))\n",
        "print('Precision Score ->',round(precision_score(y_test, X_test1['pred']),5))\n",
        "print('Recall Score ->',round(recall_score(y_test, X_test1['pred']),5))\n",
        "print('F1 Score ->',round(f1_score(y_test, X_test1['pred']),5))\n",
        "print('\\n')\n",
        "print('***Confusion Matrix***')\n",
        "confusion_matrix(y_test, X_test1['pred'])"
      ],
      "metadata": {
        "colab": {
          "base_uri": "https://localhost:8080/"
        },
        "id": "WeoKuvd4euZA",
        "outputId": "68842308-80fd-43a9-851e-5ce45a49f60e"
      },
      "execution_count": null,
      "outputs": [
        {
          "output_type": "stream",
          "name": "stdout",
          "text": [
            "___________________VALIDATION RESULTS__________________________\n",
            "\n",
            "\n",
            "Accuracy Score -> 1\n",
            "Precision Score -> 0.99889\n",
            "Recall Score -> 0.8716\n",
            "F1 Score -> 0.93091\n",
            "\n",
            "\n",
            "***Confusion Matrix***\n"
          ]
        },
        {
          "output_type": "execute_result",
          "data": {
            "text/plain": [
              "array([[7073,    1],\n",
              "       [ 132,  896]])"
            ]
          },
          "metadata": {},
          "execution_count": 79
        }
      ]
    },
    {
      "cell_type": "markdown",
      "source": [
        "NOTE: Even after hyper-parameter tuning, the model performance did not improve to a great extent.\n",
        "\n",
        "Therefore, Decision Tree Classifier is the best model to be used in this project as mentioned before."
      ],
      "metadata": {
        "id": "kXH5muKHe8F-"
      }
    },
    {
      "cell_type": "markdown",
      "source": [
        "# Feature Importance Plot for Random Forest model"
      ],
      "metadata": {
        "id": "ORguUsekFjWN"
      }
    },
    {
      "cell_type": "code",
      "source": [
        "model=RandomForestClassifier(class_weight='balanced', max_depth=22,\n",
        "                       max_features='sqrt', n_estimators=800)\n",
        "model.fit(X_train,y_train)\n",
        "feature_importance = model.feature_importances_\n",
        "sorted_idx = np.argsort(feature_importance)\n",
        "sorted_idx=sorted_idx[-10:len(sorted_idx)]\n",
        "fig = plt.figure(figsize=(12, 6))\n",
        "plt.barh(range(len(sorted_idx)), feature_importance[sorted_idx], align='center')\n",
        "plt.yticks(range(len(sorted_idx)), np.array(X_test1.columns)[sorted_idx])\n",
        "plt.title('Feature Importance')"
      ],
      "metadata": {
        "colab": {
          "base_uri": "https://localhost:8080/",
          "height": 410
        },
        "id": "5_dAZI8UFoxx",
        "outputId": "d131629b-5d11-4b1d-c32a-40ae702a7a7a"
      },
      "execution_count": null,
      "outputs": [
        {
          "output_type": "execute_result",
          "data": {
            "text/plain": [
              "Text(0.5, 1.0, 'Feature Importance')"
            ]
          },
          "metadata": {},
          "execution_count": 80
        },
        {
          "output_type": "display_data",
          "data": {
            "text/plain": [
              "<Figure size 864x432 with 1 Axes>"
            ],
            "image/png": "[encoded data removed]"
          },
          "metadata": {}
        }
      ]
    },
    {
      "cell_type": "markdown",
      "source": [
        "# CONCLUSION"
      ],
      "metadata": {
        "id": "6SYCtZI06N1-"
      }
    },
    {
      "cell_type": "markdown",
      "source": [
        "In this project, we are able to obtain the best model, that is, Decision Tree, which is able to classify a potential borrower into default or non-default with an F1 score of 0.96. \n",
        "\n",
        "This model would help various financial companies to identify typical behaviour in borrowers and predict whether they would be unable to pay their debt before allowing them to borrow and thus reduce their risk of losing money by lending to borrowers who would have high chance of defaulting."
      ],
      "metadata": {
        "id": "V0EjPclI6Qv3"
      }
    }
  ]
}